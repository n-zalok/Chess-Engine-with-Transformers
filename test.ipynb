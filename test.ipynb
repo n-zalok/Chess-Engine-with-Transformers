{
 "cells": [
  {
   "cell_type": "code",
   "execution_count": 1,
   "id": "fecb11e6",
   "metadata": {},
   "outputs": [],
   "source": [
    "import chess\n",
    "import chess.engine\n",
    "import pipe\n",
    "import torch\n",
    "from tqdm import tqdm"
   ]
  },
  {
   "cell_type": "code",
   "execution_count": 2,
   "id": "546684da",
   "metadata": {},
   "outputs": [],
   "source": [
    "# Path to your stockfish binary\n",
    "STOCKFISH_PATH = \"/home/noor-zalouk/ME/NLP/Chess/stockfish/stockfish-ubuntu-x86-64-avx2\"\n",
    "\n",
    "device = \"cpu\"\n",
    "\n",
    "model = pipe.arch.ChessMoveClassifier(pipe.config, device)\n",
    "state_dict = torch.load('./chess_model.pth')\n",
    "model.load_state_dict(state_dict)\n",
    "\n",
    "best_configs = [(2, 6), (4, 4), (9, 3)] # (k, depth)"
   ]
  },
  {
   "cell_type": "code",
   "execution_count": 3,
   "id": "0f9b2ab1",
   "metadata": {},
   "outputs": [
    {
     "data": {
      "text/plain": [
       "True"
      ]
     },
     "execution_count": 3,
     "metadata": {},
     "output_type": "execute_result"
    }
   ],
   "source": [
    "board = chess.Board(\"8/8/8/8/8/8/8/k7 w - - 0 1\")\n",
    "board.is_game_over()"
   ]
  },
  {
   "cell_type": "code",
   "execution_count": 4,
   "id": "fc1c4728",
   "metadata": {},
   "outputs": [],
   "source": [
    "# --- Match loop ---\n",
    "def play_matches(depth, k, n_games=50, opponent_level=5):\n",
    "    results = []\n",
    "    with chess.engine.SimpleEngine.popen_uci(STOCKFISH_PATH) as sf:\n",
    "        # Limit Stockfish strength (so it's not crushing you always)\n",
    "        sf.configure({\"Skill Level\": opponent_level})\n",
    "\n",
    "        loop = tqdm(range(n_games), desc=f\"Playing {n_games} games with depth={depth}, k={k}\")\n",
    "        for g in loop:\n",
    "            board = chess.Board()\n",
    "            while not board.is_game_over():\n",
    "                if board.turn:\n",
    "                    # Your engine plays White\n",
    "                    move, _, _ = pipe.choose_move(board, model, device, depth=depth, k=k)\n",
    "                    move = move[0]\n",
    "                else:\n",
    "                    # Stockfish move\n",
    "                    result = sf.play(board, chess.engine.Limit(depth=8))\n",
    "                    move = result.move\n",
    "\n",
    "                board.push(move)\n",
    "\n",
    "            # Collect result\n",
    "            outcome = board.result()\n",
    "            if outcome == \"1-0\":\n",
    "                results.append(1)      # win\n",
    "            elif outcome == \"0-1\":\n",
    "                results.append(0)      # loss\n",
    "            else:\n",
    "                results.append(0.5)    # draw\n",
    "\n",
    "    return results"
   ]
  },
  {
   "cell_type": "code",
   "execution_count": 5,
   "id": "3ac2d34e",
   "metadata": {},
   "outputs": [
    {
     "name": "stderr",
     "output_type": "stream",
     "text": [
      "Playing 50 games with depth=6, k=2: 100%|██████████| 50/50 [1:00:34<00:00, 72.68s/it] \n",
      "Playing 50 games with depth=4, k=4: 100%|██████████| 50/50 [1:07:31<00:00, 81.03s/it] \n",
      "Playing 50 games with depth=3, k=9: 100%|██████████| 50/50 [52:14<00:00, 62.70s/it] \n"
     ]
    }
   ],
   "source": [
    "outcomes = {}\n",
    "for k, depth in best_configs:\n",
    "    outcomes[f\"Depth={depth}__K={k}\"] = play_matches(depth, k, n_games=50, opponent_level=5)"
   ]
  },
  {
   "cell_type": "code",
   "execution_count": 9,
   "id": "fbfd22c1",
   "metadata": {},
   "outputs": [],
   "source": [
    "import pickle\n",
    "with open(\"results.pkl\", \"wb\") as f:\n",
    "    pickle.dump(outcomes, f)"
   ]
  },
  {
   "cell_type": "code",
   "execution_count": null,
   "id": "5a91e4af",
   "metadata": {},
   "outputs": [],
   "source": [
    "import pandas as pd\n",
    "\n",
    "df = pd.DataFrame(outcomes)"
   ]
  },
  {
   "cell_type": "code",
   "execution_count": 11,
   "id": "194d7f45",
   "metadata": {},
   "outputs": [
    {
     "data": {
      "image/png": "[encoded data removed]",
      "text/plain": [
       "<Figure size 640x480 with 1 Axes>"
      ]
     },
     "metadata": {},
     "output_type": "display_data"
    }
   ],
   "source": [
    "import matplotlib.pyplot as plt\n",
    "\n",
    "df.plot.hist(bins=10, alpha=0.5)\n",
    "plt.title('Games outcomes by Config')\n",
    "plt.xlabel('Config')\n",
    "plt.ylabel('Frequency')\n",
    "plt.legend(title='Columns')\n",
    "plt.show()"
   ]
  },
  {
   "cell_type": "code",
   "execution_count": 16,
   "id": "4e247611",
   "metadata": {},
   "outputs": [],
   "source": [
    "import math\n",
    "\n",
    "def expected_score(rating_a, rating_b):\n",
    "    return 1 / (1 + 10 ** ((rating_b - rating_a) / 400))\n",
    "\n",
    "def estimate_elo(score, opponent_elo):\n",
    "    # Solve for your rating based on expected score\n",
    "    if score in [0, 1]:\n",
    "        return None  # Can't solve if always loses or always wins\n",
    "    return opponent_elo - 400 * math.log10(1/score - 1)"
   ]
  },
  {
   "cell_type": "code",
   "execution_count": 18,
   "id": "14dbc3ec",
   "metadata": {},
   "outputs": [
    {
     "data": {
      "text/plain": [
       "1201.7459221609802"
      ]
     },
     "execution_count": 18,
     "metadata": {},
     "output_type": "execute_result"
    }
   ],
   "source": [
    "estimate_elo(df['Depth=4__K=4'].mean(), 2000)  # Example with opponent elo of 1500"
   ]
  },
  {
   "cell_type": "code",
   "execution_count": null,
   "id": "e07c2e06",
   "metadata": {},
   "outputs": [],
   "source": []
  }
 ],
 "metadata": {
  "kernelspec": {
   "display_name": "base",
   "language": "python",
   "name": "python3"
  },
  "language_info": {
   "codemirror_mode": {
    "name": "ipython",
    "version": 3
   },
   "file_extension": ".py",
   "mimetype": "text/x-python",
   "name": "python",
   "nbconvert_exporter": "python",
   "pygments_lexer": "ipython3",
   "version": "3.13.5"
  }
 },
 "nbformat": 4,
 "nbformat_minor": 5
}
