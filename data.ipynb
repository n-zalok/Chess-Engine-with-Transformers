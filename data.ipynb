{
 "cells": [
  {
   "cell_type": "markdown",
   "id": "1d7a3b0b",
   "metadata": {},
   "source": [
    "# Loading the Dataset"
   ]
  },
  {
   "cell_type": "code",
   "execution_count": 1,
   "id": "019c5c6d",
   "metadata": {},
   "outputs": [
    {
     "data": {
      "application/vnd.jupyter.widget-view+json": {
       "model_id": "d1a92c8cdbd24547acd6398b665c8929",
       "version_major": 2,
       "version_minor": 0
      },
      "text/plain": [
       "Resolving data files:   0%|          | 0/65 [00:00<?, ?it/s]"
      ]
     },
     "metadata": {},
     "output_type": "display_data"
    },
    {
     "data": {
      "application/vnd.jupyter.widget-view+json": {
       "model_id": "184dd54864a74ba9b2aec7dd4b0701ce",
       "version_major": 2,
       "version_minor": 0
      },
      "text/plain": [
       "Resolving data files:   0%|          | 0/65 [00:00<?, ?it/s]"
      ]
     },
     "metadata": {},
     "output_type": "display_data"
    },
    {
     "data": {
      "text/plain": [
       "DatasetDict({\n",
       "    train: Dataset({\n",
       "        features: ['Event', 'Site', 'White', 'Black', 'Result', 'WhiteTitle', 'BlackTitle', 'WhiteFideId', 'BlackFideId', 'WhiteElo', 'BlackElo', 'UTCDate', 'UTCTime', 'ECO', 'Opening', 'Termination', 'TimeControl', 'Board', 'Variant', 'StudyName', 'ChapterName', 'BroadcastName', 'BroadcastURL', 'GameURL', 'movetext'],\n",
       "        num_rows: 733234\n",
       "    })\n",
       "})"
      ]
     },
     "execution_count": 1,
     "metadata": {},
     "output_type": "execute_result"
    }
   ],
   "source": [
    "from datasets import load_dataset\n",
    "\n",
    "# Login using e.g. `huggingface-cli login` to access this dataset\n",
    "ds = load_dataset(\"Lichess/tournament-chess-games\")\n",
    "ds"
   ]
  },
  {
   "cell_type": "code",
   "execution_count": 2,
   "id": "4a6f5b1d",
   "metadata": {},
   "outputs": [],
   "source": [
    "columns = list(ds['train'].features.keys())\n",
    "columns.remove('WhiteElo')\n",
    "columns.remove('BlackElo')\n",
    "columns.remove('movetext')\n",
    "columns.remove('Variant')"
   ]
  },
  {
   "cell_type": "code",
   "execution_count": 3,
   "id": "6da12c46",
   "metadata": {},
   "outputs": [
    {
     "data": {
      "text/plain": [
       "DatasetDict({\n",
       "    train: Dataset({\n",
       "        features: ['WhiteElo', 'BlackElo', 'Variant', 'movetext'],\n",
       "        num_rows: 733234\n",
       "    })\n",
       "})"
      ]
     },
     "execution_count": 3,
     "metadata": {},
     "output_type": "execute_result"
    }
   ],
   "source": [
    "ds['train'] = ds['train'].remove_columns(columns)\n",
    "ds"
   ]
  },
  {
   "cell_type": "markdown",
   "id": "5ef6d794",
   "metadata": {},
   "source": [
    "# Processing the Dataset"
   ]
  },
  {
   "cell_type": "markdown",
   "id": "e49cbdfd",
   "metadata": {},
   "source": [
    "### Selecting a Subset"
   ]
  },
  {
   "cell_type": "code",
   "execution_count": 4,
   "id": "c6eecf08",
   "metadata": {},
   "outputs": [
    {
     "data": {
      "text/html": [
       "<div>\n",
       "<style scoped>\n",
       "    .dataframe tbody tr th:only-of-type {\n",
       "        vertical-align: middle;\n",
       "    }\n",
       "\n",
       "    .dataframe tbody tr th {\n",
       "        vertical-align: top;\n",
       "    }\n",
       "\n",
       "    .dataframe thead th {\n",
       "        text-align: right;\n",
       "    }\n",
       "</style>\n",
       "<table border=\"1\" class=\"dataframe\">\n",
       "  <thead>\n",
       "    <tr style=\"text-align: right;\">\n",
       "      <th></th>\n",
       "      <th>WhiteElo</th>\n",
       "      <th>BlackElo</th>\n",
       "      <th>Variant</th>\n",
       "      <th>movetext</th>\n",
       "    </tr>\n",
       "  </thead>\n",
       "  <tbody>\n",
       "    <tr>\n",
       "      <th>0</th>\n",
       "      <td>2578.0</td>\n",
       "      <td>2584.0</td>\n",
       "      <td>Standard</td>\n",
       "      <td>1. d4 { [%eval 0.25] [%clk 1:30:43] } 1... Nf6...</td>\n",
       "    </tr>\n",
       "    <tr>\n",
       "      <th>1</th>\n",
       "      <td>2584.0</td>\n",
       "      <td>2578.0</td>\n",
       "      <td>Standard</td>\n",
       "      <td>1. e4 { [%eval 0.24] [%clk 1:30:54] } 1... e5 ...</td>\n",
       "    </tr>\n",
       "    <tr>\n",
       "      <th>2</th>\n",
       "      <td>2578.0</td>\n",
       "      <td>2584.0</td>\n",
       "      <td>Standard</td>\n",
       "      <td>1. d4 { [%eval 0.25] [%clk 1:30:40] } 1... Nf6...</td>\n",
       "    </tr>\n",
       "    <tr>\n",
       "      <th>3</th>\n",
       "      <td>2584.0</td>\n",
       "      <td>2578.0</td>\n",
       "      <td>Standard</td>\n",
       "      <td>1. d4 { [%eval 0.25] [%clk 1:30:56] } 1... d5 ...</td>\n",
       "    </tr>\n",
       "    <tr>\n",
       "      <th>4</th>\n",
       "      <td>2578.0</td>\n",
       "      <td>2584.0</td>\n",
       "      <td>Standard</td>\n",
       "      <td>1. c4 { [%eval 0.16] [%clk 1:30:49] } 1... Nf6...</td>\n",
       "    </tr>\n",
       "    <tr>\n",
       "      <th>...</th>\n",
       "      <td>...</td>\n",
       "      <td>...</td>\n",
       "      <td>...</td>\n",
       "      <td>...</td>\n",
       "    </tr>\n",
       "    <tr>\n",
       "      <th>733229</th>\n",
       "      <td>1979.0</td>\n",
       "      <td>1874.0</td>\n",
       "      <td>Standard</td>\n",
       "      <td>1. d4 { [%eval 0.17] [%clk 1:30:59] } 1... Nf6...</td>\n",
       "    </tr>\n",
       "    <tr>\n",
       "      <th>733230</th>\n",
       "      <td>1951.0</td>\n",
       "      <td>1810.0</td>\n",
       "      <td>Standard</td>\n",
       "      <td>1. e4 { [%eval 0.18] [%clk 1:30:57] } 1... c5 ...</td>\n",
       "    </tr>\n",
       "    <tr>\n",
       "      <th>733231</th>\n",
       "      <td>1825.0</td>\n",
       "      <td>1948.0</td>\n",
       "      <td>Standard</td>\n",
       "      <td>1. e4 { [%eval 0.18] [%clk 1:30:25] } 1... c6 ...</td>\n",
       "    </tr>\n",
       "    <tr>\n",
       "      <th>733232</th>\n",
       "      <td>1758.0</td>\n",
       "      <td>1940.0</td>\n",
       "      <td>Standard</td>\n",
       "      <td>1. d4 { [%eval 0.17] [%clk 1:30:57] } 1... d5 ...</td>\n",
       "    </tr>\n",
       "    <tr>\n",
       "      <th>733233</th>\n",
       "      <td>2047.0</td>\n",
       "      <td>1817.0</td>\n",
       "      <td>Standard</td>\n",
       "      <td>1. c4 { [%eval 0.12] [%clk 1:30:56] } 1... e6 ...</td>\n",
       "    </tr>\n",
       "  </tbody>\n",
       "</table>\n",
       "<p>545557 rows × 4 columns</p>\n",
       "</div>"
      ],
      "text/plain": [
       "        WhiteElo  BlackElo   Variant  \\\n",
       "0         2578.0    2584.0  Standard   \n",
       "1         2584.0    2578.0  Standard   \n",
       "2         2578.0    2584.0  Standard   \n",
       "3         2584.0    2578.0  Standard   \n",
       "4         2578.0    2584.0  Standard   \n",
       "...          ...       ...       ...   \n",
       "733229    1979.0    1874.0  Standard   \n",
       "733230    1951.0    1810.0  Standard   \n",
       "733231    1825.0    1948.0  Standard   \n",
       "733232    1758.0    1940.0  Standard   \n",
       "733233    2047.0    1817.0  Standard   \n",
       "\n",
       "                                                 movetext  \n",
       "0       1. d4 { [%eval 0.25] [%clk 1:30:43] } 1... Nf6...  \n",
       "1       1. e4 { [%eval 0.24] [%clk 1:30:54] } 1... e5 ...  \n",
       "2       1. d4 { [%eval 0.25] [%clk 1:30:40] } 1... Nf6...  \n",
       "3       1. d4 { [%eval 0.25] [%clk 1:30:56] } 1... d5 ...  \n",
       "4       1. c4 { [%eval 0.16] [%clk 1:30:49] } 1... Nf6...  \n",
       "...                                                   ...  \n",
       "733229  1. d4 { [%eval 0.17] [%clk 1:30:59] } 1... Nf6...  \n",
       "733230  1. e4 { [%eval 0.18] [%clk 1:30:57] } 1... c5 ...  \n",
       "733231  1. e4 { [%eval 0.18] [%clk 1:30:25] } 1... c6 ...  \n",
       "733232  1. d4 { [%eval 0.17] [%clk 1:30:57] } 1... d5 ...  \n",
       "733233  1. c4 { [%eval 0.12] [%clk 1:30:56] } 1... e6 ...  \n",
       "\n",
       "[545557 rows x 4 columns]"
      ]
     },
     "execution_count": 4,
     "metadata": {},
     "output_type": "execute_result"
    }
   ],
   "source": [
    "import pandas as pd\n",
    "\n",
    "df = pd.DataFrame(ds['train'][:])\n",
    "df.dropna(how='any', inplace=True)\n",
    "df"
   ]
  },
  {
   "cell_type": "code",
   "execution_count": 5,
   "id": "df153d8a",
   "metadata": {},
   "outputs": [
    {
     "data": {
      "text/html": [
       "<div>\n",
       "<style scoped>\n",
       "    .dataframe tbody tr th:only-of-type {\n",
       "        vertical-align: middle;\n",
       "    }\n",
       "\n",
       "    .dataframe tbody tr th {\n",
       "        vertical-align: top;\n",
       "    }\n",
       "\n",
       "    .dataframe thead th {\n",
       "        text-align: right;\n",
       "    }\n",
       "</style>\n",
       "<table border=\"1\" class=\"dataframe\">\n",
       "  <thead>\n",
       "    <tr style=\"text-align: right;\">\n",
       "      <th></th>\n",
       "      <th>WhiteElo</th>\n",
       "      <th>BlackElo</th>\n",
       "    </tr>\n",
       "  </thead>\n",
       "  <tbody>\n",
       "    <tr>\n",
       "      <th>count</th>\n",
       "      <td>5.455570e+05</td>\n",
       "      <td>5.455570e+05</td>\n",
       "    </tr>\n",
       "    <tr>\n",
       "      <th>mean</th>\n",
       "      <td>2.076021e+03</td>\n",
       "      <td>2.080754e+03</td>\n",
       "    </tr>\n",
       "    <tr>\n",
       "      <th>std</th>\n",
       "      <td>7.221848e+03</td>\n",
       "      <td>1.018806e+04</td>\n",
       "    </tr>\n",
       "    <tr>\n",
       "      <th>min</th>\n",
       "      <td>0.000000e+00</td>\n",
       "      <td>0.000000e+00</td>\n",
       "    </tr>\n",
       "    <tr>\n",
       "      <th>25%</th>\n",
       "      <td>1.831000e+03</td>\n",
       "      <td>1.828000e+03</td>\n",
       "    </tr>\n",
       "    <tr>\n",
       "      <th>50%</th>\n",
       "      <td>2.120000e+03</td>\n",
       "      <td>2.116000e+03</td>\n",
       "    </tr>\n",
       "    <tr>\n",
       "      <th>75%</th>\n",
       "      <td>2.384000e+03</td>\n",
       "      <td>2.382000e+03</td>\n",
       "    </tr>\n",
       "    <tr>\n",
       "      <th>max</th>\n",
       "      <td>5.324491e+06</td>\n",
       "      <td>5.327130e+06</td>\n",
       "    </tr>\n",
       "  </tbody>\n",
       "</table>\n",
       "</div>"
      ],
      "text/plain": [
       "           WhiteElo      BlackElo\n",
       "count  5.455570e+05  5.455570e+05\n",
       "mean   2.076021e+03  2.080754e+03\n",
       "std    7.221848e+03  1.018806e+04\n",
       "min    0.000000e+00  0.000000e+00\n",
       "25%    1.831000e+03  1.828000e+03\n",
       "50%    2.120000e+03  2.116000e+03\n",
       "75%    2.384000e+03  2.382000e+03\n",
       "max    5.324491e+06  5.327130e+06"
      ]
     },
     "execution_count": 5,
     "metadata": {},
     "output_type": "execute_result"
    }
   ],
   "source": [
    "df.describe()"
   ]
  },
  {
   "cell_type": "code",
   "execution_count": 6,
   "id": "259d12c3",
   "metadata": {},
   "outputs": [
    {
     "name": "stdout",
     "output_type": "stream",
     "text": [
      "Percentage of gamse with (WhiteElolen >= 2000): 14.15%\n"
     ]
    }
   ],
   "source": [
    "idx = df['WhiteElo'] >= 2500\n",
    "print(f'Percentage of gamse with (WhiteElolen >= 2000): {(len(df[idx]) / len(df)):.2%}')"
   ]
  },
  {
   "cell_type": "code",
   "execution_count": 7,
   "id": "e7f2255b",
   "metadata": {},
   "outputs": [
    {
     "name": "stdout",
     "output_type": "stream",
     "text": [
      "Percentage of remaining dataset: 8.19%\n"
     ]
    }
   ],
   "source": [
    "df = df[df['Variant'] == 'Standard']\n",
    "og_len = len(df)\n",
    "df = df[df['WhiteElo'] >= 2500] \n",
    "df = df[df['BlackElo'] >= 2500]\n",
    "print(f'Percentage of remaining dataset: {len(df) / og_len:.2%}')"
   ]
  },
  {
   "cell_type": "code",
   "execution_count": 8,
   "id": "b72d9206",
   "metadata": {},
   "outputs": [],
   "source": [
    "df = df.drop(columns=['Variant', 'WhiteElo', 'BlackElo'])"
   ]
  },
  {
   "cell_type": "code",
   "execution_count": 9,
   "id": "6d719b12",
   "metadata": {},
   "outputs": [
    {
     "data": {
      "text/plain": [
       "movetext    1. d4 { [%eval 0.25] [%clk 1:30:43] } 1... Nf6...\n",
       "Name: 0, dtype: object"
      ]
     },
     "execution_count": 9,
     "metadata": {},
     "output_type": "execute_result"
    }
   ],
   "source": [
    "df.loc[0]"
   ]
  },
  {
   "cell_type": "markdown",
   "id": "a2d3a781",
   "metadata": {},
   "source": [
    "### Transform movetext to Standard PGN"
   ]
  },
  {
   "cell_type": "code",
   "execution_count": 10,
   "id": "2d379571",
   "metadata": {},
   "outputs": [],
   "source": [
    "import re\n",
    "\n",
    "def clean_movetext(row):\n",
    "    text = row['movetext']\n",
    "    cleaned = re.sub(r\"\\{.*?\\}\", \"\", text) \n",
    "    cleaned = re.sub(r\"[\\?!]+\", \"\", cleaned)\n",
    "    cleaned = re.sub(r\"\\d+\\.\\.\\.\", \"\", cleaned)\n",
    "    cleaned = re.sub(r\"\\s+\", \" \", cleaned).strip()\n",
    "    \n",
    "    return cleaned\n"
   ]
  },
  {
   "cell_type": "code",
   "execution_count": 11,
   "id": "57162008",
   "metadata": {},
   "outputs": [
    {
     "data": {
      "text/html": [
       "<div>\n",
       "<style scoped>\n",
       "    .dataframe tbody tr th:only-of-type {\n",
       "        vertical-align: middle;\n",
       "    }\n",
       "\n",
       "    .dataframe tbody tr th {\n",
       "        vertical-align: top;\n",
       "    }\n",
       "\n",
       "    .dataframe thead th {\n",
       "        text-align: right;\n",
       "    }\n",
       "</style>\n",
       "<table border=\"1\" class=\"dataframe\">\n",
       "  <thead>\n",
       "    <tr style=\"text-align: right;\">\n",
       "      <th></th>\n",
       "      <th>movetext</th>\n",
       "    </tr>\n",
       "  </thead>\n",
       "  <tbody>\n",
       "    <tr>\n",
       "      <th>0</th>\n",
       "      <td>1. d4 Nf6 2. c4 e6 3. Nf3 d5 4. Nc3 Be7 5. g3 ...</td>\n",
       "    </tr>\n",
       "    <tr>\n",
       "      <th>1</th>\n",
       "      <td>1. e4 e5 2. Nf3 Nc6 3. Bb5 Nf6 4. O-O Nxe4 5. ...</td>\n",
       "    </tr>\n",
       "    <tr>\n",
       "      <th>2</th>\n",
       "      <td>1. d4 Nf6 2. c4 e6 3. Nf3 d5 4. Nc3 c5 5. cxd5...</td>\n",
       "    </tr>\n",
       "    <tr>\n",
       "      <th>3</th>\n",
       "      <td>1. d4 d5 2. c4 c6 3. Nf3 Nf6 4. Nc3 dxc4 5. a4...</td>\n",
       "    </tr>\n",
       "    <tr>\n",
       "      <th>4</th>\n",
       "      <td>1. c4 Nf6 2. Nc3 e6 3. e4 d5 4. cxd5 exd5 5. e...</td>\n",
       "    </tr>\n",
       "    <tr>\n",
       "      <th>...</th>\n",
       "      <td>...</td>\n",
       "    </tr>\n",
       "    <tr>\n",
       "      <th>733182</th>\n",
       "      <td>1. d4 d6 2. Nf3 Nf6 3. g3 g6 4. Bg2 Bg7 5. c4 ...</td>\n",
       "    </tr>\n",
       "    <tr>\n",
       "      <th>733183</th>\n",
       "      <td>1. e4 c5 2. Nf3 e6 3. d3 Nc6 4. g3 Nf6 5. Bg2 ...</td>\n",
       "    </tr>\n",
       "    <tr>\n",
       "      <th>733196</th>\n",
       "      <td>1. Nf3 d5 2. c4 e6 3. d4 Nf6 4. Nc3 a6 5. cxd5...</td>\n",
       "    </tr>\n",
       "    <tr>\n",
       "      <th>733197</th>\n",
       "      <td>1. e4 c6 2. d4 d5 3. exd5 cxd5 4. Bd3 Nc6 5. c...</td>\n",
       "    </tr>\n",
       "    <tr>\n",
       "      <th>733198</th>\n",
       "      <td>1. e4 e5 2. Nf3 Nc6 3. Bc4 Nf6 4. d3 Bc5 5. c3...</td>\n",
       "    </tr>\n",
       "  </tbody>\n",
       "</table>\n",
       "<p>44453 rows × 1 columns</p>\n",
       "</div>"
      ],
      "text/plain": [
       "                                                 movetext\n",
       "0       1. d4 Nf6 2. c4 e6 3. Nf3 d5 4. Nc3 Be7 5. g3 ...\n",
       "1       1. e4 e5 2. Nf3 Nc6 3. Bb5 Nf6 4. O-O Nxe4 5. ...\n",
       "2       1. d4 Nf6 2. c4 e6 3. Nf3 d5 4. Nc3 c5 5. cxd5...\n",
       "3       1. d4 d5 2. c4 c6 3. Nf3 Nf6 4. Nc3 dxc4 5. a4...\n",
       "4       1. c4 Nf6 2. Nc3 e6 3. e4 d5 4. cxd5 exd5 5. e...\n",
       "...                                                   ...\n",
       "733182  1. d4 d6 2. Nf3 Nf6 3. g3 g6 4. Bg2 Bg7 5. c4 ...\n",
       "733183  1. e4 c5 2. Nf3 e6 3. d3 Nc6 4. g3 Nf6 5. Bg2 ...\n",
       "733196  1. Nf3 d5 2. c4 e6 3. d4 Nf6 4. Nc3 a6 5. cxd5...\n",
       "733197  1. e4 c6 2. d4 d5 3. exd5 cxd5 4. Bd3 Nc6 5. c...\n",
       "733198  1. e4 e5 2. Nf3 Nc6 3. Bc4 Nf6 4. d3 Bc5 5. c3...\n",
       "\n",
       "[44453 rows x 1 columns]"
      ]
     },
     "execution_count": 11,
     "metadata": {},
     "output_type": "execute_result"
    }
   ],
   "source": [
    "df['movetext'] = df.apply(clean_movetext, axis=1)\n",
    "df"
   ]
  },
  {
   "cell_type": "markdown",
   "id": "2799100a",
   "metadata": {},
   "source": [
    "### Game Lenghth Distribution"
   ]
  },
  {
   "cell_type": "code",
   "execution_count": 12,
   "id": "c60f7bc0",
   "metadata": {},
   "outputs": [
    {
     "data": {
      "image/png": "[encoded data removed]",
      "text/plain": [
       "<Figure size 1000x600 with 1 Axes>"
      ]
     },
     "metadata": {},
     "output_type": "display_data"
    }
   ],
   "source": [
    "import matplotlib.pyplot as plt\n",
    "\n",
    "df['length'] = df['movetext'].apply(lambda x: len(x.split('.')))\n",
    "\n",
    "plt.figure(figsize=(10, 6))\n",
    "plt.hist(df['length'], bins=50, color='blue', edgecolor='black')\n",
    "plt.title('Distribution of Move Text Lengths')\n",
    "plt.xlabel('Number of Moves')\n",
    "plt.ylabel('Frequency')\n",
    "plt.grid(axis='y')\n",
    "plt.show()"
   ]
  },
  {
   "cell_type": "code",
   "execution_count": 13,
   "id": "4e4a9779",
   "metadata": {},
   "outputs": [],
   "source": [
    "df.drop(columns=['length'], inplace=True)"
   ]
  },
  {
   "cell_type": "markdown",
   "id": "5e4e6696",
   "metadata": {},
   "source": [
    "### Splitting the Dataset"
   ]
  },
  {
   "cell_type": "code",
   "execution_count": 14,
   "id": "946acf63",
   "metadata": {},
   "outputs": [
    {
     "data": {
      "text/html": [
       "<div>\n",
       "<style scoped>\n",
       "    .dataframe tbody tr th:only-of-type {\n",
       "        vertical-align: middle;\n",
       "    }\n",
       "\n",
       "    .dataframe tbody tr th {\n",
       "        vertical-align: top;\n",
       "    }\n",
       "\n",
       "    .dataframe thead th {\n",
       "        text-align: right;\n",
       "    }\n",
       "</style>\n",
       "<table border=\"1\" class=\"dataframe\">\n",
       "  <thead>\n",
       "    <tr style=\"text-align: right;\">\n",
       "      <th></th>\n",
       "      <th>movetext</th>\n",
       "    </tr>\n",
       "  </thead>\n",
       "  <tbody>\n",
       "    <tr>\n",
       "      <th>311844</th>\n",
       "      <td>1. e4 c5 2. Nf3 Nc6 3. Bb5 e6 4. O-O Nge7 5. R...</td>\n",
       "    </tr>\n",
       "    <tr>\n",
       "      <th>116088</th>\n",
       "      <td>1. d4 Nf6 2. Bg5 d5 3. e3 c5 4. c3 cxd4 5. exd...</td>\n",
       "    </tr>\n",
       "    <tr>\n",
       "      <th>370202</th>\n",
       "      <td>1. e4 c5 2. Nf3 d6 3. d4 cxd4 4. Nxd4 Nf6 5. N...</td>\n",
       "    </tr>\n",
       "    <tr>\n",
       "      <th>492202</th>\n",
       "      <td>1. c4 c6 2. Nf3 d5 3. d4 Nf6 4. Nc3 e6 5. g3 d...</td>\n",
       "    </tr>\n",
       "    <tr>\n",
       "      <th>579558</th>\n",
       "      <td>1. d4 d5 2. c4 e6 3. Nc3 Nf6 4. Bg5 c5 5. cxd5...</td>\n",
       "    </tr>\n",
       "    <tr>\n",
       "      <th>...</th>\n",
       "      <td>...</td>\n",
       "    </tr>\n",
       "    <tr>\n",
       "      <th>62870</th>\n",
       "      <td>1. d4 d5 2. c4 e6 3. Nc3 c5 4. cxd5 cxd4 5. Qa...</td>\n",
       "    </tr>\n",
       "    <tr>\n",
       "      <th>105754</th>\n",
       "      <td>1. e4 c6 2. d4 d5 3. e5 Bf5 4. Nf3 e6 5. Be2 c...</td>\n",
       "    </tr>\n",
       "    <tr>\n",
       "      <th>585993</th>\n",
       "      <td>1. e4 e5 2. Nf3 Nc6 3. Bc4 Bc5 4. c3 Nf6 5. d3...</td>\n",
       "    </tr>\n",
       "    <tr>\n",
       "      <th>2626</th>\n",
       "      <td>1. e4 c5 2. Nf3 d6 3. d4 cxd4 4. Nxd4 Nf6 5. N...</td>\n",
       "    </tr>\n",
       "    <tr>\n",
       "      <th>143487</th>\n",
       "      <td>1. c4 e5 2. d3 Nf6 3. Nf3 Nc6 4. a3 g6 5. Nc3 ...</td>\n",
       "    </tr>\n",
       "  </tbody>\n",
       "</table>\n",
       "<p>33339 rows × 1 columns</p>\n",
       "</div>"
      ],
      "text/plain": [
       "                                                 movetext\n",
       "311844  1. e4 c5 2. Nf3 Nc6 3. Bb5 e6 4. O-O Nge7 5. R...\n",
       "116088  1. d4 Nf6 2. Bg5 d5 3. e3 c5 4. c3 cxd4 5. exd...\n",
       "370202  1. e4 c5 2. Nf3 d6 3. d4 cxd4 4. Nxd4 Nf6 5. N...\n",
       "492202  1. c4 c6 2. Nf3 d5 3. d4 Nf6 4. Nc3 e6 5. g3 d...\n",
       "579558  1. d4 d5 2. c4 e6 3. Nc3 Nf6 4. Bg5 c5 5. cxd5...\n",
       "...                                                   ...\n",
       "62870   1. d4 d5 2. c4 e6 3. Nc3 c5 4. cxd5 cxd4 5. Qa...\n",
       "105754  1. e4 c6 2. d4 d5 3. e5 Bf5 4. Nf3 e6 5. Be2 c...\n",
       "585993  1. e4 e5 2. Nf3 Nc6 3. Bc4 Bc5 4. c3 Nf6 5. d3...\n",
       "2626    1. e4 c5 2. Nf3 d6 3. d4 cxd4 4. Nxd4 Nf6 5. N...\n",
       "143487  1. c4 e5 2. d3 Nf6 3. Nf3 Nc6 4. a3 g6 5. Nc3 ...\n",
       "\n",
       "[33339 rows x 1 columns]"
      ]
     },
     "execution_count": 14,
     "metadata": {},
     "output_type": "execute_result"
    }
   ],
   "source": [
    "from sklearn.model_selection import train_test_split\n",
    "\n",
    "train_df, valid_df = train_test_split(df, test_size=0.25, random_state=42)\n",
    "train_df"
   ]
  },
  {
   "cell_type": "markdown",
   "id": "80729f41",
   "metadata": {},
   "source": [
    "### Transforming the Dataset back"
   ]
  },
  {
   "cell_type": "code",
   "execution_count": 15,
   "id": "40601c14",
   "metadata": {},
   "outputs": [],
   "source": [
    "from datasets import Dataset, DatasetDict\n",
    "\n",
    "train_ds = Dataset.from_pandas(train_df)\n",
    "valid_ds = Dataset.from_pandas(valid_df)\n",
    "ds = DatasetDict({\n",
    "    'train': train_ds,\n",
    "    'valid': valid_ds\n",
    "})"
   ]
  },
  {
   "cell_type": "markdown",
   "id": "3782271b",
   "metadata": {},
   "source": [
    "### Extracting Individual Turns from each Game"
   ]
  },
  {
   "cell_type": "code",
   "execution_count": 16,
   "id": "fca6fe0b",
   "metadata": {},
   "outputs": [
    {
     "data": {
      "application/vnd.jupyter.widget-view+json": {
       "model_id": "6b663f1f05aa4a1590faafc58de37370",
       "version_major": 2,
       "version_minor": 0
      },
      "text/plain": [
       "Map:   0%|          | 0/33339 [00:00<?, ? examples/s]"
      ]
     },
     "metadata": {},
     "output_type": "display_data"
    },
    {
     "name": "stderr",
     "output_type": "stream",
     "text": [
      "illegal san: 'Ke5' in 8/1B3p2/1p1kb2p/2p2p2/5P2/2PK2P1/1P5P/8 b - - 14 44 while parsing <Game at 0x7f66d04d68d0 ('?' vs. '?', '????.??.??' at '?')>\n",
      "illegal san: 'Ng6' in rnbqkbnr/ppppp1pp/5p2/8/1P6/5P2/P1PPP1PP/RNBQKBNR b KQkq - 0 2 while parsing <Game at 0x7f66d014c9e0 ('?' vs. '?', '????.??.??' at '?')>\n",
      "illegal san: 'Kd4' in 8/8/4n1P1/4p3/8/1pk1K3/p6P/5R2 w - - 1 65 while parsing <Game at 0x7f66d04d6840 ('?' vs. '?', '????.??.??' at '?')>\n",
      "illegal san: 'Kxe5' in r7/R7/1pN5/2n1P3/4k3/8/PK6/8 b - - 0 46 while parsing <Game at 0x7f66d04d68d0 ('?' vs. '?', '????.??.??' at '?')>\n",
      "illegal san: 'Kd5' in 8/8/4Q3/8/2k2P1K/1q6/Q7/3q4 b - - 11 68 while parsing <Game at 0x7f66d04d6840 ('?' vs. '?', '????.??.??' at '?')>\n",
      "illegal san: 'Ke4' in 8/1br2pk1/6p1/r2p4/3N1KpP/4P3/1R2BP2/8 w - - 0 39 while parsing <Game at 0x7f66d043bc80 ('?' vs. '?', '????.??.??' at '?')>\n",
      "illegal san: 'Ke5' in 8/8/1P1Bk3/1rPb1p2/8/8/p7/K3R3 b - - 7 70 while parsing <Game at 0x7f66d043bc80 ('?' vs. '?', '????.??.??' at '?')>\n",
      "illegal san: 'Kd5' in 5k2/2R5/3K1p2/4rP2/4P3/8/8/8 w - - 24 77 while parsing <Game at 0x7f66d04d7410 ('?' vs. '?', '????.??.??' at '?')>\n",
      "illegal san: 'Kxe5' in 8/4np2/4p3/3kPP2/5KP1/8/8/8 b - - 4 58 while parsing <Game at 0x7f67d2e70cb0 ('?' vs. '?', '????.??.??' at '?')>\n",
      "illegal san: 'O-O-O' in rnbqk2r/ppppb1pp/4pn2/5p2/3P4/1P2P3/P1P1BPPP/RNBQK1NR w KQkq - 2 5 while parsing <Game at 0x7f67d2e70c20 ('?' vs. '?', '????.??.??' at '?')>\n",
      "illegal san: 'Ke5' in 8/8/4bk2/8/2pK4/B7/1P2r3/8 w - - 0 85 while parsing <Game at 0x7f67d2e70c20 ('?' vs. '?', '????.??.??' at '?')>\n",
      "illegal san: 'Kd4' in 6k1/8/p5p1/3p4/1P3r1p/3K4/P6R/8 w - - 4 44 while parsing <Game at 0x7f67d2e70170 ('?' vs. '?', '????.??.??' at '?')>\n",
      "illegal san: 'Ke4' in 3b4/8/2p1k1p1/2Bp1p1p/2bP1P1P/2P1K1P1/8/3B4 w - - 8 33 while parsing <Game at 0x7f66d04d6ba0 ('?' vs. '?', '????.??.??' at '?')>\n",
      "illegal san: 'Qf2' in rnbqkbnr/pp1p2pp/5p2/2p1p3/2P2P2/1P6/P2PP1PP/RNBQKBNR w KQkq - 0 4 while parsing <Game at 0x7f66d04d69f0 ('?' vs. '?', '????.??.??' at '?')>\n",
      "illegal san: 'Bg6' in rnbqkbnr/pp1pp1pp/2p2p2/8/2PP4/1P6/P3PPPP/RNBQKBNR b KQkq - 0 3 while parsing <Game at 0x7f66d043bc80 ('?' vs. '?', '????.??.??' at '?')>\n",
      "illegal san: 'Nb6' in rnbqkbnr/2p2p1p/3p2p1/pp2PP2/3P4/8/PPP4P/RNBQKBNR b KQkq - 0 7 while parsing <Game at 0x7f66d04d44d0 ('?' vs. '?', '????.??.??' at '?')>\n",
      "illegal san: 'Ke5' in 8/7R/3k2Pp/6r1/4K3/8/8/8 b - - 2 84 while parsing <Game at 0x7f66d043bc80 ('?' vs. '?', '????.??.??' at '?')>\n",
      "illegal san: 'Bc7' in rnbqkbnr/1p3ppp/2p1p3/p2p4/P2PPP2/6P1/1PP4P/RNBQKBNR b KQkq - 0 5 while parsing <Game at 0x7f67d2e70f80 ('?' vs. '?', '????.??.??' at '?')>\n",
      "illegal san: 'Ke5' in 8/8/8/6p1/4nk2/5N2/3pP3/3K4 b - - 1 74 while parsing <Game at 0x7f67d2e70950 ('?' vs. '?', '????.??.??' at '?')>\n",
      "illegal san: 'Kd5' in 1b6/1P3B2/P6p/5p2/3k4/5K1P/8/8 b - - 0 43 while parsing <Game at 0x7f67d2e710a0 ('?' vs. '?', '????.??.??' at '?')>\n",
      "illegal san: 'Nb3' in rnbqkb1r/pp2pp2/2p2np1/2Pp3p/3P3P/6P1/PP2PP2/RNBQKBNR w KQkq - 0 6 while parsing <Game at 0x7f67d2e710a0 ('?' vs. '?', '????.??.??' at '?')>\n",
      "illegal san: 'Kd5' in 8/8/8/4k1K1/7R/3nN2p/8/8 b - - 1 71 while parsing <Game at 0x7f66d04d7d10 ('?' vs. '?', '????.??.??' at '?')>\n",
      "illegal san: 'Ke5' in 2R5/3r1pp1/2Q1pk1p/8/p2b1q2/5N2/P4rPP/2R4K b - - 3 37 while parsing <Game at 0x7f67d2e70950 ('?' vs. '?', '????.??.??' at '?')>\n",
      "illegal san: 'Ke4' in 2R5/5kp1/3pN1p1/3P1nP1/rr6/2P2K2/8/8 w - - 10 45 while parsing <Game at 0x7f66d04d7800 ('?' vs. '?', '????.??.??' at '?')>\n",
      "illegal san: 'Ke4' in 8/2nR1pp1/1pr5/3pk2p/1B6/2PKPP2/6PP/8 w - - 19 33 while parsing <Game at 0x7f66d04d7800 ('?' vs. '?', '????.??.??' at '?')>\n",
      "illegal san: 'Ke4' in 4r3/8/6P1/3k4/5P2/5K2/6R1/8 w - - 1 71 while parsing <Game at 0x7f66d043bc80 ('?' vs. '?', '????.??.??' at '?')>\n",
      "illegal san: 'Ng3' in rnbqkbnr/pp2pppp/3p4/2pP4/8/8/PPP1PPPP/RNBQKBNR w KQkq - 0 3 while parsing <Game at 0x7f66d04d6840 ('?' vs. '?', '????.??.??' at '?')>\n",
      "illegal san: 'Ke5' in R7/8/2r1kpn1/6p1/7p/2B4P/3K2P1/8 b - - 13 63 while parsing <Game at 0x7f66d04d7800 ('?' vs. '?', '????.??.??' at '?')>\n",
      "illegal san: 'Ke4' in 8/7p/2p1kp2/p2p2pP/P2P1KP1/2P5/5P2/8 w - - 0 35 while parsing <Game at 0x7f66d04d6cc0 ('?' vs. '?', '????.??.??' at '?')>\n",
      "illegal san: 'Ke4' in 4r1k1/2Rn1ppp/8/1p1N1P2/5KP1/1Q5P/1P2q3/4b3 w - - 2 42 while parsing <Game at 0x7f66d04d7800 ('?' vs. '?', '????.??.??' at '?')>\n",
      "illegal san: 'Kd4' in 8/8/1P3p2/b1K1kBp1/6Pp/5P2/8/8 w - - 0 69 while parsing <Game at 0x7f67d2e70cb0 ('?' vs. '?', '????.??.??' at '?')>\n",
      "illegal san: 'Ke5' in 6B1/2p3p1/3k1p1p/8/P3KP2/6P1/7P/4b3 b - - 0 40 while parsing <Game at 0x7f66d04d7d10 ('?' vs. '?', '????.??.??' at '?')>\n",
      "illegal san: 'Ke4' in 8/7p/Rp2r2k/5p2/1p6/5K2/P5PP/8 w - - 8 57 while parsing <Game at 0x7f66d04d7800 ('?' vs. '?', '????.??.??' at '?')>\n",
      "illegal san: 'Bxe4' in rnbqkbnr/ppp1pppp/8/8/4p1P1/8/PPPP1P1P/RNBQKBNR w KQkq - 0 3 while parsing <Game at 0x7f66d043bc80 ('?' vs. '?', '????.??.??' at '?')>\n",
      "illegal san: 'Ke4' in 8/1b1k3p/1b1p2p1/1p3p2/1P1N1P2/r1PK2P1/3NR2P/8 w - - 9 37 while parsing <Game at 0x7f67d2e70cb0 ('?' vs. '?', '????.??.??' at '?')>\n",
      "illegal san: 'Qh6' in rnbqkbnr/ppppppp1/8/7p/3P4/6P1/PPP1PP1P/RNBQKBNR b KQkq - 0 2 while parsing <Game at 0x7f67d2e70cb0 ('?' vs. '?', '????.??.??' at '?')>\n",
      "illegal san: 'Qc3' in r1bqkbnr/1ppppppp/8/n2P4/p4PP1/8/PPP1P2P/RNBQKBNR w KQkq - 1 5 while parsing <Game at 0x7f66d04d67b0 ('?' vs. '?', '????.??.??' at '?')>\n",
      "illegal san: 'Bxh8' in rnbqkbnr/p1p2p1p/1p2p1p1/3p4/2P2PP1/1P6/P2PP2P/RNBQKBNR w KQkq - 0 5 while parsing <Game at 0x7f66d04d6cc0 ('?' vs. '?', '????.??.??' at '?')>\n",
      "illegal san: 'Kd5' in 8/5p1p/pb2k1p1/1p2p3/1P2P1P1/P2K1P1P/3B4/8 b - - 14 45 while parsing <Game at 0x7f66d04d67b0 ('?' vs. '?', '????.??.??' at '?')>\n",
      "illegal san: 'Ng3' in rn1qkbnr/pbpppp1p/1p4p1/8/2P2PP1/8/PP1PP2P/RNBQKBNR w KQkq - 1 4 while parsing <Game at 0x7f67d2e70f80 ('?' vs. '?', '????.??.??' at '?')>\n",
      "illegal san: 'Nf7' in rnbqkbnr/p2pp1pp/1p3p2/2p5/2P3P1/1P6/PB1PPP1P/RN1QKBNR b KQkq - 0 4 while parsing <Game at 0x7f67d2f17ec0 ('?' vs. '?', '????.??.??' at '?')>\n",
      "illegal san: 'Kf3' in 5R2/8/8/8/5k1P/3p4/7r/3K4 b - - 1 72 while parsing <Game at 0x7f66d043bc80 ('?' vs. '?', '????.??.??' at '?')>\n",
      "illegal san: 'Ke5' in 8/2p5/2P2k2/R2p4/4PPB1/4K1P1/3r3n/8 b - - 6 59 while parsing <Game at 0x7f67d2f17b60 ('?' vs. '?', '????.??.??' at '?')>\n",
      "illegal san: 'Kd5' in 8/6p1/p3kp1p/P6P/r3PKP1/2B2P2/1P6/8 b - - 6 48 while parsing <Game at 0x7f67d2f17e30 ('?' vs. '?', '????.??.??' at '?')>\n",
      "illegal san: 'Ne3' in rnbqkb1r/ppp1pppp/5n2/3P4/8/8/PPPP1PPP/RNBQKBNR w KQkq - 1 3 while parsing <Game at 0x7f67d2e70cb0 ('?' vs. '?', '????.??.??' at '?')>\n",
      "illegal san: 'Bc7' in rnbqkbnr/1p1pp1pp/2p2p2/p7/P3PP2/5N2/1PPP2PP/RNBQKB1R b KQkq - 1 4 while parsing <Game at 0x7f66d04d7410 ('?' vs. '?', '????.??.??' at '?')>\n",
      "illegal san: 'Ke5' in 8/6p1/3k1p1p/1p3P1P/1P2K3/5P2/5P2/8 b - - 7 48 while parsing <Game at 0x7f67d2e70dd0 ('?' vs. '?', '????.??.??' at '?')>\n",
      "illegal san: 'Qxg5' in rnbqkbnr/p1pppp1p/1p6/6P1/4P3/8/PPPP2PP/RNBQKBNR b KQkq - 0 3 while parsing <Game at 0x7f67d2e70cb0 ('?' vs. '?', '????.??.??' at '?')>\n",
      "illegal san: 'Kd2' in 8/2p3r1/1pQpn1pk/rN2p2p/P1P1Pp2/2KP1P1P/5qP1/R5R1 w - - 42 48 while parsing <Game at 0x7f67d2e70d40 ('?' vs. '?', '????.??.??' at '?')>\n",
      "illegal san: 'Ne3' in rnbqkb1r/ppppn1pp/5p2/4p3/4PP2/6P1/PPPP3P/RNBQKBNR w KQkq - 1 4 while parsing <Game at 0x7f66d043bc80 ('?' vs. '?', '????.??.??' at '?')>\n",
      "illegal san: 'Ne3' in rnbqkbnr/p2p1ppp/1p2p3/2p5/1P2P3/3P4/P1P2PPP/RNBQKBNR w KQkq - 0 4 while parsing <Game at 0x7f66d04d69f0 ('?' vs. '?', '????.??.??' at '?')>\n",
      "illegal san: 'Kd5' in 8/8/1rR3p1/5p2/3k3P/3p1BP1/5P2/6K1 b - - 4 41 while parsing <Game at 0x7f66d04d69f0 ('?' vs. '?', '????.??.??' at '?')>\n",
      "illegal san: 'Bb6' in rnbqkbnr/pp1pp1pp/2p5/5p2/5P2/2PP4/PP2P1PP/RNBQKBNR b KQkq - 0 3 while parsing <Game at 0x7f67d2e70d40 ('?' vs. '?', '????.??.??' at '?')>\n",
      "illegal san: 'Kd5' in 3r4/pQ2q3/3k1p1R/p5p1/3pN3/8/1P6/1K6 b - - 1 48 while parsing <Game at 0x7f66d04d7d10 ('?' vs. '?', '????.??.??' at '?')>\n",
      "illegal san: 'Ke4' in 8/4bP2/2P5/p2K1k2/P7/8/8/8 b - - 0 51 while parsing <Game at 0x7f67d2e70f80 ('?' vs. '?', '????.??.??' at '?')>\n",
      "illegal san: 'Ng3' in rn1qkbnr/ppp3pp/3p4/4pb2/2P5/2N5/PP1PPP1P/R1BQKBNR w KQkq - 0 5 while parsing <Game at 0x7f66d043bc80 ('?' vs. '?', '????.??.??' at '?')>\n",
      "illegal san: 'Bf3' in rnbqkbnr/ppppp1p1/5p2/8/3P1P1p/6P1/PPP1P2P/RNBQKBNR w KQkq - 0 4 while parsing <Game at 0x7f67d2e71130 ('?' vs. '?', '????.??.??' at '?')>\n",
      "illegal san: 'Nb6' in rnbqkbnr/pppppppp/8/8/5P2/8/PPPPP1PP/RNBQKBNR b KQkq - 0 1 while parsing <Game at 0x7f66d04d7d10 ('?' vs. '?', '????.??.??' at '?')>\n",
      "illegal san: 'Ne6' in rnbqkbnr/pppppppp/8/8/3P4/8/PPP1PPPP/RNBQKBNR b KQkq - 0 1 while parsing <Game at 0x7f67d2e70f80 ('?' vs. '?', '????.??.??' at '?')>\n",
      "illegal san: 'Kd4' in 8/8/8/1pk1K1P1/p7/P7/1PB5/3q1r2 w - - 0 53 while parsing <Game at 0x7f67d2f17650 ('?' vs. '?', '????.??.??' at '?')>\n",
      "illegal san: 'Nd3' in rnbqkbnr/pp1ppppp/2p5/8/6P1/8/PPPPPP1P/RNBQKBNR w KQkq - 0 2 while parsing <Game at 0x7f66d04d7d10 ('?' vs. '?', '????.??.??' at '?')>\n",
      "illegal san: 'Kc1' in 6k1/p1r2pp1/7p/R7/8/3n3P/P2N1PP1/3K4 w - - 10 37 while parsing <Game at 0x7f67d2f17770 ('?' vs. '?', '????.??.??' at '?')>\n",
      "illegal san: 'Kd5' in R7/pB2rp2/Pp6/1Pb1k1p1/2P3P1/5K2/5P2/8 b - - 4 42 while parsing <Game at 0x7f67d2e70d40 ('?' vs. '?', '????.??.??' at '?')>\n",
      "illegal san: 'Ke4' in R7/8/8/4r3/2B5/3K4/5k2/8 w - - 81 126 while parsing <Game at 0x7f67d2e70d40 ('?' vs. '?', '????.??.??' at '?')>\n",
      "illegal san: 'Nd3' in rnbqkbnr/p1pp1p1p/1p6/4P1p1/6P1/8/PPP1PP1P/RNBQKBNR w KQkq - 0 4 while parsing <Game at 0x7f66d04d6ba0 ('?' vs. '?', '????.??.??' at '?')>\n",
      "illegal san: 'Bc4' in rnbqkbnr/pp1pp1pp/5p2/8/3NP3/8/PPP2PPP/RNBQKB1R b KQkq - 0 4 while parsing <Game at 0x7f67d2e70f80 ('?' vs. '?', '????.??.??' at '?')>\n",
      "illegal san: 'Nb6' in rnbqkbnr/ppp1pppp/8/3P4/8/8/PPPP1PPP/RNBQKBNR b KQkq - 0 2 while parsing <Game at 0x7f66d04d44d0 ('?' vs. '?', '????.??.??' at '?')>\n",
      "illegal san: 'Kd5' in 8/8/3BK3/2r5/4k3/8/8/8 w - - 2 69 while parsing <Game at 0x7f66d04d6ba0 ('?' vs. '?', '????.??.??' at '?')>\n",
      "illegal san: 'Ne6' in rnbqkbnr/pppppppp/8/8/8/1P6/P1PPPPPP/RNBQKBNR b KQkq - 0 1 while parsing <Game at 0x7f67d2f17140 ('?' vs. '?', '????.??.??' at '?')>\n",
      "illegal san: 'Kd5' in 2r1Qn2/1p1r1P2/p1kP2p1/4B2p/2P5/7R/4q1PP/1R5K b - - 4 35 while parsing <Game at 0x7f66d04d67b0 ('?' vs. '?', '????.??.??' at '?')>\n",
      "illegal san: 'Ne3' in rnbqkbnr/pppppppp/8/8/8/8/PPPPPPPP/RNBQKBNR w KQkq - 0 1 while parsing <Game at 0x7f67d2f174a0 ('?' vs. '?', '????.??.??' at '?')>\n",
      "illegal san: 'Bf6' in rnbqkbnr/pppp2pp/4p3/8/6P1/1P6/P1PPPP2/RNBQKBNR b KQkq - 0 4 while parsing <Game at 0x7f67d2e71130 ('?' vs. '?', '????.??.??' at '?')>\n",
      "illegal san: 'Ke4' in 4r2k/pppR4/5PpP/2p2r2/5bN1/2P2K2/PP6/7R w - - 14 41 while parsing <Game at 0x7f66d04d6ba0 ('?' vs. '?', '????.??.??' at '?')>\n",
      "illegal san: 'Ng3' in rnbqkbnr/p1ppp1pp/1p6/5p2/5P2/3P4/PPP1P1PP/RNBQKBNR w KQkq - 0 3 while parsing <Game at 0x7f67d2e71130 ('?' vs. '?', '????.??.??' at '?')>\n",
      "illegal san: 'Nb3' in rnbqkbnr/pppppppp/8/8/8/8/PPPPPPPP/RNBQKBNR w KQkq - 0 1 while parsing <Game at 0x7f67d2f17650 ('?' vs. '?', '????.??.??' at '?')>\n",
      "illegal san: 'Kxd4' in 8/4k3/5rB1/2p2PB1/3pK3/1Pb5/p4P1P/8 w - - 0 51 while parsing <Game at 0x7f66d04d6ba0 ('?' vs. '?', '????.??.??' at '?')>\n",
      "illegal san: 'Kd5' in 8/8/n3k2p/P7/3K1PP1/2N5/8/8 b - - 0 69 while parsing <Game at 0x7f67d2f17140 ('?' vs. '?', '????.??.??' at '?')>\n",
      "illegal san: 'Kd4' in 8/rR6/8/2p5/5P2/2k1K3/1p6/8 w - - 0 51 while parsing <Game at 0x7f66d014d640 ('?' vs. '?', '????.??.??' at '?')>\n",
      "illegal san: 'Ke5' in 8/6n1/4kp2/7p/4NK1P/8/8/8 b - - 11 63 while parsing <Game at 0x7f66d04d44d0 ('?' vs. '?', '????.??.??' at '?')>\n",
      "illegal san: 'Nd3' in rnbqkbnr/pppppppp/8/8/8/8/PPPPPPPP/RNBQKBNR w KQkq - 0 1 while parsing <Game at 0x7f67d2e70f80 ('?' vs. '?', '????.??.??' at '?')>\n",
      "illegal san: 'Nd6' in rnbqkbnr/pppppppp/8/8/8/6P1/PPPPPP1P/RNBQKBNR b KQkq - 0 1 while parsing <Game at 0x7f66d014d640 ('?' vs. '?', '????.??.??' at '?')>\n",
      "illegal san: 'Nd3' in rnbqkbnr/pp2p1pp/2p2p2/3p4/2PP4/1P6/P3PPPP/RNBQKBNR w KQkq - 0 4 while parsing <Game at 0x7f67d2f17650 ('?' vs. '?', '????.??.??' at '?')>\n",
      "illegal san: 'Kd5' in 3r1R2/8/2K5/8/6k1/5p2/8/8 w - - 0 80 while parsing <Game at 0x7f66d04d6ba0 ('?' vs. '?', '????.??.??' at '?')>\n",
      "illegal san: 'Nb3' in rnbqkbnr/ppp2ppp/8/3P4/3p4/8/PPP2PPP/RNBQKBNR w KQkq - 0 4 while parsing <Game at 0x7f66d04d6ba0 ('?' vs. '?', '????.??.??' at '?')>\n",
      "illegal san: 'Nd3' in rnbqkbnr/ppp1p1pp/3p4/5p2/3P4/5P2/PPP1P1PP/RNBQKBNR w KQkq - 0 3 while parsing <Game at 0x7f66d04d7410 ('?' vs. '?', '????.??.??' at '?')>\n",
      "illegal san: 'Kxd4' in 8/8/8/p3pk1p/P1pnp1pP/1rN1K1P1/1P1R1P2/8 w - - 0 52 while parsing <Game at 0x7f66d04d7410 ('?' vs. '?', '????.??.??' at '?')>\n",
      "illegal san: 'Kd5' in 8/5p1p/2kp2pP/1p2p1P1/4P3/P3KP2/1P6/8 b - - 0 45 while parsing <Game at 0x7f66d04d67b0 ('?' vs. '?', '????.??.??' at '?')>\n",
      "illegal san: 'Kd5' in 4Q3/1q3pp1/4p1p1/1Bk5/8/1K1R4/P7/8 b - - 3 40 while parsing <Game at 0x7f66d014d9a0 ('?' vs. '?', '????.??.??' at '?')>\n",
      "illegal san: 'Ke4' in 8/5p2/6p1/p1kb2P1/1p1N1K2/1P3P2/1P1R4/1r6 w - - 26 57 while parsing <Game at 0x7f66d04d67b0 ('?' vs. '?', '????.??.??' at '?')>\n",
      "illegal san: 'Kc3' in 2r5/6kP/2r3B1/5P2/1R6/1K6/8/8 w - - 21 86 while parsing <Game at 0x7f67d2f17770 ('?' vs. '?', '????.??.??' at '?')>\n",
      "illegal san: 'Ke4' in 8/8/5N2/8/3K1k2/8/8/8 w - - 0 71 while parsing <Game at 0x7f67d2f175c0 ('?' vs. '?', '????.??.??' at '?')>\n",
      "illegal san: 'Nb3' in rnbqkbnr/ppppp2p/6p1/5p2/5P2/6P1/PPPPP2P/RNBQKBNR w KQkq - 0 3 while parsing <Game at 0x7f67d2f17770 ('?' vs. '?', '????.??.??' at '?')>\n",
      "illegal san: 'Ng3' in rnbqkb1r/p1ppp1pp/1p3n2/5p2/5P2/1P2P3/P1PP2PP/RNBQKBNR w KQkq - 1 4 while parsing <Game at 0x7f67d2f16f90 ('?' vs. '?', '????.??.??' at '?')>\n",
      "illegal san: 'O-O' in rnbqkb1r/pp2pppp/5n2/3p4/2PNP3/8/PP3PPP/RNBQKB1R b KQkq - 0 5 while parsing <Game at 0x7f66d04d6ba0 ('?' vs. '?', '????.??.??' at '?')>\n",
      "illegal san: 'Bh7' in rnbqkbnr/pp2ppp1/2pp3p/8/4P3/1P4P1/P1PPNP1P/RNBQKB1R b KQkq - 1 4 while parsing <Game at 0x7f67d2f17ec0 ('?' vs. '?', '????.??.??' at '?')>\n",
      "illegal san: 'Ng6' in rnbqkbnr/pppppppp/8/8/1P6/8/P1PPPPPP/RNBQKBNR b KQkq - 0 1 while parsing <Game at 0x7f66d04d67b0 ('?' vs. '?', '????.??.??' at '?')>\n",
      "illegal san: 'Ng6' in rnbqkbnr/pppppppp/8/8/6P1/8/PPPPPP1P/RNBQKBNR b KQkq - 0 1 while parsing <Game at 0x7f66d014cef0 ('?' vs. '?', '????.??.??' at '?')>\n",
      "illegal san: 'Kxe4' in 8/1p5p/6p1/p2pk3/4b3/2P1K3/PP4PP/5B2 w - - 0 31 while parsing <Game at 0x7f67d2f174a0 ('?' vs. '?', '????.??.??' at '?')>\n",
      "illegal san: 'Nd3' in rnbqk1nr/pp2ppbp/2pp2p1/8/2PP2P1/1P6/P3PP1P/RNBQKBNR w KQkq - 0 5 while parsing <Game at 0x7f66d014de20 ('?' vs. '?', '????.??.??' at '?')>\n",
      "illegal san: 'Ne3' in rnbqkbnr/ppppp1pp/5p2/8/4P3/8/PPPP1PPP/RNBQKBNR w KQkq - 0 2 while parsing <Game at 0x7f67d2f174a0 ('?' vs. '?', '????.??.??' at '?')>\n",
      "illegal san: 'Kxe5' in 8/8/5k2/1b2Np2/5P2/4K3/8/8 b - - 8 41 while parsing <Game at 0x7f67d2f16f90 ('?' vs. '?', '????.??.??' at '?')>\n",
      "illegal san: 'Kd5' in 8/8/PK2k2p/5Rp1/6P1/r6P/8/8 b - - 4 42 while parsing <Game at 0x7f66d04d7410 ('?' vs. '?', '????.??.??' at '?')>\n",
      "illegal san: 'Bc2' in rn1qkb1r/pb2pppp/1p1p1n2/8/2PQ4/1PN2N2/P3PPPP/R1B1KB1R w KQkq - 0 7 while parsing <Game at 0x7f66d04d6ba0 ('?' vs. '?', '????.??.??' at '?')>\n",
      "illegal san: 'Be6' in rnbqkbnr/pp1p2pp/5p2/2p1p3/2B1P3/1P3P2/P1PP2PP/RNBQK1NR b KQkq - 1 4 while parsing <Game at 0x7f67d2f17650 ('?' vs. '?', '????.??.??' at '?')>\n",
      "illegal san: 'Ng3' in rnbqkbnr/1pppp1pp/p4p2/8/4PP2/8/PPPP2PP/RNBQKBNR w KQkq - 0 3 while parsing <Game at 0x7f66d04d7410 ('?' vs. '?', '????.??.??' at '?')>\n",
      "illegal san: 'Ke4' in 3k4/2R5/3PB1p1/2P1K2p/5P1P/4r3/8/3r4 w - - 7 65 while parsing <Game at 0x7f67d2f16f90 ('?' vs. '?', '????.??.??' at '?')>\n",
      "illegal san: 'Kxe5' in 8/5p2/4k1p1/R3P2p/1r5P/4PKP1/8/8 b - - 12 52 while parsing <Game at 0x7f66d04d7410 ('?' vs. '?', '????.??.??' at '?')>\n",
      "illegal san: 'Nc7' in rnbqkbnr/3pp2p/6p1/p1p1P3/p7/2P5/1P1P1PP1/RNBQKBNR b KQkq - 0 7 while parsing <Game at 0x7f67d2f16f90 ('?' vs. '?', '????.??.??' at '?')>\n",
      "illegal san: 'Ncd3' in rnbqkbnr/ppp1p2p/8/3pP1p1/8/8/PPP2PPP/RNBQKBNR w KQkq - 0 5 while parsing <Game at 0x7f66d014dd90 ('?' vs. '?', '????.??.??' at '?')>\n",
      "illegal san: 'Nhg6' in rnbqkbnr/p2ppppp/1p6/8/2PQ4/1P6/P3PPPP/RNB1KBNR b KQkq - 0 4 while parsing <Game at 0x7f67d2e70f80 ('?' vs. '?', '????.??.??' at '?')>\n",
      "illegal san: 'Kd5' in 7r/6p1/2P5/7p/4k1n1/5Q1P/1Bq2PPb/1R3R1K b - - 0 33 while parsing <Game at 0x7f67d2f17770 ('?' vs. '?', '????.??.??' at '?')>\n",
      "illegal san: 'Bd4' in rnbqk2r/ppppppbp/6p1/7n/5P2/1P4P1/P1PPP1BP/RNBQK1NR w KQkq - 1 5 while parsing <Game at 0x7f67d2e71130 ('?' vs. '?', '????.??.??' at '?')>\n",
      "illegal san: 'Kd4' in 8/8/8/5kp1/8/1n2K1PP/8/8 w - - 2 72 while parsing <Game at 0x7f66d014dfd0 ('?' vs. '?', '????.??.??' at '?')>\n",
      "illegal san: 'Be4' in rnbqkbnr/3ppp1p/p1p5/1pP3p1/3P2P1/8/PP2PP1P/RNBQKBNR w KQkq - 0 5 while parsing <Game at 0x7f66d04d67b0 ('?' vs. '?', '????.??.??' at '?')>\n",
      "illegal san: 'Ke5' in 8/8/5n2/3k4/3P4/K7/8/8 b - - 0 56 while parsing <Game at 0x7f67d2e71130 ('?' vs. '?', '????.??.??' at '?')>\n",
      "illegal san: 'Kxe5' in 1n1B4/5p2/4p3/4Pk2/3P2p1/4KPP1/8/8 b - - 6 47 while parsing <Game at 0x7f67d2e71130 ('?' vs. '?', '????.??.??' at '?')>\n",
      "illegal san: 'Ng3' in rnbqkb1r/pp1p2pp/4pn2/2p5/2P5/1P3N2/P2P1PPP/RNBQKB1R w KQkq - 0 7 while parsing <Game at 0x7f66d014dfd0 ('?' vs. '?', '????.??.??' at '?')>\n",
      "illegal san: 'Kxe4' in 8/5p2/p2b4/3P1kp1/3KR3/5P2/P7/8 b - - 1 43 while parsing <Game at 0x7f67d2e70f80 ('?' vs. '?', '????.??.??' at '?')>\n",
      "illegal san: 'Kxe4' in 8/4b2p/7B/3k1K2/4p3/p3P2P/P7/8 w - - 8 50 while parsing <Game at 0x7f66d04d44d0 ('?' vs. '?', '????.??.??' at '?')>\n",
      "illegal san: 'Ka6' in 8/p1n1kP2/8/K7/2Bb4/8/8/8 w - - 20 82 while parsing <Game at 0x7f66d04d44d0 ('?' vs. '?', '????.??.??' at '?')>\n",
      "illegal san: 'Ke4' in 8/3k1p2/pbn1p1p1/1p1pP3/3P1PP1/PPBK4/8/3B4 w - - 21 61 while parsing <Game at 0x7f67d2f175c0 ('?' vs. '?', '????.??.??' at '?')>\n",
      "illegal san: 'Qxb5' in rnbqkbnr/2pppppp/8/pP6/8/1P6/P2PPPPP/RNBQKBNR b KQkq - 0 3 while parsing <Game at 0x7f66d043bc80 ('?' vs. '?', '????.??.??' at '?')>\n",
      "illegal san: 'Kd4' in 2R3R1/8/8/p7/Pk6/4K3/2p3r1/3q4 w - - 11 92 while parsing <Game at 0x7f67d2e70b00 ('?' vs. '?', '????.??.??' at '?')>\n",
      "illegal san: 'Ke4' in 8/6Bp/7P/1p6/1P6/3K1k2/p7/8 w - - 6 48 while parsing <Game at 0x7f66d043bc80 ('?' vs. '?', '????.??.??' at '?')>\n",
      "illegal san: 'Kd5' in 8/6pB/1b1k1p2/1R2p3/4P3/8/r2NKPPP/8 b - - 0 33 while parsing <Game at 0x7f67d2e71130 ('?' vs. '?', '????.??.??' at '?')>\n",
      "illegal san: 'Ke5' in 8/8/4pk2/8/1p2K3/pPbB4/P5P1/8 b - - 7 41 while parsing <Game at 0x7f67d2e70ef0 ('?' vs. '?', '????.??.??' at '?')>\n",
      "illegal san: 'Nb6' in rnbqkbnr/pppppppp/8/8/5P2/8/PPPPP1PP/RNBQKBNR b KQkq - 0 1 while parsing <Game at 0x7f66d043bc80 ('?' vs. '?', '????.??.??' at '?')>\n",
      "illegal san: 'Bc6' in rnbqkbnr/p2ppppp/1p6/2p5/8/1PN1P3/P1PP1PPP/R1BQKBNR b KQkq - 0 3 while parsing <Game at 0x7f67d2e70d40 ('?' vs. '?', '????.??.??' at '?')>\n",
      "illegal san: 'O-O-O' in r2qk2r/ppp1bppp/2npbn2/4p3/4P3/2NPBN1P/PPP1BPP1/R2QK2R b KQkq - 4 7 while parsing <Game at 0x7f66d043bc80 ('?' vs. '?', '????.??.??' at '?')>\n",
      "illegal san: 'Ke4' in 8/4K3/5N2/5k2/8/8/8/8 b - - 0 86 while parsing <Game at 0x7f67d2e71f40 ('?' vs. '?', '????.??.??' at '?')>\n",
      "illegal san: 'Ke5' in 8/8/8/7N/3K1k2/8/8/8 b - - 0 57 while parsing <Game at 0x7f67d2e70dd0 ('?' vs. '?', '????.??.??' at '?')>\n",
      "illegal san: 'Ke4' in 8/2p4p/3kn3/1p3p2/1P6/r2KB1P1/5P1P/2R5 w - - 1 31 while parsing <Game at 0x7f67d2e71130 ('?' vs. '?', '????.??.??' at '?')>\n",
      "illegal san: 'Ng3' in rn1qkb1r/1bppp2p/5np1/p1P5/1p1PP3/1P6/P2B2PP/RN1QKBNR w KQkq - 1 9 while parsing <Game at 0x7f67d2e70e60 ('?' vs. '?', '????.??.??' at '?')>\n",
      "illegal san: 'Ke5' in 3r4/8/2P2k1p/8/4K3/8/2R5/8 b - - 4 58 while parsing <Game at 0x7f67d2e70170 ('?' vs. '?', '????.??.??' at '?')>\n",
      "illegal san: 'Ke4' in 6R1/2p1kpp1/6p1/6P1/P4K1P/3Br3/2Pb4/8 w - - 23 52 while parsing <Game at 0x7f67d2e710a0 ('?' vs. '?', '????.??.??' at '?')>\n",
      "illegal san: 'Nb6' in rnbqkbnr/ppp1pppp/8/3p4/3P4/6P1/PPP1PP1P/RNBQKBNR b KQkq - 0 2 while parsing <Game at 0x7f67d2e70b90 ('?' vs. '?', '????.??.??' at '?')>\n",
      "illegal san: 'Bf6' in r1bqkbnr/pppp2pp/2n1p3/5p2/2P2P2/1P3N2/P2PP1PP/RNBQKB1R b KQkq - 1 4 while parsing <Game at 0x7f66d043bc80 ('?' vs. '?', '????.??.??' at '?')>\n",
      "illegal san: 'Kd4' in 8/8/6p1/1p2K3/p4P2/P2k4/1P6/8 w - - 2 56 while parsing <Game at 0x7f67d2e70170 ('?' vs. '?', '????.??.??' at '?')>\n",
      "illegal san: 'Ke4' in 3r3k/7p/8/p3Pp2/P1R2P2/1r2K2P/8/6R1 w - - 1 35 while parsing <Game at 0x7f66d043bc80 ('?' vs. '?', '????.??.??' at '?')>\n",
      "illegal san: 'Bc2' in rnbqkbnr/pp1ppppp/2p5/8/2P5/8/PP1PPPPP/RNBQKBNR w KQkq - 0 2 while parsing <Game at 0x7f67d2e70b90 ('?' vs. '?', '????.??.??' at '?')>\n",
      "illegal san: 'Ke5' in 2r5/pp5R/2bp1k2/P2p1p2/3P1p2/2PB4/2P2KP1/8 b - - 8 33 while parsing <Game at 0x7f66d04d68d0 ('?' vs. '?', '????.??.??' at '?')>\n",
      "illegal san: 'Kd4' in 8/8/2P2p1p/2r2nk1/R7/p2K4/8/8 w - - 5 61 while parsing <Game at 0x7f66d04d67b0 ('?' vs. '?', '????.??.??' at '?')>\n",
      "illegal san: 'Kxe4' in 2N4R/5p2/4pk1p/8/1r2bP2/3BK3/4P2P/8 w - - 5 50 while parsing <Game at 0x7f67d2e70d40 ('?' vs. '?', '????.??.??' at '?')>\n",
      "illegal san: 'Ke5' in 3r4/2p2Np1/1p3k1p/p4p2/P2P4/2P3P1/1P2RK1P/8 b - - 0 33 while parsing <Game at 0x7f66d043bc80 ('?' vs. '?', '????.??.??' at '?')>\n",
      "illegal san: 'Kd5' in 3q4/5QP1/8/4k2K/8/5P2/8/8 b - - 4 64 while parsing <Game at 0x7f67d2e71130 ('?' vs. '?', '????.??.??' at '?')>\n",
      "illegal san: 'Kd5' in 8/p5p1/1p1kpp1p/1b6/4BP2/PPK1P1P1/7P/8 b - - 0 31 while parsing <Game at 0x7f67d2e70b90 ('?' vs. '?', '????.??.??' at '?')>\n",
      "illegal san: 'Ke4' in 8/6Bp/p5p1/3k2P1/8/2PK4/Pn6/8 w - - 10 56 while parsing <Game at 0x7f66d043bc80 ('?' vs. '?', '????.??.??' at '?')>\n",
      "illegal san: 'Ng3' in rnbqkbnr/p1pppppp/1p6/8/1P6/8/P1PPPPPP/RNBQKBNR w KQkq - 0 2 while parsing <Game at 0x7f67d2e70b90 ('?' vs. '?', '????.??.??' at '?')>\n",
      "illegal san: 'Qxf4' in rnbqkbnr/p2ppppp/1p6/2P5/5P2/8/P1PPP1PP/RNBQKBNR b KQkq - 0 3 while parsing <Game at 0x7f67d2e70cb0 ('?' vs. '?', '????.??.??' at '?')>\n",
      "illegal san: 'Kd4' in 8/b1k2r2/2P5/8/P1K5/8/5p2/5R2 w - - 2 67 while parsing <Game at 0x7f66d043bc80 ('?' vs. '?', '????.??.??' at '?')>\n",
      "illegal san: 'Ke5' in 8/8/2pk3p/p5p1/P1PPKpP1/7P/8/8 b - - 4 46 while parsing <Game at 0x7f66d04d68d0 ('?' vs. '?', '????.??.??' at '?')>\n",
      "illegal san: 'O-O-O' in rnbqkbnr/pppppppp/8/8/2P5/8/PP1PPPPP/RNBQKBNR b KQkq - 0 1 while parsing <Game at 0x7f66d043bc80 ('?' vs. '?', '????.??.??' at '?')>\n",
      "illegal san: 'Ke4' in 2N5/8/8/4k3/8/3K4/8/8 w - - 1 74 while parsing <Game at 0x7f66d043bc80 ('?' vs. '?', '????.??.??' at '?')>\n",
      "illegal san: 'Kd5' in 8/8/4k3/2R3p1/2P1K1P1/7r/8/8 b - - 0 48 while parsing <Game at 0x7f67d2e70170 ('?' vs. '?', '????.??.??' at '?')>\n",
      "illegal san: 'Ke2' in 8/1p1R1pk1/2p4p/5pnB/4rP2/4K2P/8/8 w - - 1 40 while parsing <Game at 0x7f67d2e70dd0 ('?' vs. '?', '????.??.??' at '?')>\n",
      "illegal san: 'Kd5' in 8/8/P7/2p5/K1Pk4/1P4R1/8/1r6 b - - 16 64 while parsing <Game at 0x7f66d04d6cc0 ('?' vs. '?', '????.??.??' at '?')>\n",
      "illegal san: 'Ke5' in 8/5p2/5k2/p1K2p2/Pr3P2/R5PP/8/8 b - - 12 44 while parsing <Game at 0x7f66d043bc80 ('?' vs. '?', '????.??.??' at '?')>\n",
      "illegal san: 'Ke4' in 3r4/p7/5bk1/3N1pp1/1P1P4/3K3P/6R1/8 w - - 9 44 while parsing <Game at 0x7f66d04d69f0 ('?' vs. '?', '????.??.??' at '?')>\n",
      "illegal san: 'Kxd5' in 8/3r4/1R1N1p2/2pPk2p/2P4P/1P2KP2/2b5/8 b - - 2 44 while parsing <Game at 0x7f67d2e71130 ('?' vs. '?', '????.??.??' at '?')>\n",
      "illegal san: 'Kd4' in 5k2/7R/3p4/2pP4/2K5/6P1/7p/2r5 w - - 2 53 while parsing <Game at 0x7f67d2e70d40 ('?' vs. '?', '????.??.??' at '?')>\n",
      "illegal san: 'Kg8' in r4r1k/1b1qNpb1/p5pp/6B1/P1R2Q2/8/5PPP/4RBK1 b - - 1 23 while parsing <Game at 0x7f67d2e70170 ('?' vs. '?', '????.??.??' at '?')>\n",
      "illegal san: 'Bxd4' in rnbqkbnr/pp1p1p1p/2p3p1/8/3pP3/2P2P2/PP4PP/RNBQKBNR w KQkq - 0 5 while parsing <Game at 0x7f67d2f17bf0 ('?' vs. '?', '????.??.??' at '?')>\n",
      "illegal san: 'Kd4' in 8/4B3/8/2K4p/4k1p1/4n3/6P1/8 w - - 0 67 while parsing <Game at 0x7f67d2e71f40 ('?' vs. '?', '????.??.??' at '?')>\n",
      "illegal san: 'Ne6' in rnbqkbnr/p2ppppp/1p6/2p5/7P/1PN5/P1PPPPP1/R1BQKBNR b KQkq - 0 3 while parsing <Game at 0x7f67d2e70170 ('?' vs. '?', '????.??.??' at '?')>\n",
      "illegal san: 'Ng6' in r1bqkbnr/ppp2ppp/2np4/4p3/3PP3/2P2P2/PP4PP/RNBQKBNR b KQkq - 0 4 while parsing <Game at 0x7f67d2e70d40 ('?' vs. '?', '????.??.??' at '?')>\n",
      "illegal san: 'Ke5' in 8/8/p2k4/1R6/8/8/P7/1K6 b - - 0 46 while parsing <Game at 0x7f67d2e70c20 ('?' vs. '?', '????.??.??' at '?')>\n",
      "illegal san: 'Qxf5' in rnbqkbnr/ppppp1pp/8/5P2/8/8/PPPP1PPP/RNBQKBNR b KQkq - 0 2 while parsing <Game at 0x7f66d04d6cc0 ('?' vs. '?', '????.??.??' at '?')>\n",
      "illegal san: 'Qxb4' in rnbqkbnr/pp1ppppp/8/8/1pP5/8/P2PPPPP/RNBQKBNR w KQkq - 0 3 while parsing <Game at 0x7f67d2e70c20 ('?' vs. '?', '????.??.??' at '?')>\n",
      "illegal san: 'Nb3' in rnbqkbnr/pppppppp/8/8/8/8/PPPPPPPP/RNBQKBNR w KQkq - 0 1 while parsing <Game at 0x7f67d2e71f40 ('?' vs. '?', '????.??.??' at '?')>\n",
      "illegal san: 'Kd4' in 8/1R6/1p4rp/3kp2b/7P/4K1P1/PP6/8 w - - 8 53 while parsing <Game at 0x7f66d014e720 ('?' vs. '?', '????.??.??' at '?')>\n",
      "illegal san: 'Ke5' in 8/6Bb/2p1k2P/1p1p4/p2P1P2/P3K3/1P6/8 b - - 2 51 while parsing <Game at 0x7f66d04d68d0 ('?' vs. '?', '????.??.??' at '?')>\n",
      "illegal san: 'Ke5' in 2r1r3/8/pp1pknn1/3p1ppp/3P4/4PP2/PP1BNKPP/2RR4 b - - 11 31 while parsing <Game at 0x7f67d2f175c0 ('?' vs. '?', '????.??.??' at '?')>\n",
      "illegal san: 'Ke4' in 8/5kp1/R6p/3p3P/p2r1P2/5KP1/8/8 w - - 4 47 while parsing <Game at 0x7f67d2e71f40 ('?' vs. '?', '????.??.??' at '?')>\n",
      "illegal san: 'Kd5' in 8/1p3p2/2p3p1/1pk1n3/4P1BP/6Pr/PR4K1/5N2 b - - 0 38 while parsing <Game at 0x7f67d2e71f40 ('?' vs. '?', '????.??.??' at '?')>\n",
      "illegal san: 'Nb6' in rnbqkbnr/pppppppp/8/8/5P2/8/PPPPP1PP/RNBQKBNR b KQkq - 0 1 while parsing <Game at 0x7f67d2e71130 ('?' vs. '?', '????.??.??' at '?')>\n",
      "illegal san: 'Ke4' in 8/8/5n2/8/1k6/5K2/8/8 w - - 0 82 while parsing <Game at 0x7f67d2e70c20 ('?' vs. '?', '????.??.??' at '?')>\n",
      "illegal san: 'Ke5' in 8/8/1p3k2/p2p4/P2P3p/1P2KBnP/8/8 b - - 29 58 while parsing <Game at 0x7f67d2f17380 ('?' vs. '?', '????.??.??' at '?')>\n",
      "illegal san: 'Ke4' in 8/8/8/3k4/5K2/5N2/8/8 w - - 0 100 while parsing <Game at 0x7f67d2f175c0 ('?' vs. '?', '????.??.??' at '?')>\n",
      "illegal san: 'Ncd6' in rnbqkbnr/ppp1pppp/8/3p4/1P3P2/8/P1PPP1PP/RNBQKBNR b KQkq - 0 2 while parsing <Game at 0x7f67d2e70d40 ('?' vs. '?', '????.??.??' at '?')>\n",
      "illegal san: 'Ke4' in 8/3R2p1/1P1P1p1p/2Bk4/2p5/2PpK2b/8/8 w - - 1 63 while parsing <Game at 0x7f66d014e8d0 ('?' vs. '?', '????.??.??' at '?')>\n",
      "illegal san: 'Kxd5' in 8/R7/1p1pk2p/p2N4/r3P3/4K2P/8/8 b - - 5 50 while parsing <Game at 0x7f67d2f17380 ('?' vs. '?', '????.??.??' at '?')>\n",
      "illegal san: 'Rxf4' in rnbqkbnr/p1pp1ppp/1p6/1P6/5p2/8/P1PPP1PP/RNBQKBNR w KQkq - 0 4 while parsing <Game at 0x7f66d014e210 ('?' vs. '?', '????.??.??' at '?')>\n",
      "illegal san: 'Kxd5' in 8/4q1b1/3p3p/1PpBk3/2P3QP/6P1/5PK1/8 b - - 6 58 while parsing <Game at 0x7f67d2e71130 ('?' vs. '?', '????.??.??' at '?')>\n",
      "illegal san: 'Bc7' in rnbqkbnr/pp2pppp/2p5/8/3PN3/8/PPP2PPP/R1BQKBNR b KQkq - 0 4 while parsing <Game at 0x7f66d04d69f0 ('?' vs. '?', '????.??.??' at '?')>\n",
      "illegal san: 'Ng6' in rnbqkbnr/pppppppp/8/8/8/2P5/PP1PPPPP/RNBQKBNR b KQkq - 0 1 while parsing <Game at 0x7f67d2f17380 ('?' vs. '?', '????.??.??' at '?')>\n",
      "illegal san: 'Nb3' in rnbqkb1r/ppppp1pp/5n2/5p2/3P4/6P1/PPP1PP1P/RNBQKBNR w KQkq - 1 3 while parsing <Game at 0x7f67d2f17380 ('?' vs. '?', '????.??.??' at '?')>\n",
      "illegal san: 'Ke5' in 8/P7/8/r1R2k2/8/P3P3/5PK1/8 b - - 0 63 while parsing <Game at 0x7f67d2e70c20 ('?' vs. '?', '????.??.??' at '?')>\n",
      "illegal san: 'Ke5' in 8/2RQ1pk1/7p/P5r1/3K1P2/6P1/3q4/R7 w - - 15 91 while parsing <Game at 0x7f66d014e060 ('?' vs. '?', '????.??.??' at '?')>\n",
      "illegal san: 'Kd5' in 6K1/4r2P/3k4/7R/8/8/8/8 b - - 0 77 while parsing <Game at 0x7f67d2e70d40 ('?' vs. '?', '????.??.??' at '?')>\n",
      "illegal san: 'Ng3' in rnbqkbnr/p1pp1ppp/4p3/1p6/1P6/4P3/P1PP1PPP/RNBQKBNR w KQkq - 0 3 while parsing <Game at 0x7f67d2e70c20 ('?' vs. '?', '????.??.??' at '?')>\n",
      "illegal san: 'Nhg3' in rnbqkbnr/p2pp1pp/1p3p2/2p5/2P5/1P6/PB1PPPPP/RN1QKBNR w KQkq - 0 4 while parsing <Game at 0x7f67d2e70d40 ('?' vs. '?', '????.??.??' at '?')>\n",
      "illegal san: 'Kxe4' in 2R5/4kp1p/rN1bp3/p2p4/1p1Pn3/4PKP1/PP5P/4B3 w - - 9 32 while parsing <Game at 0x7f66d04d6cc0 ('?' vs. '?', '????.??.??' at '?')>\n",
      "illegal san: 'Ne3' in r1bqkb1r/ppppn2p/2n2pp1/4pP2/P3P1P1/8/1PPP3P/RNBQKBNR w KQkq - 0 6 while parsing <Game at 0x7f67d2e71f40 ('?' vs. '?', '????.??.??' at '?')>\n",
      "illegal san: 'Ng3' in rnbqk1nr/ppp2ppp/3b4/3p4/3P4/5N2/PPP2PPP/RNBQKB1R w KQkq - 2 5 while parsing <Game at 0x7f67d2f17380 ('?' vs. '?', '????.??.??' at '?')>\n",
      "illegal san: 'Ke4' in 8/5pp1/R6p/p3k3/8/3KP3/1r3PPP/8 w - - 18 49 while parsing <Game at 0x7f67d2e710a0 ('?' vs. '?', '????.??.??' at '?')>\n",
      "illegal san: 'O-O' in rnbqkbnr/pppppppp/8/8/8/8/PPPPPPPP/RNBQKBNR w KQkq - 0 1 while parsing <Game at 0x7f66d04d69f0 ('?' vs. '?', '????.??.??' at '?')>\n",
      "illegal san: 'Ke5' in 8/6p1/3kp2p/p2p4/3P1PPP/P3K3/4B3/3b4 b - - 16 44 while parsing <Game at 0x7f67d2e71130 ('?' vs. '?', '????.??.??' at '?')>\n",
      "illegal san: 'Kd4' in 6k1/p4pp1/8/8/4P3/1n1K1P2/6PP/8 w - - 2 56 while parsing <Game at 0x7f67d2e71130 ('?' vs. '?', '????.??.??' at '?')>\n",
      "illegal san: 'O-O' in rnbqkbnr/pppppppp/8/8/3P4/8/PPP1PPPP/RNBQKBNR b KQkq - 0 1 while parsing <Game at 0x7f67d2e70170 ('?' vs. '?', '????.??.??' at '?')>\n",
      "illegal san: 'Ke5' in r2r4/1p4p1/p1p2k1p/3n4/1P1PK3/P2B1P1P/5P2/6RR b - - 10 27 while parsing <Game at 0x7f67d2e710a0 ('?' vs. '?', '????.??.??' at '?')>\n",
      "illegal san: 'Ng6' in rnbqkbnr/ppp1pppp/8/3p4/P2P4/8/1PP1PPPP/RNBQKBNR b KQkq - 0 2 while parsing <Game at 0x7f66d014c3b0 ('?' vs. '?', '????.??.??' at '?')>\n",
      "illegal san: 'Nd3' in rnbqkbnr/pp1pp3/2p2p2/6pp/3PP2P/1P6/P1P2PP1/RNBQKBNR w KQkq - 0 5 while parsing <Game at 0x7f67d2f17380 ('?' vs. '?', '????.??.??' at '?')>\n",
      "illegal san: 'Kd5' in 8/8/2k5/pR6/P7/1P1K3P/r7/8 b - - 0 48 while parsing <Game at 0x7f67d2f17380 ('?' vs. '?', '????.??.??' at '?')>\n",
      "illegal san: 'Nd6' in rnbqkbnr/pppppppp/8/8/8/6P1/PPPPPP1P/RNBQKBNR b KQkq - 0 1 while parsing <Game at 0x7f67d2f17920 ('?' vs. '?', '????.??.??' at '?')>\n",
      "illegal san: 'Ng3' in rn1qkbnr/1b3p1p/1pp1p1p1/p1Pp4/1P1P4/P3P3/3N1PPP/R1BQKBNR w KQkq - 1 8 while parsing <Game at 0x7f67d2f17530 ('?' vs. '?', '????.??.??' at '?')>\n",
      "illegal san: 'Bxb5' in rnbqkbnr/p3ppp1/3p4/1PpP3p/7P/8/PP2PPP1/RNBQKBNR b KQkq - 0 5 while parsing <Game at 0x7f67d2f176e0 ('?' vs. '?', '????.??.??' at '?')>\n",
      "illegal san: 'Ke5' in 8/8/4K3/8/5k2/8/8/8 b - - 0 72 while parsing <Game at 0x7f67d2f17ad0 ('?' vs. '?', '????.??.??' at '?')>\n",
      "illegal san: 'Ne3' in rnbqkbnr/p3pppp/3p4/1ppP4/2P5/8/PP2PPPP/RNBQKBNR w KQkq - 0 4 while parsing <Game at 0x7f66d043bc80 ('?' vs. '?', '????.??.??' at '?')>\n",
      "illegal san: 'Kd5' in 1b1r4/2N2p1p/R2Pk1p1/4r3/8/7P/5PP1/4R1K1 b - - 7 41 while parsing <Game at 0x7f67d2f17ec0 ('?' vs. '?', '????.??.??' at '?')>\n",
      "illegal san: 'Bf3' in rnbqkbnr/p1pp2pp/1p2p3/5p2/2PP4/4P3/PP3PPP/RNBQKBNR w KQkq - 0 4 while parsing <Game at 0x7f66d043bc80 ('?' vs. '?', '????.??.??' at '?')>\n",
      "illegal san: 'Bd4' in rnbqkbnr/ppppp1pp/8/5p2/5P2/8/PPPPP1PP/RNBQKBNR w KQkq - 0 2 while parsing <Game at 0x7f67d2f17770 ('?' vs. '?', '????.??.??' at '?')>\n",
      "illegal san: 'Ke5' in 8/8/4k3/7R/5r2/3K4/8/8 b - - 1 67 while parsing <Game at 0x7f67d2f17ec0 ('?' vs. '?', '????.??.??' at '?')>\n",
      "illegal san: 'Bc2' in rnbqkbnr/pppp1ppp/8/4p3/2P5/8/PP1PPPPP/RNBQKBNR w KQkq - 0 2 while parsing <Game at 0x7f67d2f17ec0 ('?' vs. '?', '????.??.??' at '?')>\n",
      "illegal san: 'Nd6' in rnbqkbnr/pppppppp/8/8/8/6P1/PPPPPP1P/RNBQKBNR b KQkq - 0 1 while parsing <Game at 0x7f67d2f171d0 ('?' vs. '?', '????.??.??' at '?')>\n",
      "illegal san: 'Ba5' in rnbqkb1r/pp2pppp/2p2n2/3p2B1/3P4/2N1P3/PPP2PPP/R2QKBNR b KQkq - 0 4 while parsing <Game at 0x7f67d2f17140 ('?' vs. '?', '????.??.??' at '?')>\n",
      "illegal san: 'Ke5' in 1B6/p7/2p1k3/3b3p/2pP3P/P3K3/1P6/8 b - - 4 39 while parsing <Game at 0x7f67d2f17140 ('?' vs. '?', '????.??.??' at '?')>\n",
      "illegal san: 'Kd5' in 8/8/8/R4P2/4k1K1/6P1/p7/r7 b - - 4 60 while parsing <Game at 0x7f67d2f17a40 ('?' vs. '?', '????.??.??' at '?')>\n",
      "illegal san: 'Bc6' in rnbqkbnr/ppp1pppp/3p4/8/3P4/5N2/PPP1PPPP/RNBQKB1R b KQkq - 0 2 while parsing <Game at 0x7f66d043bc80 ('?' vs. '?', '????.??.??' at '?')>\n",
      "illegal san: 'Bxh8' in rnbqkbnr/p1p2p1p/1p2p1p1/3p4/2P2PP1/1P6/P2PP2P/RNBQKBNR w KQkq - 0 5 while parsing <Game at 0x7f67d2f17f50 ('?' vs. '?', '????.??.??' at '?')>\n",
      "illegal san: 'Kxd5' in 8/8/4k3/3Np1p1/2N1P1K1/7P/8/4b3 b - - 0 61 while parsing <Game at 0x7f67d2f16de0 ('?' vs. '?', '????.??.??' at '?')>\n",
      "illegal san: 'Kd5' in r1q1rb2/5Q2/b1kBnp1p/ppP5/4B3/P3P2P/1P3PP1/R1R3K1 b - - 6 27 while parsing <Game at 0x7f67d2f17ec0 ('?' vs. '?', '????.??.??' at '?')>\n",
      "illegal san: 'Kd5' in 8/8/4bp2/8/3kPK2/3p1P2/8/5N2 b - - 3 59 while parsing <Game at 0x7f67d2f17770 ('?' vs. '?', '????.??.??' at '?')>\n",
      "illegal san: 'Kd5' in 1r3r2/1p3p2/2p4N/b1k2KP1/P4P2/3R4/P7/1R6 b - - 6 42 while parsing <Game at 0x7f67d2f17140 ('?' vs. '?', '????.??.??' at '?')>\n",
      "illegal san: 'Nf2' in 4rrkb/ppp4p/2nppqpP/3n2N1/3P1P2/2PQ4/PP1B2P1/RN3RK1 w - - 2 17 while parsing <Game at 0x7f66d04d69f0 ('?' vs. '?', '????.??.??' at '?')>\n",
      "illegal san: 'Ne3' in rnbqkb1r/ppp1pppp/5n2/3P4/8/8/PPPP1PPP/RNBQKBNR w KQkq - 1 3 while parsing <Game at 0x7f66d043bc80 ('?' vs. '?', '????.??.??' at '?')>\n",
      "illegal san: 'Rxd4' in rnbqkbnr/p2ppppp/1p6/8/2Pp4/5N2/PP2PPPP/RNBQKB1R w KQkq - 0 4 while parsing <Game at 0x7f67d2f17770 ('?' vs. '?', '????.??.??' at '?')>\n",
      "illegal san: 'Ke4' in 8/6p1/1b5p/pB2k3/P7/5K1P/5P2/8 w - - 5 41 while parsing <Game at 0x7f66d04d6ba0 ('?' vs. '?', '????.??.??' at '?')>\n",
      "illegal san: 'Kd4' in 8/4k3/p7/5n2/2N1Kp2/P7/4p3/5rR1 w - - 2 63 while parsing <Game at 0x7f67d2f17f50 ('?' vs. '?', '????.??.??' at '?')>\n",
      "illegal san: 'Kd4' in 5k2/5P1p/3N4/1p6/8/2K5/7B/q7 w - - 0 47 while parsing <Game at 0x7f67d2f17b60 ('?' vs. '?', '????.??.??' at '?')>\n",
      "illegal san: 'Ke5' in 8/8/5k2/p1p4p/2P1K3/1P4P1/8/8 b - - 8 51 while parsing <Game at 0x7f67d2f17530 ('?' vs. '?', '????.??.??' at '?')>\n",
      "illegal san: 'Bxa7' in rnbqkbnr/ppppp1pp/8/5p2/5P2/8/PPPPP1PP/RNBQKBNR w KQkq - 0 2 while parsing <Game at 0x7f67d2f17530 ('?' vs. '?', '????.??.??' at '?')>\n",
      "illegal san: 'Kd5' in r7/1pp1b3/p2k1p2/1q2pQ2/3BP3/1P6/5PP1/2RR2K1 b - - 0 35 while parsing <Game at 0x7f66d04d7410 ('?' vs. '?', '????.??.??' at '?')>\n",
      "illegal san: 'O-O-O' in r2qk2r/ppp2ppp/2npb2n/2b1p3/2B1P3/2PP1N1P/PP3PP1/RNBQ1RK1 b kq - 0 7 while parsing <Game at 0x7f67d2f17770 ('?' vs. '?', '????.??.??' at '?')>\n",
      "illegal san: 'Kd5' in 8/4N3/6p1/7p/2P1k2P/8/4nPPK/8 b - - 5 59 while parsing <Game at 0x7f67d2f171d0 ('?' vs. '?', '????.??.??' at '?')>\n",
      "illegal san: 'Nd3' in rnbqkbnr/ppp1pp1p/6p1/3p4/5PP1/8/PPPPP2P/RNBQKBNR w KQkq - 0 3 while parsing <Game at 0x7f67d2f17530 ('?' vs. '?', '????.??.??' at '?')>\n",
      "illegal san: 'Ke5' in 8/1b6/4k3/1p5p/3Kp3/3nBP1P/2N3P1/8 b - - 0 46 while parsing <Game at 0x7f67d2f17e30 ('?' vs. '?', '????.??.??' at '?')>\n",
      "illegal san: 'Ng6' in r1bqkbnr/ppp2ppp/2np4/8/4PB2/2NP4/PPP3PP/R2QKBNR b KQkq - 1 5 while parsing <Game at 0x7f66d043bc80 ('?' vs. '?', '????.??.??' at '?')>\n",
      "illegal san: 'Kd4' in 8/1R6/3pp1k1/4p1n1/4PrP1/3RK1N1/2r5/8 w - - 6 58 while parsing <Game at 0x7f66d04d7800 ('?' vs. '?', '????.??.??' at '?')>\n",
      "illegal san: 'Kd5' in 2r5/8/p6R/2P3p1/2K1k1P1/P3P3/5P2/8 b - - 0 41 while parsing <Game at 0x7f66d04d6ba0 ('?' vs. '?', '????.??.??' at '?')>\n",
      "illegal san: 'Nd6' in rnbqkbnr/ppppp2p/6p1/5p2/3P4/2P5/PP1NPPPP/R1BQKBNR b KQkq - 1 3 while parsing <Game at 0x7f67d2f17ec0 ('?' vs. '?', '????.??.??' at '?')>\n",
      "illegal san: 'Qg3' in rnbqkbnr/ppp1pppp/3p4/8/5P2/8/PPPPP1PP/RNBQKBNR w KQkq - 0 2 while parsing <Game at 0x7f66d043bc80 ('?' vs. '?', '????.??.??' at '?')>\n",
      "illegal san: 'Ke5' in 8/8/8/3k3p/1b3P1P/4K3/8/8 b - - 1 47 while parsing <Game at 0x7f66d04d7410 ('?' vs. '?', '????.??.??' at '?')>\n",
      "illegal san: 'Nf7' in rnbqkb1r/ppp1p1pp/5n2/3p1p2/3P1N2/5P2/PPP1P1PP/RNBQKB1R b KQkq - 3 4 while parsing <Game at 0x7f67d2e709e0 ('?' vs. '?', '????.??.??' at '?')>\n",
      "illegal san: 'Kd4' in 8/P6p/3k4/3bp1P1/7P/3K4/8/8 w - - 1 52 while parsing <Game at 0x7f66d043bc80 ('?' vs. '?', '????.??.??' at '?')>\n",
      "illegal san: 'Nfe6' in rnbqkbnr/pppppppp/8/8/8/2P5/PP1PPPPP/RNBQKBNR b KQkq - 0 1 while parsing <Game at 0x7f66d043bc80 ('?' vs. '?', '????.??.??' at '?')>\n",
      "illegal san: 'Ke5' in 8/3b3p/p2k2p1/3R4/3PBKp1/r7/6PP/8 b - - 9 41 while parsing <Game at 0x7f66d04d69f0 ('?' vs. '?', '????.??.??' at '?')>\n",
      "illegal san: 'Ke6' in 8/4k3/3p3p/3P1P1P/6P1/2pKB3/8/4b3 b - - 0 52 while parsing <Game at 0x7f66d04d6ba0 ('?' vs. '?', '????.??.??' at '?')>\n",
      "illegal san: 'Bxe5' in rnbqkbnr/pppp3p/6p1/4Pp2/8/2P3P1/PP1PP2P/RNBQKBNR b KQkq - 0 4 while parsing <Game at 0x7f66d04d7800 ('?' vs. '?', '????.??.??' at '?')>\n",
      "illegal san: 'Nd3' in rnbqkbnr/ppp1p1pp/3p4/5p2/3P4/2P5/PP2PPPP/RNBQKBNR w KQkq - 0 3 while parsing <Game at 0x7f66d04d6ba0 ('?' vs. '?', '????.??.??' at '?')>\n",
      "illegal san: 'Kd4' in 4k3/R3P3/p7/2K5/2p5/8/3r4/8 w - - 0 61 while parsing <Game at 0x7f67d2f17e30 ('?' vs. '?', '????.??.??' at '?')>\n",
      "illegal san: 'Kd4' in 8/6p1/6k1/4p1b1/8/2p1KN2/8/8 w - - 0 62 while parsing <Game at 0x7f67d2f17da0 ('?' vs. '?', '????.??.??' at '?')>\n",
      "illegal san: 'Ne3' in rnbqkbnr/1pp3pp/3p1p2/4p3/p2PPP2/1P4P1/P1P4P/RNBQKBNR w KQkq - 0 6 while parsing <Game at 0x7f67d2e70ef0 ('?' vs. '?', '????.??.??' at '?')>\n",
      "illegal san: 'Kd5' in 8/1P3b2/8/K7/p1P1k3/6Q1/8/1q6 b - - 0 83 while parsing <Game at 0x7f67d2f17530 ('?' vs. '?', '????.??.??' at '?')>\n",
      "illegal san: 'Qe3' in rn1qkbnr/p1pp1ppp/1p2p3/3P4/4bP2/8/PPP3PP/RNBQKBNR w KQkq - 0 5 while parsing <Game at 0x7f67d2e70f80 ('?' vs. '?', '????.??.??' at '?')>\n",
      "illegal san: 'Kc7' in 8/3k1p1p/1R1P2p1/r7/4K3/5P2/6PP/8 b - - 2 40 while parsing <Game at 0x7f66d04d7410 ('?' vs. '?', '????.??.??' at '?')>\n",
      "illegal san: 'Ke5' in 8/p7/4knBp/5p2/4pP1P/P3K1P1/8/8 b - - 11 40 while parsing <Game at 0x7f67d2e710a0 ('?' vs. '?', '????.??.??' at '?')>\n",
      "illegal san: 'Ne3' in rnbqkbnr/pppp1ppp/8/4p3/4P3/8/PPPP1PPP/RNBQKBNR w KQkq - 0 2 while parsing <Game at 0x7f67d2e70ef0 ('?' vs. '?', '????.??.??' at '?')>\n",
      "illegal san: 'Ke5' in 8/Pb6/6p1/8/2NK1k2/8/8/8 b - - 5 75 while parsing <Game at 0x7f67d2f17f50 ('?' vs. '?', '????.??.??' at '?')>\n",
      "illegal san: 'Ne3' in rnbqkbnr/pp1p1p1p/2p3p1/4p3/4P3/2P3P1/PP1P1P1P/RNBQKBNR w KQkq - 0 4 while parsing <Game at 0x7f67d2f17e30 ('?' vs. '?', '????.??.??' at '?')>\n",
      "illegal san: 'Bf3' in rn1qkbnr/pb1ppppp/1p6/2p5/4PP2/3P4/PPP3PP/RNBQKBNR w KQkq - 1 4 while parsing <Game at 0x7f66d04d7410 ('?' vs. '?', '????.??.??' at '?')>\n",
      "illegal san: 'Bf2' in rnbqkbnr/p2ppp1p/1p4p1/2p5/3P4/2P2P2/PP2P1PP/RNBQKBNR w KQkq - 0 4 while parsing <Game at 0x7f67d2f17e30 ('?' vs. '?', '????.??.??' at '?')>\n",
      "illegal san: 'Ke5' in 8/8/p3pRp1/P6p/1P2kP1P/6PK/1r6/8 b - - 6 53 while parsing <Game at 0x7f67d2f171d0 ('?' vs. '?', '????.??.??' at '?')>\n",
      "illegal san: 'Kc7' in 2k5/8/KB4p1/1P3p1p/5P2/5bP1/1P5P/8 b - - 22 59 while parsing <Game at 0x7f66d04d6ba0 ('?' vs. '?', '????.??.??' at '?')>\n",
      "illegal san: 'Kxd4' in 5Q2/2k3pp/1p6/3npp2/3n4/1B1K4/P2B1PPP/5q2 w - - 10 36 while parsing <Game at 0x7f66d04d6ba0 ('?' vs. '?', '????.??.??' at '?')>\n",
      "illegal san: 'Nhg6' in rnbqkbnr/pp1ppppp/8/2p5/2P5/1P6/P2PPPPP/RNBQKBNR b KQkq - 0 2 while parsing <Game at 0x7f66d014e060 ('?' vs. '?', '????.??.??' at '?')>\n",
      "illegal san: 'Kd5' in 8/8/3K3p/2p5/1pB1k3/1P1R4/2P4r/8 b - - 12 51 while parsing <Game at 0x7f67d2f17f50 ('?' vs. '?', '????.??.??' at '?')>\n",
      "illegal san: 'Kc2' in rnbqk1nr/2ppp2p/p5pb/1p2Pp2/2PP4/1P3P2/P5PP/RNBQKBNR w KQkq - 1 7 while parsing <Game at 0x7f67d2f17da0 ('?' vs. '?', '????.??.??' at '?')>\n",
      "illegal san: 'Bc7' in r2qkb1r/1b1n1ppp/p1p2n2/1p2p3/P3P3/2NP1N1P/1PPBB1P1/R2QK2R b KQkq - 0 10 while parsing <Game at 0x7f66d014e210 ('?' vs. '?', '????.??.??' at '?')>\n",
      "illegal san: 'Ne3' in rnbqkbnr/pppppppp/8/8/8/8/PPPPPPPP/RNBQKBNR w KQkq - 0 1 while parsing <Game at 0x7f66d014e180 ('?' vs. '?', '????.??.??' at '?')>\n",
      "illegal san: 'Nfg3' in rn1qkbnr/pp2pppp/2p5/5b2/3PN3/8/PPP2PPP/R1BQKBNR w KQkq - 1 5 while parsing <Game at 0x7f67d2e70f80 ('?' vs. '?', '????.??.??' at '?')>\n",
      "illegal san: 'Kd4' in 8/1p5p/2k3p1/2b1Br2/2R1K3/8/8/8 w - - 4 61 while parsing <Game at 0x7f67d2e70f80 ('?' vs. '?', '????.??.??' at '?')>\n",
      "illegal san: 'Ng3' in rnbqkbnr/ppp1p1pp/8/3p1P2/8/8/PPPP1PPP/RNBQKBNR w KQkq - 0 3 while parsing <Game at 0x7f66d014dbe0 ('?' vs. '?', '????.??.??' at '?')>\n",
      "illegal san: 'Kxe5' in 8/1p6/p4kp1/P3n1R1/1r2PK1P/8/8/8 w - - 0 47 while parsing <Game at 0x7f67d2e70f80 ('?' vs. '?', '????.??.??' at '?')>\n",
      "illegal san: 'Ng2' in rnbqkbnr/pp2pppp/2pp4/8/8/1P4P1/P1PPPP1P/RNBQKBNR w KQkq - 0 3 while parsing <Game at 0x7f67d2e70170 ('?' vs. '?', '????.??.??' at '?')>\n",
      "illegal san: 'Nd3' in rnbqkbnr/pp1ppppp/2p5/8/5P2/8/PPPPP1PP/RNBQKBNR w KQkq - 0 2 while parsing <Game at 0x7f66d014d640 ('?' vs. '?', '????.??.??' at '?')>\n",
      "illegal san: 'Nd3' in rnbqk1nr/1pp1pp1p/p2p2pb/P7/4PP2/8/1PPP2PP/RNBQKBNR w KQkq - 1 5 while parsing <Game at 0x7f67d2f171d0 ('?' vs. '?', '????.??.??' at '?')>\n",
      "illegal san: 'Rxb4' in rnbqkbnr/pp1ppppp/8/8/1pP5/8/P2PPPPP/RNBQKBNR w KQkq - 0 3 while parsing <Game at 0x7f66d014e3c0 ('?' vs. '?', '????.??.??' at '?')>\n",
      "illegal san: 'Kxe5' in 8/8/2pBk3/1pKbP1pr/2p5/2P3RP/1P6/8 b - - 8 56 while parsing <Game at 0x7f66d043bc80 ('?' vs. '?', '????.??.??' at '?')>\n",
      "illegal san: 'Ke5' in 4R3/3p2p1/3Pkp2/1pKn4/1Pb3PP/8/8/8 b - - 11 52 while parsing <Game at 0x7f66d014d910 ('?' vs. '?', '????.??.??' at '?')>\n",
      "illegal san: 'Ke4' in 8/1p6/2k3p1/PR2p2p/7r/3KP3/2P5/8 w - - 1 54 while parsing <Game at 0x7f67d2f16de0 ('?' vs. '?', '????.??.??' at '?')>\n",
      "illegal san: 'Qxg5' in rnbqkbnr/p1pppp1p/1p6/6P1/4P3/8/PPPP2PP/RNBQKBNR b KQkq - 0 3 while parsing <Game at 0x7f66d043bc80 ('?' vs. '?', '????.??.??' at '?')>\n",
      "illegal san: 'Nde6' in rnbqkbnr/pp1p1ppp/2p5/4p3/4P3/2P3P1/PP1P1P1P/RNBQKBNR b KQkq - 0 3 while parsing <Game at 0x7f67d2f171d0 ('?' vs. '?', '????.??.??' at '?')>\n",
      "illegal san: 'Ba5' in rnbqkbnr/pp1p2pp/2p2p2/3Pp3/2P1P3/8/PP3PPP/RNBQKBNR b KQkq - 0 4 while parsing <Game at 0x7f66d043bc80 ('?' vs. '?', '????.??.??' at '?')>\n",
      "illegal san: 'Bxc6' in r1bqkbnr/pppppppp/2n5/8/8/6P1/PPPPPP1P/RNBQKBNR w KQkq - 1 2 while parsing <Game at 0x7f66d043bc80 ('?' vs. '?', '????.??.??' at '?')>\n",
      "illegal san: 'Kd5' in 5r2/5P2/8/5R1p/3k3P/5K2/8/8 b - - 2 73 while parsing <Game at 0x7f66d014e8d0 ('?' vs. '?', '????.??.??' at '?')>\n",
      "illegal san: 'Kd4' in 6k1/1p3p2/6pp/p7/P1p1Q3/2P1KP1r/BP1B4/6q1 w - - 1 38 while parsing <Game at 0x7f67d2f16de0 ('?' vs. '?', '????.??.??' at '?')>\n",
      "illegal san: 'Ne6' in rnbqkbnr/pppppppp/8/8/P7/8/1PPPPPPP/RNBQKBNR b KQkq - 0 1 while parsing <Game at 0x7f67d2e70170 ('?' vs. '?', '????.??.??' at '?')>\n",
      "illegal san: 'Kd4' in 8/3k4/1p6/8/4r3/2K5/4B3/8 w - - 0 55 while parsing <Game at 0x7f66d043bc80 ('?' vs. '?', '????.??.??' at '?')>\n",
      "illegal san: 'Nb3' in rnbqkbnr/pp1ppppp/8/2p5/2P5/8/PP1PPPPP/RNBQKBNR w KQkq - 0 2 while parsing <Game at 0x7f66d043bc80 ('?' vs. '?', '????.??.??' at '?')>\n",
      "illegal san: 'Kxe5' in 8/5p2/4p3/3kP1pq/2p5/2B3P1/1P3PK1/4R3 b - - 33 48 while parsing <Game at 0x7f66d043bc80 ('?' vs. '?', '????.??.??' at '?')>\n",
      "illegal san: 'Ke4' in 8/3rkpp1/R5p1/4p1N1/7P/2n2KP1/P4P2/8 w - - 10 50 while parsing <Game at 0x7f66d014e8d0 ('?' vs. '?', '????.??.??' at '?')>\n",
      "illegal san: 'Kd5' in 6r1/5p1p/3R4/P3kp2/1P1R1P2/3b3P/1r4PK/8 b - - 0 39 while parsing <Game at 0x7f67d2e710a0 ('?' vs. '?', '????.??.??' at '?')>\n",
      "illegal san: 'Ne3' in rn1qkbnr/pbp2p1p/1p4p1/4p3/4P3/1P4P1/PBPP3P/RN1QKBNR w KQkq - 0 7 while parsing <Game at 0x7f66d014c9e0 ('?' vs. '?', '????.??.??' at '?')>\n",
      "illegal san: 'Qd4' in r1bqk2r/pp1pbppp/n1pB1n2/8/4P3/2NP4/PPP3PP/R2QKBNR w KQkq - 3 7 while parsing <Game at 0x7f67d2e70170 ('?' vs. '?', '????.??.??' at '?')>\n",
      "illegal san: 'Kd5' in 8/P2b4/4k3/4p3/1KQ5/8/r7/8 b - - 19 83 while parsing <Game at 0x7f66d014e600 ('?' vs. '?', '????.??.??' at '?')>\n",
      "illegal san: 'Ke5' in 8/8/7p/R7/4k3/5rRK/1r6/8 b - - 6 51 while parsing <Game at 0x7f66d043bc80 ('?' vs. '?', '????.??.??' at '?')>\n",
      "illegal san: 'Kd4' in 8/8/8/Bkp5/6r1/4K3/8/8 w - - 1 61 while parsing <Game at 0x7f66d014df40 ('?' vs. '?', '????.??.??' at '?')>\n",
      "illegal san: 'Bb4' in rnbqkb1r/p4ppp/1p3n2/4pN2/2PpP3/1P6/P4PPP/RNBQKB1R w KQkq - 0 8 while parsing <Game at 0x7f67d2f17da0 ('?' vs. '?', '????.??.??' at '?')>\n",
      "illegal san: 'Nb6' in rnbqkbnr/pppppppp/8/8/5P2/8/PPPPP1PP/RNBQKBNR b KQkq - 0 1 while parsing <Game at 0x7f67d2f17da0 ('?' vs. '?', '????.??.??' at '?')>\n",
      "illegal san: 'Nb6' in rnbqkbnr/pppppppp/8/8/6P1/8/PPPPPP1P/RNBQKBNR b KQkq - 0 1 while parsing <Game at 0x7f66d04d6840 ('?' vs. '?', '????.??.??' at '?')>\n",
      "illegal san: 'Kd5' in 8/8/1R1bk1p1/6Pp/4B2B/8/8/6K1 b - - 0 50 while parsing <Game at 0x7f66d04d7d10 ('?' vs. '?', '????.??.??' at '?')>\n",
      "illegal san: 'Ke8' in 8/1p1k4/p1r4p/6p1/8/2P1R3/B4PP1/6K1 b - - 2 37 while parsing <Game at 0x7f67d2e710a0 ('?' vs. '?', '????.??.??' at '?')>\n",
      "illegal san: 'Ke4' in 8/pp6/7p/1B2kpn1/8/P3K1P1/1P5P/8 w - - 4 31 while parsing <Game at 0x7f66d04d67b0 ('?' vs. '?', '????.??.??' at '?')>\n",
      "illegal san: 'Ke4' in 5k2/7R/4p3/3p3p/3P2p1/2r1K1P1/5P2/8 w - - 4 53 while parsing <Game at 0x7f66d04d6450 ('?' vs. '?', '????.??.??' at '?')>\n",
      "illegal san: 'Kd5' in 8/p7/P2k4/1P6/3KP3/3B4/8/3r4 b - - 8 63 while parsing <Game at 0x7f66d04d6ba0 ('?' vs. '?', '????.??.??' at '?')>\n",
      "illegal san: 'Qxa1' in rn1qkb1r/1p2pppp/3p1n2/1P6/8/6P1/1B1PPP1P/RN1QKB1R b KQkq - 0 11 while parsing <Game at 0x7f67d2e700e0 ('?' vs. '?', '????.??.??' at '?')>\n",
      "illegal san: 'Ke4' in 8/p7/2pbk1pp/5p2/P5P1/2B1KP1P/1P6/8 w - - 4 31 while parsing <Game at 0x7f66d04d7d10 ('?' vs. '?', '????.??.??' at '?')>\n",
      "illegal san: 'Kd4' in 8/4k3/R4bBp/5p1P/2K5/7r/8/8 w - - 16 64 while parsing <Game at 0x7f67d2e70b90 ('?' vs. '?', '????.??.??' at '?')>\n",
      "illegal san: 'Bd4' in rnbqkbnr/pp2p2p/2p3p1/3p1p2/1P3P2/2P3P1/P2PP2P/RNBQKBNR w KQkq - 0 5 while parsing <Game at 0x7f66d04d6450 ('?' vs. '?', '????.??.??' at '?')>\n",
      "illegal san: 'Ng6' in rnbqkbnr/pppppppp/8/8/8/6P1/PPPPPP1P/RNBQKBNR b KQkq - 0 1 while parsing <Game at 0x7f66d04d6ba0 ('?' vs. '?', '????.??.??' at '?')>\n",
      "illegal san: 'Ba5' in rnbqkbnr/pp1ppppp/8/2p5/5P2/1P6/P1PPP1PP/RNBQKBNR b KQkq - 0 2 while parsing <Game at 0x7f66d04d68d0 ('?' vs. '?', '????.??.??' at '?')>\n",
      "illegal san: 'O-O' in r1bqkbnr/pppp1p1p/6p1/4n3/8/2P2N2/PP2PPPP/RNBQKB1R w KQkq - 0 5 while parsing <Game at 0x7f67d2e70a70 ('?' vs. '?', '????.??.??' at '?')>\n",
      "illegal san: 'Ke5' in 8/8/5k2/P7/r4PK1/2B5/8/8 b - - 20 80 while parsing <Game at 0x7f66d04d44d0 ('?' vs. '?', '????.??.??' at '?')>\n",
      "illegal san: 'Kd4' in r7/4p3/5p1P/4k3/7R/4K3/4P3/8 w - - 4 44 while parsing <Game at 0x7f66d04d7800 ('?' vs. '?', '????.??.??' at '?')>\n",
      "illegal san: 'Ke4' in 4r3/1p2rp2/2pn1k2/p2p1p1p/Pb1P1P1N/1P1KP1PB/4R2P/R7 w - - 31 41 while parsing <Game at 0x7f67d2e70170 ('?' vs. '?', '????.??.??' at '?')>\n",
      "illegal san: 'Ke4' in 8/Qpr2pk1/p3n1p1/P3Pp1p/1P5P/3K2P1/5P2/8 w - - 17 50 while parsing <Game at 0x7f67d2e70c20 ('?' vs. '?', '????.??.??' at '?')>\n",
      "illegal san: 'Kxd4' in Q7/4k3/4p3/8/1q1r4/2K2R2/8/8 w - - 6 68 while parsing <Game at 0x7f67d2e70c20 ('?' vs. '?', '????.??.??' at '?')>\n",
      "illegal san: 'Ncd3' in rnbqkbnr/pppppppp/8/8/8/8/PPPPPPPP/RNBQKBNR w KQkq - 0 1 while parsing <Game at 0x7f66d04d6450 ('?' vs. '?', '????.??.??' at '?')>\n",
      "illegal san: 'Ba5' in rnbqkbnr/pp2pppp/2p5/3p4/3PP3/2N5/PPP2PPP/R1BQKBNR b KQkq - 0 3 while parsing <Game at 0x7f67d2e70a70 ('?' vs. '?', '????.??.??' at '?')>\n",
      "illegal san: 'Bxc3' in rnbqkbnr/pp2p2p/2p3p1/5p2/4PP2/2N3P1/PPP4P/R1BQKBNR b KQkq - 0 6 while parsing <Game at 0x7f66d043bc80 ('?' vs. '?', '????.??.??' at '?')>\n",
      "illegal san: 'Kxe4' in 8/3R4/2p5/1pBb1Krk/4p3/2P3P1/1P6/8 w - - 7 46 while parsing <Game at 0x7f66d043bc80 ('?' vs. '?', '????.??.??' at '?')>\n",
      "illegal san: 'Ke4' in 8/1pkb1p2/p4npp/P1Pp4/1P1N3P/1BbNKPP1/8/8 w - - 5 43 while parsing <Game at 0x7f66d04d7d10 ('?' vs. '?', '????.??.??' at '?')>\n",
      "illegal san: 'Ke4' in 8/8/8/4K3/8/3k4/8/8 w - - 0 66 while parsing <Game at 0x7f66d04d6450 ('?' vs. '?', '????.??.??' at '?')>\n",
      "illegal san: 'Nef6' in r2qkbnr/pppn1p1p/4p3/3p1bp1/3P4/2P2PB1/PP1NP1PP/R2QKBNR b KQkq - 1 6 while parsing <Game at 0x7f67d2e700e0 ('?' vs. '?', '????.??.??' at '?')>\n",
      "illegal san: 'Bb6' in rnbqkbnr/p2ppppp/8/1pp5/3PP3/2P5/PP3PPP/RNBQKBNR b KQkq - 0 3 while parsing <Game at 0x7f66d04d7800 ('?' vs. '?', '????.??.??' at '?')>\n",
      "illegal san: 'Ke4' in 2b5/2P5/2R5/p3k3/2B4p/1P2K3/2r5/8 w - - 4 49 while parsing <Game at 0x7f66d04d68d0 ('?' vs. '?', '????.??.??' at '?')>\n",
      "illegal san: 'Ne6' in rnbqkbnr/pppppppp/8/8/2P5/8/PP1PPPPP/RNBQKBNR b KQkq - 0 1 while parsing <Game at 0x7f67d2e70d40 ('?' vs. '?', '????.??.??' at '?')>\n",
      "illegal san: 'Nb6' in rnbqkbnr/ppppp2p/6p1/5p2/3P4/2P3P1/PP2PP1P/RNBQKBNR b KQkq - 0 3 while parsing <Game at 0x7f67d2f16f90 ('?' vs. '?', '????.??.??' at '?')>\n",
      "illegal san: 'Nhg3' in rnbqkbnr/pp2pppp/2p5/3p4/3P4/2P5/PP2PPPP/RNBQKBNR w KQkq - 0 3 while parsing <Game at 0x7f67d2e70c20 ('?' vs. '?', '????.??.??' at '?')>\n",
      "illegal san: 'Ke4' in 8/2n4k/7p/1p1p1Np1/1P1P1PP1/5KP1/8/8 w - - 7 95 while parsing <Game at 0x7f67d2f17650 ('?' vs. '?', '????.??.??' at '?')>\n",
      "illegal san: 'Ke4' in 8/4bk1p/1p1nNpp1/pP1P4/8/2BK2PP/5P2/8 w - - 7 50 while parsing <Game at 0x7f66d04d6450 ('?' vs. '?', '????.??.??' at '?')>\n",
      "illegal san: 'Kd6' in 8/4k3/4P3/1q2Pp2/1b5P/3Q2P1/8/1K1R4 b - - 4 44 while parsing <Game at 0x7f67d2e70d40 ('?' vs. '?', '????.??.??' at '?')>\n",
      "illegal san: 'Ke5' in 8/5n2/p1p1k3/Pp1p2p1/1P1P2P1/2P2KB1/8/8 b - - 14 45 while parsing <Game at 0x7f66d04d6450 ('?' vs. '?', '????.??.??' at '?')>\n",
      "illegal san: 'Kd4' in 8/2B5/8/3k4/2p5/P1K1rp1P/1P3P2/8 w - - 2 52 while parsing <Game at 0x7f66d04d44d0 ('?' vs. '?', '????.??.??' at '?')>\n",
      "illegal san: 'Ke4' in 8/4B3/4B2k/1p2KP2/8/8/8/4r3 w - - 14 63 while parsing <Game at 0x7f66d04d44d0 ('?' vs. '?', '????.??.??' at '?')>\n",
      "illegal san: 'Ncd3' in rnbqkbn1/ppppp3/5pp1/8/5P1r/1P6/P1PPP1BP/RNBQK1NR w KQq - 0 6 while parsing <Game at 0x7f67d2e70170 ('?' vs. '?', '????.??.??' at '?')>\n",
      "illegal san: 'Ke5' in 8/3b2p1/1p1k4/6P1/1P2BK2/8/8/8 b - - 7 51 while parsing <Game at 0x7f67d2f17e30 ('?' vs. '?', '????.??.??' at '?')>\n",
      "illegal san: 'Kd5' in 8/r7/P2k4/K3p1p1/1P2B2p/5P1P/R5P1/3r4 b - - 4 60 while parsing <Game at 0x7f66d04d7800 ('?' vs. '?', '????.??.??' at '?')>\n",
      "illegal san: 'Ke4' in 8/3bk3/p5p1/1p1p1p1p/1P1P1P1P/P3K1P1/4B3/8 w - - 0 31 while parsing <Game at 0x7f67d2e70d40 ('?' vs. '?', '????.??.??' at '?')>\n",
      "illegal san: 'Kd5' in 1r6/1P3p2/P2k2p1/2N4p/4P3/5P1P/6P1/5K2 b - - 0 48 while parsing <Game at 0x7f67d2f17260 ('?' vs. '?', '????.??.??' at '?')>\n",
      "illegal san: 'Bd5' in rnbqkbnr/pp1pp1pp/2p5/5p2/5P2/5NP1/PPPPP2P/RNBQKB1R b KQkq - 1 3 while parsing <Game at 0x7f66d014c3b0 ('?' vs. '?', '????.??.??' at '?')>\n",
      "illegal san: 'Qxe5' in rnbqkb1r/p1p2ppp/8/1p1np3/1P6/3P3N/P1P2PPP/RNBQKB1R w KQkq - 0 6 while parsing <Game at 0x7f67d2f17260 ('?' vs. '?', '????.??.??' at '?')>\n",
      "illegal san: 'Kd4' in 8/2p5/2k5/Pp2p2p/nP2P3/3KN2P/8/2B3n1 w - - 1 51 while parsing <Game at 0x7f67d2f179b0 ('?' vs. '?', '????.??.??' at '?')>\n",
      "illegal san: 'Bh7' in rnbqkbnr/pp2ppp1/2p5/3p3p/3PP3/2P2P2/PP4PP/RNBQKBNR b KQkq - 0 4 while parsing <Game at 0x7f67d2f175c0 ('?' vs. '?', '????.??.??' at '?')>\n",
      "illegal san: 'Ke5' in 8/8/2R1p3/8/4kP2/8/2p3K1/2r5 b - - 9 57 while parsing <Game at 0x7f67d2f17e30 ('?' vs. '?', '????.??.??' at '?')>\n",
      "illegal san: 'Bxa8' in r1b1kb1r/p1pnq2p/1p1p1np1/4pp2/1PP5/2NPP1P1/P2QNP1P/R1B1KB1R w KQkq - 0 9 while parsing <Game at 0x7f67d2e70a70 ('?' vs. '?', '????.??.??' at '?')>\n",
      "illegal san: 'Kd4' in 8/5p2/8/4k3/p1p2rpp/P3K2P/1P1R2P1/1B3b2 w - - 0 45 while parsing <Game at 0x7f67d2e71010 ('?' vs. '?', '????.??.??' at '?')>\n",
      "illegal san: 'Ke4' in 8/pp2r2p/5k2/3R1pp1/2P5/5K2/PP4PP/8 w - - 8 32 while parsing <Game at 0x7f67d2e70a70 ('?' vs. '?', '????.??.??' at '?')>\n",
      "illegal san: 'Ke5' in 8/2r5/4pk2/1R4p1/2r1pPp1/pKP1R3/P6P/2N5 b - - 0 46 while parsing <Game at 0x7f67d2e70d40 ('?' vs. '?', '????.??.??' at '?')>\n",
      "illegal san: 'Bd4' in rnbqkb1r/ppppp1pp/5n2/5p2/5P2/5N2/PPPPP1PP/RNBQKB1R w KQkq - 2 3 while parsing <Game at 0x7f67d2e71010 ('?' vs. '?', '????.??.??' at '?')>\n",
      "illegal san: 'Nac7' in rnbqkbnr/p3pp2/1pp3p1/3pP2p/1P1P4/7P/P1P1BPP1/RNBQK1NR b KQkq - 0 6 while parsing <Game at 0x7f67d2e71010 ('?' vs. '?', '????.??.??' at '?')>\n",
      "illegal san: 'Kd5' in 4r3/8/2k5/4R3/r2RK2P/6P1/5P2/8 b - - 4 52 while parsing <Game at 0x7f67d2f179b0 ('?' vs. '?', '????.??.??' at '?')>\n",
      "illegal san: 'Kxd5' in 8/8/3p4/2pPkPp1/2P3N1/6Kb/7P/8 b - - 0 46 while parsing <Game at 0x7f67d2f17e30 ('?' vs. '?', '????.??.??' at '?')>\n",
      "illegal san: 'Kd5' in 8/1p3r1p/4n1p1/5p2/4kP1P/3Q2P1/4P1K1/2q5 b - - 1 49 while parsing <Game at 0x7f67d2f17e30 ('?' vs. '?', '????.??.??' at '?')>\n",
      "illegal san: 'Ke5' in 8/8/p1n1k3/1p4p1/1P1B1p1p/P1K2P1P/6P1/8 b - - 2 41 while parsing <Game at 0x7f67d2f17e30 ('?' vs. '?', '????.??.??' at '?')>\n",
      "illegal san: 'Kd4' in 8/3kp3/4p3/p1p1K3/5P2/1P6/8/8 w - - 0 51 while parsing <Game at 0x7f66d04d44d0 ('?' vs. '?', '????.??.??' at '?')>\n",
      "illegal san: 'Bf2' in rnbqkbnr/p2pp1pp/1pp2p2/8/3P1P2/1P6/P1P1P1PP/RNBQKBNR w KQkq - 0 4 while parsing <Game at 0x7f67d2e70a70 ('?' vs. '?', '????.??.??' at '?')>\n",
      "illegal san: 'Ng3' in rnbqkbnr/ppp2ppp/3p4/4p3/4P3/5N2/PPPP1PPP/RNBQKB1R w KQkq - 0 3 while parsing <Game at 0x7f67d2e70170 ('?' vs. '?', '????.??.??' at '?')>\n",
      "illegal san: 'Nb6' in rnbqkbnr/ppp1pp1p/6p1/3p4/5PP1/2P5/PP1PP2P/RNBQKBNR b KQkq - 0 3 while parsing <Game at 0x7f67d2e71010 ('?' vs. '?', '????.??.??' at '?')>\n",
      "illegal san: 'Ne6' in rnbqkbnr/ppp2ppp/3p4/4p3/4P3/1P3N2/P1PP1PPP/RNBQKB1R b KQkq - 1 3 while parsing <Game at 0x7f66d04d6450 ('?' vs. '?', '????.??.??' at '?')>\n",
      "illegal san: 'Ke4' in 8/4n3/1p2k3/p1n1P3/8/1P3K2/P7/3R4 w - - 0 50 while parsing <Game at 0x7f66d04d44d0 ('?' vs. '?', '????.??.??' at '?')>\n",
      "illegal san: 'Kd5' in 8/8/6p1/2K4p/1P2k2P/6P1/8/8 b - - 0 55 while parsing <Game at 0x7f67d2e71010 ('?' vs. '?', '????.??.??' at '?')>\n",
      "illegal san: 'Kd5' in 8/8/8/1R2kp1p/6pP/6K1/4r1P1/8 b - - 13 47 while parsing <Game at 0x7f66d04d6450 ('?' vs. '?', '????.??.??' at '?')>\n",
      "illegal san: 'Ke5' in 8/6p1/5k1p/5P2/5K2/pB1bP3/7P/8 w - - 2 42 while parsing <Game at 0x7f66d04d7800 ('?' vs. '?', '????.??.??' at '?')>\n",
      "illegal san: 'Ke4' in 5k2/4r2R/6P1/1b1B1K2/p7/8/8/8 w - - 5 78 while parsing <Game at 0x7f67d2f179b0 ('?' vs. '?', '????.??.??' at '?')>\n",
      "illegal san: 'Ke5' in 8/7p/p2kp3/2P5/N1PbK3/r7/P3R2P/8 b - - 0 42 while parsing <Game at 0x7f67d2f17260 ('?' vs. '?', '????.??.??' at '?')>\n",
      "illegal san: 'Nd3' in rnb1kbnr/ppqppppp/2p5/8/6P1/1P6/P1PPPP1P/RNBQKBNR w KQkq - 1 3 while parsing <Game at 0x7f67d2e700e0 ('?' vs. '?', '????.??.??' at '?')>\n",
      "illegal san: 'Kxg6' in 1r1q4/1pb3kp/p3Q1B1/3P2p1/8/n5P1/P4P1P/R3R1K1 b - - 0 31 while parsing <Game at 0x7f67d2f175c0 ('?' vs. '?', '????.??.??' at '?')>\n",
      "illegal san: 'Ke4' in 8/3RQB1k/6b1/p6p/1p5P/5KP1/PP3P2/2r4q w - - 3 39 while parsing <Game at 0x7f67d2f179b0 ('?' vs. '?', '????.??.??' at '?')>\n",
      "illegal san: 'Ke4' in 8/4R3/1p6/4p2k/1r4p1/4K1P1/5P2/8 w - - 2 45 while parsing <Game at 0x7f66d014cef0 ('?' vs. '?', '????.??.??' at '?')>\n",
      "illegal san: 'Kd4' in 1k6/p7/2p5/3r3p/2K1p2P/P2p4/1P3RP1/8 w - - 0 38 while parsing <Game at 0x7f66d04d44d0 ('?' vs. '?', '????.??.??' at '?')>\n",
      "illegal san: 'Ke4' in 8/8/3k1p2/1p1pb3/p5P1/P1P1BK2/1P6/8 w - - 34 74 while parsing <Game at 0x7f67d2e70a70 ('?' vs. '?', '????.??.??' at '?')>\n",
      "illegal san: 'Kd5' in 2r5/8/2n1k3/1p2P3/7R/1Q3P2/5qPK/4R3 b - - 4 65 while parsing <Game at 0x7f66d04d44d0 ('?' vs. '?', '????.??.??' at '?')>\n",
      "illegal san: 'Kd4' in 8/pp4p1/5p1p/2kb4/2p2P2/P1K3P1/1P5P/3B4 w - - 2 43 while parsing <Game at 0x7f66d014e210 ('?' vs. '?', '????.??.??' at '?')>\n",
      "illegal san: 'Kxe4' in 8/1p6/p3bk2/3p2p1/1P2r3/2P1NKP1/1P1R4/8 w - - 10 42 while parsing <Game at 0x7f66d04d6450 ('?' vs. '?', '????.??.??' at '?')>\n",
      "illegal san: 'Ng3' in rnbqkbnr/p1pp1ppp/1p6/4p3/4P3/5N2/PPPP1PPP/RNBQKB1R w KQkq - 0 3 while parsing <Game at 0x7f67d2e71010 ('?' vs. '?', '????.??.??' at '?')>\n",
      "illegal san: 'Ne6' in rnbqkbnr/pppp1ppp/8/4p3/4P3/2N5/PPPP1PPP/R1BQKBNR b KQkq - 1 2 while parsing <Game at 0x7f66d014c8c0 ('?' vs. '?', '????.??.??' at '?')>\n",
      "illegal san: 'Ke4' in 8/1p6/p7/4K3/8/P1B1k3/1P4b1/8 w - - 6 41 while parsing <Game at 0x7f67d2e71010 ('?' vs. '?', '????.??.??' at '?')>\n",
      "illegal san: 'Ng3' in rnbqkbnr/pppp1ppp/8/4p3/4P3/8/PPPP1PPP/RNBQKBNR w KQkq - 0 2 while parsing <Game at 0x7f66d04d44d0 ('?' vs. '?', '????.??.??' at '?')>\n",
      "illegal san: 'Kd5' in 1R6/5P2/8/2b1k3/8/1B4K1/4b3/8 b - - 4 93 while parsing <Game at 0x7f67d2e70a70 ('?' vs. '?', '????.??.??' at '?')>\n",
      "illegal san: 'Kd5' in 8/P7/3k4/1P6/2K1P3/2N5/2N5/2r5 b - - 0 99 while parsing <Game at 0x7f66d04d44d0 ('?' vs. '?', '????.??.??' at '?')>\n",
      "illegal san: 'Ke4' in 8/8/4pk2/RP1p4/1r3PP1/5K2/8/8 w - - 9 63 while parsing <Game at 0x7f67d2e70a70 ('?' vs. '?', '????.??.??' at '?')>\n",
      "illegal san: 'Ke4' in 8/5p2/6k1/1p4Pp/1r3P2/1P1R1K2/8/8 w - - 9 53 while parsing <Game at 0x7f66d014e210 ('?' vs. '?', '????.??.??' at '?')>\n",
      "illegal san: 'Kd4' in 8/6Rp/p3p2P/4k3/BPK1n3/P4p2/2Pr4/8 w - - 0 48 while parsing <Game at 0x7f67d2f17e30 ('?' vs. '?', '????.??.??' at '?')>\n",
      "illegal san: 'Kxe5' in 8/8/8/4Pkp1/4nPp1/4P3/8/6K1 b - - 1 66 while parsing <Game at 0x7f67d2f17e30 ('?' vs. '?', '????.??.??' at '?')>\n",
      "illegal san: 'Kd5' in 4r3/3R3p/2k1P3/4b3/PN6/6P1/8/7K b - - 10 54 while parsing <Game at 0x7f67d2e71010 ('?' vs. '?', '????.??.??' at '?')>\n",
      "illegal san: 'Kd5' in 8/1Rn3p1/3k3p/4pP1P/4B1P1/3K4/8/b7 b - - 2 57 while parsing <Game at 0x7f67d2f17e30 ('?' vs. '?', '????.??.??' at '?')>\n",
      "illegal san: 'O-O' in rnbqkb1r/p3pppp/1p3n2/3p4/2PN4/1P6/P3PPPP/RNBQKB1R w KQkq - 0 6 while parsing <Game at 0x7f67d2e70a70 ('?' vs. '?', '????.??.??' at '?')>\n",
      "illegal san: 'Ng3' in rnbqkbnr/1pppp1pp/p4p2/8/4PP2/8/PPPP2PP/RNBQKBNR w KQkq - 0 3 while parsing <Game at 0x7f66d04d6450 ('?' vs. '?', '????.??.??' at '?')>\n",
      "illegal san: 'Kd4' in 8/7p/5k2/6p1/7r/P1R1KP2/7P/8 w - - 10 41 while parsing <Game at 0x7f66d014e600 ('?' vs. '?', '????.??.??' at '?')>\n",
      "illegal san: 'Bxe4' in rn1qkbnr/ppp1pp1p/4b1p1/4N3/3Pp3/6P1/PPP2P1P/RNBQKB1R w KQkq - 0 6 while parsing <Game at 0x7f67d2e70a70 ('?' vs. '?', '????.??.??' at '?')>\n",
      "illegal san: 'Ke4' in 8/5pk1/8/7R/r7/5K2/8/8 w - - 0 41 while parsing <Game at 0x7f66d014ca70 ('?' vs. '?', '????.??.??' at '?')>\n",
      "illegal san: 'Nfg3' in r1bqkbnr/pp1npppp/2p5/8/3PN3/8/PPP2PPP/R1BQKBNR w KQkq - 1 5 while parsing <Game at 0x7f66d014e690 ('?' vs. '?', '????.??.??' at '?')>\n",
      "illegal san: 'Ng3' in rn1qkbnr/pbpppppp/1p6/8/5PP1/8/PPPPP2P/RNBQKBNR w KQkq - 1 3 while parsing <Game at 0x7f66d043bc80 ('?' vs. '?', '????.??.??' at '?')>\n",
      "illegal san: 'Nd3' in rnbqkbnr/pppppppp/8/8/8/8/PPPPPPPP/RNBQKBNR w KQkq - 0 1 while parsing <Game at 0x7f67d2e70b90 ('?' vs. '?', '????.??.??' at '?')>\n",
      "illegal san: 'Kd4' in 8/p7/8/2K1k3/1p6/7n/P7/8 w - - 1 46 while parsing <Game at 0x7f67d2e70d40 ('?' vs. '?', '????.??.??' at '?')>\n",
      "illegal san: 'Kd4' in 8/8/2p5/3k4/Pp6/1NK5/8/5b2 w - - 0 61 while parsing <Game at 0x7f67d2e710a0 ('?' vs. '?', '????.??.??' at '?')>\n",
      "illegal san: 'Kd4' in 8/8/4p2p/2k3p1/1nN3P1/2K2Pb1/1P6/8 w - - 25 53 while parsing <Game at 0x7f67d2e71f40 ('?' vs. '?', '????.??.??' at '?')>\n",
      "illegal san: 'Ke5' in 8/8/pB2k1p1/2p5/P1P1K3/5P2/5b2/8 b - - 0 41 while parsing <Game at 0x7f67d2e709e0 ('?' vs. '?', '????.??.??' at '?')>\n",
      "illegal san: 'Nd6' in r1bqkbnr/pppp2pp/2n2p2/4p3/4PP2/2N3P1/PPPP3P/R1BQKBNR b KQkq - 1 4 while parsing <Game at 0x7f67d2e71130 ('?' vs. '?', '????.??.??' at '?')>\n",
      "illegal san: 'Ne6' in rnbqkbnr/pppppppp/8/8/8/1P6/P1PPPPPP/RNBQKBNR b KQkq - 0 1 while parsing <Game at 0x7f67d2e71010 ('?' vs. '?', '????.??.??' at '?')>\n",
      "illegal san: 'Ke5' in 3b4/3n1p2/1p2k1pp/2p5/2N1K1P1/2P5/1P1N1PP1/8 b - - 17 43 while parsing <Game at 0x7f67d2e70c20 ('?' vs. '?', '????.??.??' at '?')>\n",
      "illegal san: 'Ke5' in 8/5p2/6p1/5r1p/2R1kP1P/6P1/6K1/8 b - - 1 45 while parsing <Game at 0x7f67d2e71130 ('?' vs. '?', '????.??.??' at '?')>\n",
      "illegal san: 'Kxd5' in 8/R5p1/3Pk2p/3R4/2p2pP1/2Nn1P1P/1r6/6K1 b - - 6 48 while parsing <Game at 0x7f67d2e71010 ('?' vs. '?', '????.??.??' at '?')>\n",
      "illegal san: 'O-O' in rnbqkb1r/4pppp/p1pp1n2/Pp6/1P3P2/6P1/1BPPP2P/RN1QKBNR b KQkq - 0 6 while parsing <Game at 0x7f67d2e70b00 ('?' vs. '?', '????.??.??' at '?')>\n",
      "illegal san: 'Bf2' in rnbqkbnr/pp1p2pp/2p5/3Pp3/2P2p2/5P2/PP2P1PP/RNBQKBNR w KQkq - 0 5 while parsing <Game at 0x7f67d2e70c20 ('?' vs. '?', '????.??.??' at '?')>\n",
      "illegal san: 'Ke4' in 8/R7/8/7k/2r5/p4K1P/8/8 w - - 0 46 while parsing <Game at 0x7f67d2e70e60 ('?' vs. '?', '????.??.??' at '?')>\n",
      "illegal san: 'Bf7' in rnbqkbnr/1pppp1p1/8/p4p1p/5P2/1PN3P1/P1PPP2P/R1BQKBNR b KQkq - 0 4 while parsing <Game at 0x7f67d2e708c0 ('?' vs. '?', '????.??.??' at '?')>\n",
      "illegal san: 'Nd6' in rnbqkbnr/pppppppp/8/8/5P2/8/PPPPP1PP/RNBQKBNR b KQkq - 0 1 while parsing <Game at 0x7f67d2e70a70 ('?' vs. '?', '????.??.??' at '?')>\n",
      "illegal san: 'O-O' in rnbqkbnr/pp2pppp/2p5/3p4/2PP4/8/PP2PPPP/RNBQKBNR w KQkq - 0 3 while parsing <Game at 0x7f67d2e71f40 ('?' vs. '?', '????.??.??' at '?')>\n",
      "illegal san: 'Ke4' in 6R1/5p2/3k4/8/3K1r2/1P6/8/8 w - - 1 45 while parsing <Game at 0x7f66d04d6ba0 ('?' vs. '?', '????.??.??' at '?')>\n",
      "illegal san: 'Ke4' in 8/4kp2/7p/4P3/1r3P1R/3BK3/4P3/5r2 w - - 39 73 while parsing <Game at 0x7f67d2e710a0 ('?' vs. '?', '????.??.??' at '?')>\n",
      "illegal san: 'Bb6' in rnbqkbnr/pp2pppp/2p5/8/3PN3/8/PPP2PPP/R1BQKBNR b KQkq - 0 4 while parsing <Game at 0x7f67d2e709e0 ('?' vs. '?', '????.??.??' at '?')>\n",
      "illegal san: 'Ke5' in 8/8/3kp1pp/r1pp1p2/P1P2P2/2K1P1P1/7P/R7 b - - 9 38 while parsing <Game at 0x7f67d2e71f40 ('?' vs. '?', '????.??.??' at '?')>\n",
      "illegal san: 'Ke4' in 8/kp3P2/2p4b/p2p1B2/Pn1P1K1p/1P5P/6R1/8 w - - 3 48 while parsing <Game at 0x7f67d2e71f40 ('?' vs. '?', '????.??.??' at '?')>\n",
      "illegal san: 'Rxc5' in rnbqkbnr/pp1pp1pp/5p2/2P5/2P5/8/P2PPPPP/RNBQKBNR b KQkq - 0 3 while parsing <Game at 0x7f66d04d68d0 ('?' vs. '?', '????.??.??' at '?')>\n",
      "illegal san: 'Kd4' in 8/8/4R3/r3p3/6k1/4K3/8/8 w - - 4 51 while parsing <Game at 0x7f67d2e71f40 ('?' vs. '?', '????.??.??' at '?')>\n",
      "illegal san: 'Nhg6' in rnbqkbnr/pp1p1ppp/2p5/4p3/2P5/1P6/PB1PPPPP/RN1QKBNR b KQkq - 1 3 while parsing <Game at 0x7f66d04d6450 ('?' vs. '?', '????.??.??' at '?')>\n",
      "illegal san: 'Nd6' in r1bqkbnr/ppppp1pp/2n2p2/8/PP6/B7/2PPPPPP/RN1QKBNR b KQkq - 2 3 while parsing <Game at 0x7f66d043bc80 ('?' vs. '?', '????.??.??' at '?')>\n",
      "illegal san: 'Nhg3' in rnbqkbnr/pp1ppppp/8/2p5/4P3/8/PPPP1PPP/RNBQKBNR w KQkq - 0 2 while parsing <Game at 0x7f67d2e70b00 ('?' vs. '?', '????.??.??' at '?')>\n",
      "illegal san: 'O-O' in rnbqk1nr/p3ppbp/1pp3p1/3p4/2PP1P2/1PN1P3/P5PP/R1BQKBNR b KQkq - 0 6 while parsing <Game at 0x7f67d2e71f40 ('?' vs. '?', '????.??.??' at '?')>\n",
      "illegal san: 'Re1' in rnb1kb1r/1ppqp2p/3p1np1/p4p2/P4P2/3P1NP1/1PPQP2P/RNB1KB1R w KQkq - 0 7 while parsing <Game at 0x7f66d04d6ba0 ('?' vs. '?', '????.??.??' at '?')>\n",
      "illegal san: 'Ke4' in 2R5/pp1r1pk1/4p2p/5p2/8/1P2K1P1/P3PP1P/8 w - - 8 29 while parsing <Game at 0x7f66d04d6450 ('?' vs. '?', '????.??.??' at '?')>\n",
      "illegal san: 'Kd4' in 3q3k/P1p3pp/2P5/2BB4/2Q1Pp2/2K2P2/3r3P/r1b5 w - - 3 50 while parsing <Game at 0x7f67d2e710a0 ('?' vs. '?', '????.??.??' at '?')>\n",
      "illegal san: 'Nb6' in rnbqkbnr/pppppppp/8/8/5P2/8/PPPPP1PP/RNBQKBNR b KQkq - 0 1 while parsing <Game at 0x7f67d2e70b00 ('?' vs. '?', '????.??.??' at '?')>\n",
      "illegal san: 'Kxd2' in 8/8/1P6/6p1/1R6/3bk3/P1Kp3r/8 w - - 2 47 while parsing <Game at 0x7f66d04d68d0 ('?' vs. '?', '????.??.??' at '?')>\n",
      "illegal san: 'Qh7' in r2qk2r/pp2bpp1/n1p1pn1p/3p1b2/3P1B2/1NP1PN1P/PP2BPP1/R2QK2R b KQkq - 1 9 while parsing <Game at 0x7f67d2e70e60 ('?' vs. '?', '????.??.??' at '?')>\n",
      "illegal san: 'Kd5' in r1b1Bb2/1p2n3/p1kPQ3/n7/P1p4r/1qP1B3/1P3PPP/R3K2R b KQ - 2 24 while parsing <Game at 0x7f67d2e708c0 ('?' vs. '?', '????.??.??' at '?')>\n",
      "illegal san: 'Nhg3' in rnbqkbnr/p1pp2pp/1p2pp2/8/2P5/1P6/PB1PPPPP/RN1QKBNR w KQkq - 0 4 while parsing <Game at 0x7f67d2e710a0 ('?' vs. '?', '????.??.??' at '?')>\n",
      "illegal san: 'Nb6' in rnbqkbnr/ppp1pp2/3p2p1/7p/3PP3/2P2N2/PP3PPP/RNBQKB1R b KQkq - 1 4 while parsing <Game at 0x7f67d2e710a0 ('?' vs. '?', '????.??.??' at '?')>\n",
      "illegal san: 'Kd5' in 8/8/4k3/4Rp2/3Bn2P/1r4P1/5PK1/8 b - - 10 64 while parsing <Game at 0x7f67d2e709e0 ('?' vs. '?', '????.??.??' at '?')>\n",
      "illegal san: 'Rxe5' in rnbqkbnr/pppp1ppp/8/4P3/8/8/PPPPP1PP/RNBQKBNR b KQkq - 0 2 while parsing <Game at 0x7f67d2e709e0 ('?' vs. '?', '????.??.??' at '?')>\n",
      "illegal san: 'Kd4' in 8/8/6p1/4K2p/6PP/2kr1P2/8/8 w - - 3 61 while parsing <Game at 0x7f67d2e709e0 ('?' vs. '?', '????.??.??' at '?')>\n",
      "illegal san: 'Ke4' in 8/1p5p/3n4/p2k1p2/5P2/PP1K3P/2N5/8 w - - 10 43 while parsing <Game at 0x7f67d2e70b00 ('?' vs. '?', '????.??.??' at '?')>\n",
      "illegal san: 'Bxd4' in rn1qkbnr/pbpp2pp/1p6/5p2/3pP3/2N2P2/PPP1B1PP/R1BQK1NR w KQkq - 0 6 while parsing <Game at 0x7f67d2e70c20 ('?' vs. '?', '????.??.??' at '?')>\n",
      "illegal san: 'Kd5' in 8/8/2p1k1Pp/7P/2KBP3/4b3/8/8 b - - 4 54 while parsing <Game at 0x7f67d2e70c20 ('?' vs. '?', '????.??.??' at '?')>\n",
      "illegal san: 'Nhg6' in rnbqkbnr/pppppppp/8/8/2P5/8/PP1PPPPP/RNBQKBNR b KQkq - 0 1 while parsing <Game at 0x7f67d2e70b00 ('?' vs. '?', '????.??.??' at '?')>\n",
      "illegal san: 'Ke5' in 8/8/4k1p1/3N4/4PP2/5K2/8/6r1 b - - 2 63 while parsing <Game at 0x7f67d2e70b00 ('?' vs. '?', '????.??.??' at '?')>\n",
      "illegal san: 'Nxg6' in rnbqkbnr/ppppp2p/6P1/8/8/8/PPPP1PPP/RNBQKBNR b KQkq - 0 3 while parsing <Game at 0x7f67d2e70b00 ('?' vs. '?', '????.??.??' at '?')>\n",
      "illegal san: 'Ke5' in 8/8/2pK1k2/p4p1R/8/4r1P1/8/8 w - - 1 68 while parsing <Game at 0x7f66d04d6450 ('?' vs. '?', '????.??.??' at '?')>\n",
      "illegal san: 'Nec7' in rn1qkbnr/pp1bpp1p/3p2p1/2p5/P3PPP1/3P4/1PP4P/RNBQKBNR b KQkq - 0 5 while parsing <Game at 0x7f67d2e70c20 ('?' vs. '?', '????.??.??' at '?')>\n",
      "illegal san: 'Kd5' in 3R4/p4r2/1p2k3/8/P5QP/6R1/6PK/2qr4 b - - 10 49 while parsing <Game at 0x7f67d2e708c0 ('?' vs. '?', '????.??.??' at '?')>\n",
      "illegal san: 'O-O-O' in rnbqkb1r/pp1p3p/2p3p1/4pn2/8/2P3P1/PPQPNP1P/RNB1KB1R w KQkq - 0 7 while parsing <Game at 0x7f67d2f17f50 ('?' vs. '?', '????.??.??' at '?')>\n",
      "illegal san: 'Ke5' in 8/2b5/4k3/1p6/4K3/1P6/8/2B5 b - - 9 47 while parsing <Game at 0x7f67d2f17e30 ('?' vs. '?', '????.??.??' at '?')>\n",
      "illegal san: 'Ke4' in 8/8/7p/4kp2/8/1r1PK1P1/4P1BP/8 w - - 6 43 while parsing <Game at 0x7f66d04d6ba0 ('?' vs. '?', '????.??.??' at '?')>\n",
      "illegal san: 'Nac7' in rnbqkbnr/p2ppppp/1pp5/8/1P2P3/5P2/P1PP2PP/RNBQKBNR b KQkq - 0 3 while parsing <Game at 0x7f66d04d68d0 ('?' vs. '?', '????.??.??' at '?')>\n",
      "illegal san: 'Nd6' in rnbqkbnr/ppp1pppp/8/3p4/3P4/2P5/PP2PPPP/RNBQKBNR b KQkq - 0 2 while parsing <Game at 0x7f67d2e70e60 ('?' vs. '?', '????.??.??' at '?')>\n",
      "illegal san: 'Ke5' in 8/8/8/5p2/3k1P2/r4P2/p4K2/R7 b - - 11 61 while parsing <Game at 0x7f67d2f17530 ('?' vs. '?', '????.??.??' at '?')>\n",
      "illegal san: 'Ng3' in rnbqkbnr/pp1p2pp/2p2p2/4p3/3PP3/5P2/PPP3PP/RNBQKBNR w KQkq - 0 4 while parsing <Game at 0x7f67d2f17530 ('?' vs. '?', '????.??.??' at '?')>\n",
      "illegal san: 'Ne6' in rnbqkbnr/ppppp1pp/8/5p2/8/1P1P4/P1P1PPPP/RNBQKBNR b KQkq - 0 2 while parsing <Game at 0x7f67d2e70b00 ('?' vs. '?', '????.??.??' at '?')>\n",
      "illegal san: 'Kd4' in 8/8/6n1/3k2N1/1P6/4K3/p7/8 w - - 0 54 while parsing <Game at 0x7f67d2f17530 ('?' vs. '?', '????.??.??' at '?')>\n",
      "illegal san: 'Kd5' in 4RQ2/q7/3k2K1/6N1/1p6/6P1/B7/8 b - - 0 62 while parsing <Game at 0x7f66d04d68d0 ('?' vs. '?', '????.??.??' at '?')>\n",
      "illegal san: 'Kd5' in 5r2/1p4pp/1N2k3/p4p2/3P1B2/8/P4PPP/6K1 b - - 1 26 while parsing <Game at 0x7f66d04d68d0 ('?' vs. '?', '????.??.??' at '?')>\n",
      "illegal san: 'Kc3' in 6k1/1P4p1/P2Np3/4q3/2P2p2/7p/1K1Q2bP/8 w - - 0 44 while parsing <Game at 0x7f66d04d6ba0 ('?' vs. '?', '????.??.??' at '?')>\n",
      "illegal san: 'Kd5' in 5r2/p5p1/1p2p2p/2k5/2Pq4/3Q4/P3BPPP/3R2K1 b - - 0 34 while parsing <Game at 0x7f67d2e709e0 ('?' vs. '?', '????.??.??' at '?')>\n",
      "illegal san: 'Kd5' in r4r2/1pq1b3/p1nRB1pQ/2p2p2/4kBP1/8/PP3P1P/4R1K1 b - - 10 27 while parsing <Game at 0x7f66d014d880 ('?' vs. '?', '????.??.??' at '?')>\n",
      "illegal san: 'Nf2' in r1bqkbnr/ppp2ppp/2n1p3/3p4/3P1P2/4P3/PPP3PP/RNBQKBNR w KQkq - 0 4 while parsing <Game at 0x7f66d04d68d0 ('?' vs. '?', '????.??.??' at '?')>\n",
      "illegal san: 'Nd3' in rnbqkb1r/ppppp1pp/5n2/5p2/3P4/2P5/PP2PPPP/RNBQKBNR w KQkq - 1 3 while parsing <Game at 0x7f67d2f17530 ('?' vs. '?', '????.??.??' at '?')>\n",
      "illegal san: 'Kxd5' in 8/7r/3k1R2/3P4/4P1K1/8/8/8 b - - 2 62 while parsing <Game at 0x7f67d2f17e30 ('?' vs. '?', '????.??.??' at '?')>\n",
      "illegal san: 'Nhg3' in rnbqkbnr/p2pp1pp/1p3p2/2p5/2P5/1P6/PB1PPPPP/RN1QKBNR w KQkq - 0 4 while parsing <Game at 0x7f67d2f175c0 ('?' vs. '?', '????.??.??' at '?')>\n",
      "illegal san: 'Ke5' in 1B6/8/8/7p/4k3/8/2K5/8 b - - 0 63 while parsing <Game at 0x7f67d2f17e30 ('?' vs. '?', '????.??.??' at '?')>\n",
      "illegal san: 'Ke4' in 8/4k2p/P3p3/4Ppp1/8/R2RK3/2r2rPP/8 w - - 16 47 while parsing <Game at 0x7f67d2f17e30 ('?' vs. '?', '????.??.??' at '?')>\n",
      "illegal san: 'Bxb6' in rnbqkbnr/p2ppppp/1P6/8/8/8/PPP1PPPP/RNBQKBNR b KQkq - 0 3 while parsing <Game at 0x7f66d04d68d0 ('?' vs. '?', '????.??.??' at '?')>\n",
      "illegal san: 'Bd4' in rn1qkbnr/pp1bpp1p/3p2p1/2p5/P3PPP1/3P4/1PP4P/RNBQKBNR b KQkq - 0 5 while parsing <Game at 0x7f66d014db50 ('?' vs. '?', '????.??.??' at '?')>\n",
      "illegal san: 'Bxh8' in rnbqkb1r/p1pppp1p/1p4pn/8/5P2/1P3N2/P1PPP1PP/RNBQKB1R w KQkq - 0 4 while parsing <Game at 0x7f67d2f17530 ('?' vs. '?', '????.??.??' at '?')>\n",
      "illegal san: 'Ng3' in r1bqkb1r/p1pn1ppp/1p2pn2/3p4/5P2/1P2PN2/P1PPB1PP/RNBQK2R w KQkq - 0 6 while parsing <Game at 0x7f66d014d640 ('?' vs. '?', '????.??.??' at '?')>\n",
      "illegal san: 'Ke4' in 8/7p/8/p3kp2/8/1P1K1P1P/8/8 w - - 5 52 while parsing <Game at 0x7f67d2f175c0 ('?' vs. '?', '????.??.??' at '?')>\n",
      "illegal san: 'Ke4' in 8/8/1p2kp1p/p2p2p1/P2P2P1/4KP2/1P5P/8 w - - 8 39 while parsing <Game at 0x7f67d2f17530 ('?' vs. '?', '????.??.??' at '?')>\n",
      "illegal san: 'Qxf6' in rnbqkbr1/pp2pp1p/2p2NpB/8/3P4/2P4P/PP2PP2/R2QKBNR b KQq - 0 8 while parsing <Game at 0x7f67d2f175c0 ('?' vs. '?', '????.??.??' at '?')>\n",
      "illegal san: 'Nb3' in rnbqkbnr/ppppp1pp/8/5p2/5P2/8/PPPPP1PP/RNBQKBNR w KQkq - 0 2 while parsing <Game at 0x7f67d2f17e30 ('?' vs. '?', '????.??.??' at '?')>\n",
      "illegal san: 'Qg2' in r1bqkbnr/ppp2pp1/2np4/4p2p/4PP2/2N3P1/PPPP3P/R1BQKBNR w KQkq - 0 5 while parsing <Game at 0x7f67d2f17530 ('?' vs. '?', '????.??.??' at '?')>\n",
      "illegal san: 'Kd5' in 8/P4R2/3k1pp1/4p2p/2K5/3P3P/5PP1/r7 b - - 5 48 while parsing <Game at 0x7f67d2f17e30 ('?' vs. '?', '????.??.??' at '?')>\n",
      "illegal san: 'Kf3' in 8/8/8/B3k2p/1P1n4/4K1P1/8/8 w - - 11 77 while parsing <Game at 0x7f67d2f17e30 ('?' vs. '?', '????.??.??' at '?')>\n",
      "illegal san: 'Nf2' in rnbqkb1r/pppp2pp/4pn2/5p2/5P2/1P2P3/P1PP2PP/RNBQKBNR w KQkq - 0 4 while parsing <Game at 0x7f67d2e709e0 ('?' vs. '?', '????.??.??' at '?')>\n",
      "illegal san: 'Kd4' in 8/p2P4/7p/4k1p1/6p1/4Kr2/1r3P1R/3R4 w - - 1 47 while parsing <Game at 0x7f67d2f17e30 ('?' vs. '?', '????.??.??' at '?')>\n",
      "illegal san: 'Kd4' in 8/8/8/8/1r6/1k1K4/p7/6R1 w - - 0 63 while parsing <Game at 0x7f67d2e708c0 ('?' vs. '?', '????.??.??' at '?')>\n",
      "illegal san: 'Ng3' in rnbqkbnr/ppp1p1pp/8/3p1P2/8/8/PPPP1PPP/RNBQKBNR w KQkq - 0 3 while parsing <Game at 0x7f67d2e708c0 ('?' vs. '?', '????.??.??' at '?')>\n",
      "illegal san: 'Kd4' in 8/2p5/8/4k3/8/4K3/8/8 w - - 2 70 while parsing <Game at 0x7f67d2e70c20 ('?' vs. '?', '????.??.??' at '?')>\n",
      "illegal san: 'Ke4' in 2R2R2/6pk/4r2p/p3P2P/1p4P1/4K3/PP6/4r3 w - - 4 46 while parsing <Game at 0x7f67d2f17e30 ('?' vs. '?', '????.??.??' at '?')>\n",
      "illegal san: 'Kd5' in 5n2/8/r6R/p1p1k1R1/P4rP1/KP6/8/8 b - - 0 68 while parsing <Game at 0x7f67d2f175c0 ('?' vs. '?', '????.??.??' at '?')>\n",
      "illegal san: 'Nce7' in rnbqkbnr/p1pp1ppp/8/1p2p3/1P2P3/7N/P1PP1PPP/RNBQKB1R b KQkq - 1 3 while parsing <Game at 0x7f67d2f17e30 ('?' vs. '?', '????.??.??' at '?')>\n",
      "illegal san: 'Ke4' in 8/4N3/1pR5/p4k2/P2P4/1PP1K3/3n2r1/8 b - - 4 45 while parsing <Game at 0x7f66d04d6ba0 ('?' vs. '?', '????.??.??' at '?')>\n",
      "illegal san: 'Ke5' in 8/1p4p1/3r4/3b1k2/3B2R1/2P3KP/8/8 b - - 3 47 while parsing <Game at 0x7f66d04d6ba0 ('?' vs. '?', '????.??.??' at '?')>\n",
      "illegal san: 'Ne6' in rnbqkb1r/p1pppppp/5n2/1P6/3P4/8/PP2PPPP/RNBQKBNR b KQkq - 0 3 while parsing <Game at 0x7f67d2e708c0 ('?' vs. '?', '????.??.??' at '?')>\n",
      "illegal san: 'Qf2' in rnbqkbnr/2pppppp/8/pp6/5P2/1P6/P1PPP1PP/RNBQKBNR w KQkq - 0 3 while parsing <Game at 0x7f66d04d6ba0 ('?' vs. '?', '????.??.??' at '?')>\n",
      "illegal san: 'Ke5' in 8/8/3k3p/R6P/3PK3/8/7r/8 b - - 34 80 while parsing <Game at 0x7f67d2f17e30 ('?' vs. '?', '????.??.??' at '?')>\n",
      "illegal san: 'Kxe4' in 8/p7/P7/3k4/4p3/3K4/8/8 w - - 0 64 while parsing <Game at 0x7f66d014c8c0 ('?' vs. '?', '????.??.??' at '?')>\n",
      "illegal san: 'Kd5' in 8/7p/3kPKn1/p7/B3P2P/8/8/8 b - - 0 64 while parsing <Game at 0x7f67d2f17e30 ('?' vs. '?', '????.??.??' at '?')>\n",
      "illegal san: 'Kd5' in 8/5R2/P3k3/2p5/2B2p2/5K2/r7/8 b - - 5 71 while parsing <Game at 0x7f66d04d6ba0 ('?' vs. '?', '????.??.??' at '?')>\n",
      "illegal san: 'Ke4' in 8/5k2/8/4Kp1p/7P/8/8/8 w - - 0 55 while parsing <Game at 0x7f67d2e709e0 ('?' vs. '?', '????.??.??' at '?')>\n",
      "illegal san: 'Kd4' in 8/6k1/1p2p3/PP1q4/6p1/3KP1P1/7p/7Q w - - 9 60 while parsing <Game at 0x7f66d014e840 ('?' vs. '?', '????.??.??' at '?')>\n",
      "illegal san: 'Ne6' in rnbqkbnr/pppppppp/8/8/2P5/8/PP1PPPPP/RNBQKBNR b KQkq - 0 1 while parsing <Game at 0x7f66d04d6ba0 ('?' vs. '?', '????.??.??' at '?')>\n",
      "illegal san: 'Qxf4' in rnbqkbnr/pppp1ppp/8/8/4Pp2/8/PPPP2PP/RNBQKBNR w KQkq - 0 3 while parsing <Game at 0x7f67d2f17530 ('?' vs. '?', '????.??.??' at '?')>\n",
      "illegal san: 'Ke5' in 8/8/5k2/8/4K3/7P/8/8 b - - 2 41 while parsing <Game at 0x7f67d2e709e0 ('?' vs. '?', '????.??.??' at '?')>\n",
      "illegal san: 'Ke5' in 8/8/3kp3/R4p2/3P2p1/4P1P1/1r6/5K2 b - - 27 56 while parsing <Game at 0x7f66d04d6ba0 ('?' vs. '?', '????.??.??' at '?')>\n",
      "illegal san: 'Kd4' in R7/4k2p/2n1P1p1/4K3/8/6P1/p4b1P/8 w - - 4 38 while parsing <Game at 0x7f66d04d6ba0 ('?' vs. '?', '????.??.??' at '?')>\n",
      "illegal san: 'Ncd3' in rnbqkbnr/pppppppp/8/8/8/8/PPPPPPPP/RNBQKBNR w KQkq - 0 1 while parsing <Game at 0x7f67d2f17e30 ('?' vs. '?', '????.??.??' at '?')>\n",
      "illegal san: 'Ke4' in 8/3b1p2/8/4P3/p1PK2p1/P4kB1/5P2/8 w - - 4 46 while parsing <Game at 0x7f66d014c680 ('?' vs. '?', '????.??.??' at '?')>\n",
      "illegal san: 'Kd4' in 8/p4k1p/5pp1/8/4K1PP/p2r4/Rb6/8 w - - 0 53 while parsing <Game at 0x7f67d2f175c0 ('?' vs. '?', '????.??.??' at '?')>\n",
      "illegal san: 'Bc2' in rnbqkbnr/pppp2pp/4p3/5p2/3P4/2P5/PP2PPPP/RNBQKBNR w KQkq - 0 3 while parsing <Game at 0x7f66d043bc80 ('?' vs. '?', '????.??.??' at '?')>\n",
      "illegal san: 'Kd4' in 8/8/7N/4p2p/4K3/5np1/5k2/8 w - - 0 65 while parsing <Game at 0x7f66d04d68d0 ('?' vs. '?', '????.??.??' at '?')>\n",
      "illegal san: 'Nfe6' in rnbqkbnr/pppppppp/8/8/8/2P5/PP1PPPPP/RNBQKBNR b KQkq - 0 1 while parsing <Game at 0x7f66d04d7800 ('?' vs. '?', '????.??.??' at '?')>\n",
      "illegal san: 'Nc7' in rnbqkbnr/pp1ppppp/2p5/8/4P3/1P6/P1PP1PPP/RNBQKBNR b KQkq - 0 2 while parsing <Game at 0x7f66d04d68d0 ('?' vs. '?', '????.??.??' at '?')>\n",
      "illegal san: 'Ke4' in 1b6/8/5k1p/5p1P/8/3K3N/8/8 w - - 8 61 while parsing <Game at 0x7f66d04d68d0 ('?' vs. '?', '????.??.??' at '?')>\n",
      "illegal san: 'Nb3' in rnbqkbnr/pppppp1p/8/6p1/6P1/8/PPPPPP1P/RNBQKBNR w KQkq - 0 2 while parsing <Game at 0x7f66d04d7410 ('?' vs. '?', '????.??.??' at '?')>\n",
      "illegal san: 'Ke5' in 8/8/5K2/1p1k4/1P6/Rb6/p7/8 w - - 1 84 while parsing <Game at 0x7f66d04d6840 ('?' vs. '?', '????.??.??' at '?')>\n",
      "illegal san: 'Ke5' in 8/2p5/4bk2/3p2p1/3P4/1B2K3/1P4P1/8 b - - 1 32 while parsing <Game at 0x7f66d04d6450 ('?' vs. '?', '????.??.??' at '?')>\n",
      "illegal san: 'Ke4' in 8/7P/4k2b/5p2/2pP1K2/8/5B2/8 w - - 9 48 while parsing <Game at 0x7f66d04d67b0 ('?' vs. '?', '????.??.??' at '?')>\n",
      "illegal san: 'Ne6' in rnbqkbnr/pppppppp/8/8/P7/8/1PPPPPPP/RNBQKBNR b KQkq - 0 1 while parsing <Game at 0x7f66d04d69f0 ('?' vs. '?', '????.??.??' at '?')>\n",
      "illegal san: 'Qb2' in rnbqkbnr/ppp1pppp/8/3p4/1P6/8/P1PPPPPP/RNBQKBNR w KQkq - 0 2 while parsing <Game at 0x7f66d04d69f0 ('?' vs. '?', '????.??.??' at '?')>\n",
      "illegal san: 'Kd5' in 8/8/NP6/4k3/1b2B3/4B1p1/6K1/8 b - - 0 65 while parsing <Game at 0x7f67d2e71010 ('?' vs. '?', '????.??.??' at '?')>\n",
      "illegal san: 'Ke4' in 8/8/8/4k1p1/2r5/R4K1P/5P2/8 w - - 10 48 while parsing <Game at 0x7f67d2e700e0 ('?' vs. '?', '????.??.??' at '?')>\n",
      "illegal san: 'Bb6' in rnbqkbnr/pp2pppp/2p5/3p4/4PP2/2N5/PPPP2PP/R1BQKBNR b KQkq - 0 3 while parsing <Game at 0x7f67d2e70f80 ('?' vs. '?', '????.??.??' at '?')>\n",
      "illegal san: 'Kxd4' in 5rk1/4Rp2/p4Qp1/2ppK1Np/3q4/P7/5P2/8 w - - 9 46 while parsing <Game at 0x7f67d2e70f80 ('?' vs. '?', '????.??.??' at '?')>\n",
      "illegal san: 'Kxe4' in 1k2r3/6R1/p4P2/8/4p3/P1R1K1P1/1PP5/4r3 w - - 1 43 while parsing <Game at 0x7f67d2e70f80 ('?' vs. '?', '????.??.??' at '?')>\n",
      "illegal san: 'Ke5' in 8/2R2pp1/1pp1k3/5r2/4K3/1P6/P1PR1P2/1r6 b - - 6 33 while parsing <Game at 0x7f67d2e70170 ('?' vs. '?', '????.??.??' at '?')>\n",
      "illegal san: 'Ke4' in 8/6p1/4N3/3p3P/3P2P1/2n1kP2/6K1/8 b - - 0 57 while parsing <Game at 0x7f66d04d7410 ('?' vs. '?', '????.??.??' at '?')>\n",
      "illegal san: 'Ke5' in 8/5p2/3p1k2/1p1P3R/1p2KP2/1B5P/Pb6/5r2 b - - 12 49 while parsing <Game at 0x7f66d04d7d10 ('?' vs. '?', '????.??.??' at '?')>\n",
      "illegal san: 'Kg8' in 4nk2/6p1/p3Q2p/P7/3qP2P/2p2PK1/5BP1/8 b - - 1 43 while parsing <Game at 0x7f67d2e71f40 ('?' vs. '?', '????.??.??' at '?')>\n",
      "illegal san: 'Kd4' in 8/2q2p2/pR6/2KPk1p1/2B5/8/P7/8 w - - 8 62 while parsing <Game at 0x7f66d04d7410 ('?' vs. '?', '????.??.??' at '?')>\n",
      "illegal san: 'Bf2' in rnbqkbnr/p1p1pp1p/1p4p1/3p4/3P4/2P2P2/PP2P1PP/RNBQKBNR w KQkq - 0 4 while parsing <Game at 0x7f66d04d6cc0 ('?' vs. '?', '????.??.??' at '?')>\n",
      "illegal san: 'Bc2' in r1bqkbnr/pppp1ppp/2n5/4p3/6P1/2P5/PP1PPP1P/RNBQKBNR w KQkq - 0 3 while parsing <Game at 0x7f67d2e71010 ('?' vs. '?', '????.??.??' at '?')>\n",
      "illegal san: 'Ng3' in rnbqkbnr/p2p1p2/1p2p3/6pp/3P4/4P3/1PP2PPP/RNBQKBNR w KQkq - 0 6 while parsing <Game at 0x7f66d04d6840 ('?' vs. '?', '????.??.??' at '?')>\n",
      "illegal san: 'Kd4' in 8/8/3n4/1pKNk3/8/4p3/8/8 w - - 2 78 while parsing <Game at 0x7f67d2e71f40 ('?' vs. '?', '????.??.??' at '?')>\n",
      "illegal san: 'Ke5' in 8/p7/1p2k3/1R6/5K2/P4P1p/1P6/7r b - - 11 49 while parsing <Game at 0x7f66d04d6450 ('?' vs. '?', '????.??.??' at '?')>\n",
      "illegal san: 'Ng3' in rnbqkbnr/pp2pppp/3p4/2pP4/8/8/PPP1PPPP/RNBQKBNR w KQkq - 0 3 while parsing <Game at 0x7f67d2f17a40 ('?' vs. '?', '????.??.??' at '?')>\n",
      "illegal san: 'Ke4' in 8/8/8/3k4/8/2PK4/4N1p1/8 w - - 2 56 while parsing <Game at 0x7f66d04d7410 ('?' vs. '?', '????.??.??' at '?')>\n",
      "illegal san: 'Ke5' in 1r6/8/p1pk2p1/P2p1pPp/1P1PpP2/2P1K1P1/8/7R b - - 8 42 while parsing <Game at 0x7f67d2f17a40 ('?' vs. '?', '????.??.??' at '?')>\n",
      "illegal san: 'Ke4' in 8/8/6k1/1p1K1p2/1B5P/P5P1/8/3b4 w - - 31 65 while parsing <Game at 0x7f66d04d68d0 ('?' vs. '?', '????.??.??' at '?')>\n",
      "illegal san: 'Ke4' in 8/8/8/4K2R/r7/8/2k5/8 w - - 0 55 while parsing <Game at 0x7f66d04d6cc0 ('?' vs. '?', '????.??.??' at '?')>\n",
      "illegal san: 'Ke4' in 8/5pk1/4p3/3p4/8/4PKP1/r4P2/1r3R2 w - - 0 31 while parsing <Game at 0x7f66d04d6450 ('?' vs. '?', '????.??.??' at '?')>\n",
      "illegal san: 'Nd6' in rnbqkbnr/p1p2p1p/1p2p1p1/3p2P1/5P2/4PN2/PPPP3P/RNBQKB1R b KQkq - 0 5 while parsing <Game at 0x7f67d2e700e0 ('?' vs. '?', '????.??.??' at '?')>\n",
      "illegal san: 'Nb3' in rnbqkbnr/ppppp2p/6p1/5p2/5P2/6P1/PPPPP2P/RNBQKBNR w KQkq - 0 3 while parsing <Game at 0x7f66d043bc80 ('?' vs. '?', '????.??.??' at '?')>\n",
      "illegal san: 'Ke4' in 8/8/R5p1/P4k2/5P2/r3K3/8/8 w - - 1 63 while parsing <Game at 0x7f67d2f17c80 ('?' vs. '?', '????.??.??' at '?')>\n",
      "illegal san: 'Nb6' in rnbqkbnr/pp2pppp/8/3p4/3P4/5N2/PP2PPPP/RNBQKB1R b KQkq - 1 4 while parsing <Game at 0x7f66d04d69f0 ('?' vs. '?', '????.??.??' at '?')>\n",
      "illegal san: 'Ke5' in 8/pp6/2p1bk1p/3p2p1/1P1P1PP1/P1P3K1/2B5/8 b - - 6 40 while parsing <Game at 0x7f66d04d68d0 ('?' vs. '?', '????.??.??' at '?')>\n",
      "illegal san: 'Kd5' in 8/3N4/2k1K3/8/8/3B4/8/8 b - - 26 107 while parsing <Game at 0x7f66d04d7d10 ('?' vs. '?', '????.??.??' at '?')>\n",
      "illegal san: 'Ng6' in rnbqkbnr/pppppppp/8/8/1P6/8/P1PPPPPP/RNBQKBNR b KQkq - 0 1 while parsing <Game at 0x7f66d04d67b0 ('?' vs. '?', '????.??.??' at '?')>\n",
      "illegal san: 'Kxe5' in 8/8/4k3/4R3/5PK1/8/8/3r4 b - - 7 64 while parsing <Game at 0x7f66d04d7d10 ('?' vs. '?', '????.??.??' at '?')>\n",
      "illegal san: 'Nde3' in rnq1kb1r/p3ppp1/2p1bn2/P2p3p/8/7P/1BPPPPP1/RN1QKBNR w KQkq - 0 8 while parsing <Game at 0x7f66d04d44d0 ('?' vs. '?', '????.??.??' at '?')>\n",
      "illegal san: 'Ke5' in 8/8/5kp1/p1pN4/P4P2/1P3K1P/2r5/8 b - - 0 37 while parsing <Game at 0x7f66d04d6450 ('?' vs. '?', '????.??.??' at '?')>\n",
      "illegal san: 'Bf7' in rnbqk1nr/pppp2bp/5pp1/4pP2/4P1P1/1P6/P1PP3P/RNBQKBNR b KQkq - 0 5 while parsing <Game at 0x7f67d2f17380 ('?' vs. '?', '????.??.??' at '?')>\n",
      "illegal san: 'Kxd5' in r7/pp1r2bN/1q1k2p1/3Q2B1/1P1n4/P5P1/4PPBP/5RK1 b - - 4 26 while parsing <Game at 0x7f66d04d68d0 ('?' vs. '?', '????.??.??' at '?')>\n",
      "illegal san: 'Ke4' in 8/7p/8/1p1k4/1r4P1/2p1K3/P6P/2R5 w - - 0 41 while parsing <Game at 0x7f66d04d7410 ('?' vs. '?', '????.??.??' at '?')>\n",
      "illegal san: 'Ke5' in 8/6p1/4k3/6bP/3K4/8/8/8 b - - 1 59 while parsing <Game at 0x7f67d2f17c80 ('?' vs. '?', '????.??.??' at '?')>\n",
      "illegal san: 'Ng3' in rnbqkbnr/pp1ppp1p/6p1/2p5/2P3P1/8/PP1PPP1P/RNBQKBNR w KQkq - 0 3 while parsing <Game at 0x7f66d04d69f0 ('?' vs. '?', '????.??.??' at '?')>\n",
      "illegal san: 'Ke4' in 8/8/5b2/1p1k1K1B/3P4/8/8/8 w - - 0 57 while parsing <Game at 0x7f67d2f17bf0 ('?' vs. '?', '????.??.??' at '?')>\n",
      "illegal san: 'Ng6' in rnbqkbnr/pppppppp/8/8/8/2P5/PP1PPPPP/RNBQKBNR b KQkq - 0 1 while parsing <Game at 0x7f67d2f17380 ('?' vs. '?', '????.??.??' at '?')>\n",
      "illegal san: 'Ke5' in 8/6p1/4pkPp/p6P/1p2KP2/1P6/P7/8 b - - 18 59 while parsing <Game at 0x7f67d2f17d10 ('?' vs. '?', '????.??.??' at '?')>\n",
      "illegal san: 'Ke5' in 4r3/1p6/2p2k1p/2p3p1/2Pb4/1P1R1NPP/5P2/5K2 b - - 4 45 while parsing <Game at 0x7f67d2f17380 ('?' vs. '?', '????.??.??' at '?')>\n",
      "illegal san: 'Qg2' in rnbqkb1r/ppp1pppp/3p1n2/8/4P1P1/8/PPPP1P1P/RNBQKBNR w KQkq - 1 3 while parsing <Game at 0x7f67d2f17380 ('?' vs. '?', '????.??.??' at '?')>\n",
      "illegal san: 'Kd5' in 8/5Np1/5n2/2k5/4P2p/4RK2/4B1PP/r7 b - - 0 53 while parsing <Game at 0x7f66d014ec30 ('?' vs. '?', '????.??.??' at '?')>\n",
      "illegal san: 'Kd4' in 5k2/1p5p/p2p4/P2P4/1PP3p1/R1K3P1/4Q2P/2qr4 w - - 4 48 while parsing <Game at 0x7f67d2f17bf0 ('?' vs. '?', '????.??.??' at '?')>\n",
      "illegal san: 'Kxe5' in 8/5p2/p2k1K2/3Pn3/8/1B3b2/P7/8 w - - 2 40 while parsing <Game at 0x7f66d04d7d10 ('?' vs. '?', '????.??.??' at '?')>\n",
      "illegal san: 'Kd4' in 4R3/3r3P/8/5p2/8/3Kpk2/8/8 w - - 12 68 while parsing <Game at 0x7f67d2e70f80 ('?' vs. '?', '????.??.??' at '?')>\n",
      "illegal san: 'Qxe5' in r1bqkbnr/pppp1ppp/2n5/4P3/4P3/8/PPPP2PP/RNBQKBNR b KQkq - 0 3 while parsing <Game at 0x7f66d014e7b0 ('?' vs. '?', '????.??.??' at '?')>\n",
      "illegal san: 'Nc2' in rnb1kbnr/pp2pppp/8/2pq4/8/5N2/PP1PPPPP/RNBQKB1R w KQkq - 0 4 while parsing <Game at 0x7f66d014da30 ('?' vs. '?', '????.??.??' at '?')>\n",
      "illegal san: 'Ke4' in 8/8/6P1/5K2/1p1k3p/1n5P/8/8 w - - 0 56 while parsing <Game at 0x7f66d04d68d0 ('?' vs. '?', '????.??.??' at '?')>\n",
      "illegal san: 'Ng6' in rnbqkbnr/pppppppp/8/8/2P5/8/PP1PPPPP/RNBQKBNR b KQkq - 0 1 while parsing <Game at 0x7f67d2f16de0 ('?' vs. '?', '????.??.??' at '?')>\n",
      "illegal san: 'Kd5' in 8/R2r2p1/4k2p/8/5N1P/1P6/2K2P2/8 b - - 0 45 while parsing <Game at 0x7f67d2e70f80 ('?' vs. '?', '????.??.??' at '?')>\n",
      "illegal san: 'O-O-O' in rnbqkbnr/pppppppp/8/8/2P5/8/PP1PPPPP/RNBQKBNR b KQkq - 0 1 while parsing <Game at 0x7f66d04d6cc0 ('?' vs. '?', '????.??.??' at '?')>\n",
      "illegal san: 'Kf8' in 4r1k1/5r2/p6Q/1p1p2pP/1P2p3/P2PP3/2P3P1/6K1 b - - 0 35 while parsing <Game at 0x7f66d04d6cc0 ('?' vs. '?', '????.??.??' at '?')>\n",
      "illegal san: 'O-O' in rnbqkbnr/ppp1pppp/8/3p4/3P4/2N5/PPP1PPPP/R1BQKBNR b KQkq - 1 2 while parsing <Game at 0x7f67d2f17380 ('?' vs. '?', '????.??.??' at '?')>\n",
      "illegal san: 'Kf6' in 7Q/8/4N3/2q2pk1/6n1/8/8/2r1R2K b - - 26 59 while parsing <Game at 0x7f67d2f17bf0 ('?' vs. '?', '????.??.??' at '?')>\n",
      "illegal san: 'Ke4' in 1r3k2/1BR1n3/p2Nn1pp/5p2/5P2/4K1PP/1P6/8 w - - 6 42 while parsing <Game at 0x7f66d04d68d0 ('?' vs. '?', '????.??.??' at '?')>\n",
      "illegal san: 'Nd3' in r1bqkb1r/ppppp1pp/2n2n2/5p2/3P4/2N2P2/PPP1P1PP/R1BQKBNR w KQkq - 1 4 while parsing <Game at 0x7f66d014da30 ('?' vs. '?', '????.??.??' at '?')>\n",
      "illegal san: 'Nb6' in rnbqkbnr/ppp3pp/4p3/4Pp2/2P5/8/PP3PPP/RNBQKBNR b KQkq - 0 5 while parsing <Game at 0x7f66d04d7d10 ('?' vs. '?', '????.??.??' at '?')>\n",
      "illegal san: 'Ke5' in 8/7r/4B3/7p/4k1pK/6B1/8/8 b - - 20 61 while parsing <Game at 0x7f67d2f17bf0 ('?' vs. '?', '????.??.??' at '?')>\n",
      "illegal san: 'Kd5' in 8/2r3p1/2Nkp3/8/2r2P2/1Rn2BP1/6KP/2R5 b - - 0 49 while parsing <Game at 0x7f66d04d6840 ('?' vs. '?', '????.??.??' at '?')>\n",
      "illegal san: 'Qb3' in rnb1kb1r/ppqp1ppp/2p2n2/4p3/PP2P3/5N2/2PP1PPP/RNBQKB1R w KQkq - 1 5 while parsing <Game at 0x7f67d2f17380 ('?' vs. '?', '????.??.??' at '?')>\n",
      "illegal san: 'Kd5' in 8/3PRN2/p1k5/2p4p/2Pb3P/P5P1/1r6/5K2 b - - 2 50 while parsing <Game at 0x7f66d04d6cc0 ('?' vs. '?', '????.??.??' at '?')>\n",
      "illegal san: 'Ke4' in 8/p7/1p3k2/1P3p1p/P4P1P/4K3/8/8 w - - 0 44 while parsing <Game at 0x7f66d014d910 ('?' vs. '?', '????.??.??' at '?')>\n",
      "illegal san: 'Kb6' in 1R6/p1k1bQ2/4p3/n1PbP3/3Pq1r1/4BN2/P4PP1/1R4K1 b - - 2 33 while parsing <Game at 0x7f67d2f17da0 ('?' vs. '?', '????.??.??' at '?')>\n",
      "illegal san: 'Qf8' in rnbqk1nr/1p2bppp/p3p3/1P1pP3/P1p5/5P2/2PPN1PP/RNBQKB1R b KQkq - 1 7 while parsing <Game at 0x7f67d2f16de0 ('?' vs. '?', '????.??.??' at '?')>\n",
      "illegal san: 'Ne3' in r1bq1rk1/ppp1ppb1/2np1npp/8/3PPP1B/2P5/PPQ3PP/RN2KBNR w KQ - 1 8 while parsing <Game at 0x7f66d04d7d10 ('?' vs. '?', '????.??.??' at '?')>\n",
      "illegal san: 'Kc2' in 8/8/8/8/1p6/1K2B3/8/3k4 w - - 0 71 while parsing <Game at 0x7f66d014c950 ('?' vs. '?', '????.??.??' at '?')>\n",
      "illegal san: 'Kxd4' in 8/8/8/kpp5/p2q4/4K3/8/5Q2 w - - 2 51 while parsing <Game at 0x7f67d2f16de0 ('?' vs. '?', '????.??.??' at '?')>\n",
      "illegal san: 'Ne6' in rnbqkb1r/p1ppp1pp/1p3n2/5p2/5P2/1P1P1N2/P1P1P1PP/RNBQKB1R b KQkq - 0 4 while parsing <Game at 0x7f66d014dd90 ('?' vs. '?', '????.??.??' at '?')>\n",
      "illegal san: 'Bh7' in rnbqkbnr/ppp2pp1/4p3/3p3p/1P3P2/5NP1/P1PPP2P/RNBQKB1R b KQkq - 0 4 while parsing <Game at 0x7f67d2f17da0 ('?' vs. '?', '????.??.??' at '?')>\n",
      "illegal san: 'Ke5' in 8/1p3p2/p2k2p1/6P1/4KP2/1P6/P2R4/5r2 b - - 9 46 while parsing <Game at 0x7f66d04d6cc0 ('?' vs. '?', '????.??.??' at '?')>\n",
      "illegal san: 'Nb3' in rnbqkbnr/pppppppp/8/8/8/8/PPPPPPPP/RNBQKBNR w KQkq - 0 1 while parsing <Game at 0x7f66d014c830 ('?' vs. '?', '????.??.??' at '?')>\n",
      "illegal san: 'Bf7' in rnbqkbnr/ppppp1pp/5p2/8/8/1P4P1/P1PPPP1P/RNBQKBNR b KQkq - 0 2 while parsing <Game at 0x7f66d04d6840 ('?' vs. '?', '????.??.??' at '?')>\n",
      "illegal san: 'Ke4' in 1R6/8/8/4pk2/3r4/3K4/8/8 w - - 11 55 while parsing <Game at 0x7f66d04d6840 ('?' vs. '?', '????.??.??' at '?')>\n"
     ]
    },
    {
     "data": {
      "application/vnd.jupyter.widget-view+json": {
       "model_id": "bda138652c4f44c8a649470558add71c",
       "version_major": 2,
       "version_minor": 0
      },
      "text/plain": [
       "Map:   0%|          | 0/11114 [00:00<?, ? examples/s]"
      ]
     },
     "metadata": {},
     "output_type": "display_data"
    },
    {
     "name": "stderr",
     "output_type": "stream",
     "text": [
      "illegal san: '0-0' in rnbqkbnr/pppppppp/8/8/8/8/PPPPPPPP/RNBQKBNR w KQkq - 24 13 while parsing <Game at 0x7f66d043bc80 ('?' vs. '?', '????.??.??' at '?')>\n",
      "illegal san: 'Ke4' in 1k6/1p2b3/P3pp1p/1P1p3P/3P4/2r2KP1/6N1/R7 w - - 9 40 while parsing <Game at 0x7f67d2e70d40 ('?' vs. '?', '????.??.??' at '?')>\n",
      "illegal san: 'Kxe4' in 8/8/4p1k1/8/4pKP1/4Pb2/pB3P2/8 w - - 6 59 while parsing <Game at 0x7f67d2e700e0 ('?' vs. '?', '????.??.??' at '?')>\n",
      "illegal san: 'Ke5' in 8/1p5p/p3k1p1/6B1/b3K3/2P5/P5PP/8 b - - 7 31 while parsing <Game at 0x7f67d2e70050 ('?' vs. '?', '????.??.??' at '?')>\n",
      "illegal san: 'Bxe4' in rnbqkbnr/p1ppp1pp/1p6/5p2/3PP3/2P5/PP3PPP/RNBQKBNR b KQkq - 0 3 while parsing <Game at 0x7f67d2e70050 ('?' vs. '?', '????.??.??' at '?')>\n",
      "illegal san: 'Qxe4' in rnbqkbnr/pp1pp2p/2p3p1/8/4pP2/2N3P1/PPPP3P/R1BQKBNR w KQkq - 0 5 while parsing <Game at 0x7f67d2e70b00 ('?' vs. '?', '????.??.??' at '?')>\n",
      "illegal san: 'Ke5' in 8/8/5kp1/p4p1p/PbB2P1P/5KP1/8/8 b - - 8 41 while parsing <Game at 0x7f67d2e700e0 ('?' vs. '?', '????.??.??' at '?')>\n",
      "illegal san: 'Kd4' in 2R5/2b5/2k5/6p1/2r5/1p1K4/8/8 w - - 2 62 while parsing <Game at 0x7f67d2e700e0 ('?' vs. '?', '????.??.??' at '?')>\n",
      "illegal san: 'Nb3' in rnbqkbnr/ppppp1pp/5p2/8/5P2/8/PPPPP1PP/RNBQKBNR w KQkq - 0 2 while parsing <Game at 0x7f67d2e70dd0 ('?' vs. '?', '????.??.??' at '?')>\n",
      "illegal san: 'Nd3' in r1bqkbnr/pppp2pp/2n2p2/4p3/4PP2/2N5/PPPP2PP/R1BQKBNR w KQkq - 0 4 while parsing <Game at 0x7f66d043bc80 ('?' vs. '?', '????.??.??' at '?')>\n",
      "illegal san: 'Bf3' in rn1qkbnr/pb1p1ppp/1p2p3/2p5/2PP4/1P2P3/P4PPP/RNBQKBNR w KQkq - 1 5 while parsing <Game at 0x7f66d043bc80 ('?' vs. '?', '????.??.??' at '?')>\n",
      "illegal san: 'Ba4' in r1bqkbnr/ppp2ppp/2np4/4p3/3PP3/2P5/PP3PPP/RNBQKBNR w KQkq - 1 4 while parsing <Game at 0x7f66d043bc80 ('?' vs. '?', '????.??.??' at '?')>\n",
      "illegal san: 'Bb5' in rnbqkbnr/ppp1pppp/8/3p4/3P4/5P2/PPP1P1PP/RNBQKBNR b KQkq - 0 2 while parsing <Game at 0x7f67d2e70ef0 ('?' vs. '?', '????.??.??' at '?')>\n",
      "illegal san: 'Ke4' in 8/7p/p4p2/1p1k4/1P6/4K1P1/P6P/8 w - - 5 40 while parsing <Game at 0x7f67d2e70a70 ('?' vs. '?', '????.??.??' at '?')>\n",
      "illegal san: 'O-O' in rnbqkbnr/pppppppp/8/8/3P4/8/PPP1PPPP/RNBQKBNR b KQkq - 0 1 while parsing <Game at 0x7f67d2e71010 ('?' vs. '?', '????.??.??' at '?')>\n",
      "illegal san: 'Kd4' in k7/1p4p1/3P4/p1Q3p1/P1K2rP1/2R1p2P/1P4q1/8 w - - 0 44 while parsing <Game at 0x7f67d2e70a70 ('?' vs. '?', '????.??.??' at '?')>\n",
      "illegal san: 'O-O' in rnbqkb1r/p1p2ppp/1p1p1n2/1P2p3/2P5/5N2/P2PPPPP/RNBQKB1R w KQkq - 0 5 while parsing <Game at 0x7f67d2e70dd0 ('?' vs. '?', '????.??.??' at '?')>\n",
      "illegal san: 'Ke4' in 8/1p4pk/p2B1p2/5P1p/5K1P/P1P5/2b5/8 w - - 8 36 while parsing <Game at 0x7f67d2f16de0 ('?' vs. '?', '????.??.??' at '?')>\n",
      "illegal san: 'Ncd3' in rnbqkbnr/pppppppp/8/8/8/8/PPPPPPPP/RNBQKBNR w KQkq - 0 1 while parsing <Game at 0x7f67d2e709e0 ('?' vs. '?', '????.??.??' at '?')>\n",
      "illegal san: 'Ke4' in 8/p2p4/1p5p/3b1kp1/3P4/1P2KP2/P6P/4B3 w - - 0 32 while parsing <Game at 0x7f67d2e70b00 ('?' vs. '?', '????.??.??' at '?')>\n",
      "illegal san: 'Kd4' in 8/8/p5rp/1p1k4/8/PN2K3/1P5P/8 w - - 3 46 while parsing <Game at 0x7f67d2e70a70 ('?' vs. '?', '????.??.??' at '?')>\n",
      "illegal san: 'Kd4' in 8/bPB5/4b3/4P3/1n2K1k1/5p2/3N4/8 w - - 2 70 while parsing <Game at 0x7f67d2e70b00 ('?' vs. '?', '????.??.??' at '?')>\n",
      "illegal san: 'Kd5' in 1r6/1P6/3k4/1R4p1/4K1P1/8/8/8 b - - 4 46 while parsing <Game at 0x7f67d2e70a70 ('?' vs. '?', '????.??.??' at '?')>\n",
      "illegal san: 'Ng3' in rnbqkbnr/p1pppppp/1p6/8/4P3/8/PPPP1PPP/RNBQKBNR w KQkq - 0 2 while parsing <Game at 0x7f67d2e70a70 ('?' vs. '?', '????.??.??' at '?')>\n",
      "illegal san: 'Kxd4' in 8/4k3/4b3/4p2p/3r1P1P/1p2K3/1P1R3R/3r4 w - - 0 54 while parsing <Game at 0x7f67d2e71010 ('?' vs. '?', '????.??.??' at '?')>\n",
      "illegal san: 'Ke4' in 8/6k1/r7/P4pp1/8/5K1P/R7/8 w - - 0 51 while parsing <Game at 0x7f67d2e70050 ('?' vs. '?', '????.??.??' at '?')>\n",
      "illegal san: 'Nhg3' in rnbqkbnr/ppp1pppp/8/3p4/3P4/8/PPP1PPPP/RNBQKBNR w KQkq - 0 2 while parsing <Game at 0x7f67d2e70950 ('?' vs. '?', '????.??.??' at '?')>\n",
      "illegal san: 'Kd5' in 8/r4p2/P4p2/7R/1p1kPP2/1P1B2PP/1b2K3/8 b - - 0 80 while parsing <Game at 0x7f67d2e700e0 ('?' vs. '?', '????.??.??' at '?')>\n",
      "illegal san: 'Bxd4' in rnbqkbnr/pp1pp2p/6p1/5p2/3p1P2/2P3P1/PP2P2P/RNBQKBNR w KQkq - 0 5 while parsing <Game at 0x7f67d2f17ec0 ('?' vs. '?', '????.??.??' at '?')>\n",
      "illegal san: 'Nd6' in rnbqkbnr/pppppppp/8/8/5P2/8/PPPPP1PP/RNBQKBNR b KQkq - 0 1 while parsing <Game at 0x7f67d2e70ef0 ('?' vs. '?', '????.??.??' at '?')>\n",
      "illegal san: 'Bxh8' in rnbqkb1r/p1ppp2p/1p4p1/5n2/5P2/1P6/P1PPQ1PP/RNB1KBNR w KQkq - 0 6 while parsing <Game at 0x7f67d2e70ef0 ('?' vs. '?', '????.??.??' at '?')>\n",
      "illegal san: 'Ke5' in 8/5p2/1rp1rkb1/1p1p1pRp/1P1P1P1P/R2B4/3K1P1P/8 b - - 41 49 while parsing <Game at 0x7f67d2f172f0 ('?' vs. '?', '????.??.??' at '?')>\n",
      "illegal san: 'Qg2' in r1bqkbnr/ppp2pp1/2np4/4p2p/4PP2/2N3P1/PPPP3P/R1BQKBNR w KQkq - 0 5 while parsing <Game at 0x7f67d2f172f0 ('?' vs. '?', '????.??.??' at '?')>\n",
      "illegal san: 'Nb6' in rnbqkbnr/ppp1pppp/8/3p4/3P4/2N5/PPP1PPPP/R1BQKBNR b KQkq - 1 2 while parsing <Game at 0x7f67d2e70a70 ('?' vs. '?', '????.??.??' at '?')>\n",
      "illegal san: 'Ke4' in 8/8/8/4k3/8/4Kp2/7N/4n3 w - - 12 75 while parsing <Game at 0x7f67d2e709e0 ('?' vs. '?', '????.??.??' at '?')>\n",
      "illegal san: 'Ke5' in 8/7P/3k1K2/8/8/2q5/8/8 w - - 0 64 while parsing <Game at 0x7f67d2e71010 ('?' vs. '?', '????.??.??' at '?')>\n",
      "illegal san: 'O-O' in r1bqkbnr/pppp1ppp/2n5/4p3/4P3/5N2/PPPP1PPP/RNBQKB1R w KQkq - 0 3 while parsing <Game at 0x7f67d2e70b00 ('?' vs. '?', '????.??.??' at '?')>\n",
      "illegal san: 'Nhf2' in rnbqkbnr/p2pppp1/1p6/2p4p/4PP2/1P6/P1PP2PP/RNBQKBNR w KQkq - 0 4 while parsing <Game at 0x7f67d2e709e0 ('?' vs. '?', '????.??.??' at '?')>\n",
      "illegal san: 'Nb6' in rnbqkbnr/ppppp2p/6p1/5p2/5P2/3P2P1/PPP1P2P/RNBQKBNR b KQkq - 0 3 while parsing <Game at 0x7f67d2f17d10 ('?' vs. '?', '????.??.??' at '?')>\n",
      "illegal san: 'Ke5' in 8/8/3kBb2/p4P2/Pp2K3/1P6/8/8 b - - 18 64 while parsing <Game at 0x7f67d2e71010 ('?' vs. '?', '????.??.??' at '?')>\n",
      "illegal san: 'Ng3' in rnbqkbnr/pp1ppppp/8/2p5/2P5/8/PP1PPPPP/RNBQKBNR w KQkq - 0 2 while parsing <Game at 0x7f67d2e70a70 ('?' vs. '?', '????.??.??' at '?')>\n",
      "illegal san: 'Qb2' in rnbqkbnr/ppp1pppp/8/3p4/1P6/8/P1PPPPPP/RNBQKBNR w KQkq - 0 2 while parsing <Game at 0x7f67d2e71010 ('?' vs. '?', '????.??.??' at '?')>\n",
      "illegal san: 'Ne6' in rnbqkb1r/ppp1np1p/3p2p1/4p3/4PP2/3P1NP1/PPP4P/RNBQKB1R b KQkq - 2 5 while parsing <Game at 0x7f67d2e70b00 ('?' vs. '?', '????.??.??' at '?')>\n",
      "illegal san: 'Bb3' in rnbqkbnr/ppp1p1pp/3p4/5p2/3P4/2P5/PP2PPPP/RNBQKBNR w KQkq - 0 3 while parsing <Game at 0x7f67d2e70050 ('?' vs. '?', '????.??.??' at '?')>\n",
      "illegal san: 'Bc7' in rnbqkbnr/1p1pp1pp/2p2p2/p7/P3PP2/5N2/1PPP2PP/RNBQKB1R b KQkq - 1 4 while parsing <Game at 0x7f67d2e70b00 ('?' vs. '?', '????.??.??' at '?')>\n",
      "illegal san: 'Ke5' in 8/8/3k4/p7/B4K1p/7b/8/8 w - - 0 71 while parsing <Game at 0x7f67d2e71010 ('?' vs. '?', '????.??.??' at '?')>\n",
      "illegal san: 'Kb5' in 8/2n4r/1Q1Rp3/k4pp1/2P5/5P2/2K5/7q b - - 4 43 while parsing <Game at 0x7f67d2f17650 ('?' vs. '?', '????.??.??' at '?')>\n",
      "illegal san: 'Ne6' in rn1qkbnr/1ppb1p1p/3p2p1/p3p3/P3PP2/3P2P1/1PP1N2P/RNBQKB1R b KQkq - 0 6 while parsing <Game at 0x7f67d2e70b00 ('?' vs. '?', '????.??.??' at '?')>\n",
      "illegal san: 'Ne3' in rnbqk1nr/2ppp2p/p5pb/1p2Pp2/2PP4/1P3P2/P5PP/RNBQKBNR w KQkq - 1 7 while parsing <Game at 0x7f67d2f174a0 ('?' vs. '?', '????.??.??' at '?')>\n",
      "illegal san: 'Be4' in rnbqkb1r/p1pppppp/5n2/1pP5/3P4/8/PP2PPPP/RNBQKBNR b KQkq - 0 3 while parsing <Game at 0x7f67d2f174a0 ('?' vs. '?', '????.??.??' at '?')>\n",
      "illegal san: 'Kd5' in 8/4N1P1/5n2/1pk2B2/5b2/8/1p4K1/8 b - - 1 61 while parsing <Game at 0x7f66d04d6ba0 ('?' vs. '?', '????.??.??' at '?')>\n",
      "illegal san: 'Ke4' in 8/8/8/8/3p1k2/3K4/1B6/8 w - - 0 66 while parsing <Game at 0x7f66d04d7410 ('?' vs. '?', '????.??.??' at '?')>\n",
      "illegal san: 'Ke5' in 8/5pk1/3R4/3P1K2/3qN3/7P/1P4P1/5n2 w - - 4 53 while parsing <Game at 0x7f66d04d68d0 ('?' vs. '?', '????.??.??' at '?')>\n",
      "illegal san: 'Ke5' in 8/8/5kpp/8/4K3/8/2B4P/8 b - - 5 66 while parsing <Game at 0x7f66d04d6ba0 ('?' vs. '?', '????.??.??' at '?')>\n",
      "illegal san: 'Bc7' in rnbqkbnr/pp1p2pp/2p1pp2/8/P3PP2/2N5/1PPP2PP/R1BQKBNR b KQkq - 1 4 while parsing <Game at 0x7f67d2e70b00 ('?' vs. '?', '????.??.??' at '?')>\n",
      "illegal san: 'Ke4' in 8/8/5P1p/1p1kN2P/3p2P1/1P1K4/2P3b1/8 w - - 1 57 while parsing <Game at 0x7f66d04d6840 ('?' vs. '?', '????.??.??' at '?')>\n",
      "illegal san: 'Ng3' in rnbqkbnr/ppppp1pp/5p2/8/2P5/8/PP1PPPPP/RNBQKBNR w KQkq - 0 2 while parsing <Game at 0x7f67d2f17d10 ('?' vs. '?', '????.??.??' at '?')>\n",
      "illegal san: 'Bb6' in rnbqkbnr/pp4pp/2p2p2/3ppP2/4P1P1/3P4/PPP4P/RNBQKBNR b KQkq - 0 5 while parsing <Game at 0x7f67d2f17ec0 ('?' vs. '?', '????.??.??' at '?')>\n",
      "illegal san: 'Ke4' in 8/3n1kb1/1p1P3p/1rp2p2/p1N5/3K4/R2B1PPP/8 w - - 0 46 while parsing <Game at 0x7f66d04d7410 ('?' vs. '?', '????.??.??' at '?')>\n",
      "illegal san: 'Kxe4' in 8/8/2bB4/1k6/3Kp3/R2r4/8/8 w - - 3 94 while parsing <Game at 0x7f66d04d7410 ('?' vs. '?', '????.??.??' at '?')>\n",
      "illegal san: 'Nf7' in r1bqkbnr/p1pp2pp/1pn1p3/5p2/1PPP4/P5P1/4PP1P/RNBQKBNR b KQkq - 0 5 while parsing <Game at 0x7f66d04d68d0 ('?' vs. '?', '????.??.??' at '?')>\n",
      "illegal san: 'Ke4' in 8/2Rb4/3Bp3/3rP3/p2K1k2/8/8/8 w - - 14 63 while parsing <Game at 0x7f66d04d6840 ('?' vs. '?', '????.??.??' at '?')>\n",
      "illegal san: 'Ke5' in 8/1b6/2pkpp2/p5r1/P1RPK1P1/2P2B2/8/8 b - - 7 36 while parsing <Game at 0x7f67d2e71010 ('?' vs. '?', '????.??.??' at '?')>\n",
      "illegal san: 'Kxd4' in 3N4/8/n4N2/2p1k1n1/3pP3/1P1K1p2/1P6/8 w - - 1 52 while parsing <Game at 0x7f67d2f17ad0 ('?' vs. '?', '????.??.??' at '?')>\n",
      "illegal san: 'Qxb4' in rnbqkbnr/pp1ppppp/8/8/1pP5/8/P2PPPPP/RNBQKBNR w KQkq - 0 3 while parsing <Game at 0x7f67d2f17ad0 ('?' vs. '?', '????.??.??' at '?')>\n",
      "illegal san: 'Ne3' in rnbqkbnr/1pp2p1p/3p2p1/p3p3/P3P3/3P2P1/1PP2P1P/RNBQKBNR w KQkq - 0 5 while parsing <Game at 0x7f67d2f17ad0 ('?' vs. '?', '????.??.??' at '?')>\n",
      "illegal san: 'Kd4' in 8/1k6/R3p3/2p5/4K3/8/8/3r4 w - - 8 75 while parsing <Game at 0x7f66d014df40 ('?' vs. '?', '????.??.??' at '?')>\n",
      "illegal san: 'Bg5' in rnbqkbnr/p1pp1ppp/1p6/4P3/4P3/8/PPP2PPP/RNBQKBNR b KQkq - 0 3 while parsing <Game at 0x7f67d2f17d10 ('?' vs. '?', '????.??.??' at '?')>\n",
      "illegal san: 'Kd4' in 8/5p2/1ppk1Pp1/2p1p1p1/b1P5/3BK3/8/8 w - - 0 48 while parsing <Game at 0x7f66d04d7800 ('?' vs. '?', '????.??.??' at '?')>\n",
      "illegal san: 'Ke5' in 8/8/2bk1pp1/7p/5KPP/P4P2/8/8 w - - 0 44 while parsing <Game at 0x7f66d04d6840 ('?' vs. '?', '????.??.??' at '?')>\n",
      "illegal san: 'Ke5' in 8/6R1/1p2k2P/pR4PP/2P5/P5r1/3r1b1K/8 b - - 46 66 while parsing <Game at 0x7f66d014d640 ('?' vs. '?', '????.??.??' at '?')>\n",
      "illegal san: 'Ke4' in 5R2/3b4/p4p2/5k2/2p2P2/P1BrK3/1P6/8 w - - 12 47 while parsing <Game at 0x7f67d2f17d10 ('?' vs. '?', '????.??.??' at '?')>\n",
      "illegal san: 'Ke5' in 8/4n3/6pp/pp1k1p2/5P2/P2K1NP1/1P5P/8 b - - 5 41 while parsing <Game at 0x7f66d04d6840 ('?' vs. '?', '????.??.??' at '?')>\n",
      "illegal san: 'Ke5' in 8/8/5K2/3k4/8/8/8/8 b - - 0 52 while parsing <Game at 0x7f66d04d68d0 ('?' vs. '?', '????.??.??' at '?')>\n",
      "illegal san: 'Nab6' in rnbqkbnr/pppppppp/8/8/8/P7/1PPPPPPP/RNBQKBNR b KQkq - 0 1 while parsing <Game at 0x7f66d04d6ba0 ('?' vs. '?', '????.??.??' at '?')>\n",
      "illegal san: 'Be6' in r1bqkbnr/pp1p2pp/2p2p2/nP2p3/2P3P1/3P4/P2BPP1P/RN1QKBNR b KQkq - 0 6 while parsing <Game at 0x7f67d2e70b00 ('?' vs. '?', '????.??.??' at '?')>\n",
      "illegal san: 'Bf6' in r2qkbnr/pbpp1ppp/1pn1p3/8/4P3/1PN5/PBPPBPPP/R2QK1NR b KQkq - 3 5 while parsing <Game at 0x7f67d2e70b00 ('?' vs. '?', '????.??.??' at '?')>\n",
      "illegal san: 'Kd5' in r7/1p1q3Q/4kpr1/pNp2p2/P1B5/1PP1P3/8/4K3 b - - 3 32 while parsing <Game at 0x7f67d2f17ad0 ('?' vs. '?', '????.??.??' at '?')>\n",
      "illegal san: 'Nd3' in rnbqkbnr/ppp1ppp1/3p4/7p/3P4/2P5/PP2PPPP/RNBQKBNR w KQkq - 0 3 while parsing <Game at 0x7f67d2f17d10 ('?' vs. '?', '????.??.??' at '?')>\n",
      "illegal san: 'Kxe5' in 8/4np2/4p3/3kPP2/5KP1/8/8/8 b - - 4 58 while parsing <Game at 0x7f67d2e70b00 ('?' vs. '?', '????.??.??' at '?')>\n",
      "illegal san: 'Kh7' in 8/6k1/7b/5Q1P/8/4q3/KPP5/8 b - - 0 57 while parsing <Game at 0x7f67d2e70b00 ('?' vs. '?', '????.??.??' at '?')>\n",
      "illegal san: 'Ke4' in r7/1p3pk1/2pn4/2Np2p1/Pp1P2P1/4PK1r/2R2P2/1R6 w - - 8 42 while parsing <Game at 0x7f67d2f17ad0 ('?' vs. '?', '????.??.??' at '?')>\n",
      "illegal san: 'Ke4' in 8/6Rp/8/4k3/8/4PK2/7r/8 w - - 0 42 while parsing <Game at 0x7f67d2f17e30 ('?' vs. '?', '????.??.??' at '?')>\n",
      "illegal san: 'Ke4' in 8/1p2rbpk/p1p2p2/PnP2P2/1R3B1P/3BK3/1P6/8 w - - 13 61 while parsing <Game at 0x7f67d2e71010 ('?' vs. '?', '????.??.??' at '?')>\n",
      "illegal san: 'Kd5' in 8/1p6/p2k4/2R5/5B2/P2K4/1P5r/8 b - - 8 44 while parsing <Game at 0x7f67d2e70a70 ('?' vs. '?', '????.??.??' at '?')>\n",
      "illegal san: 'Ke5' in 8/pp6/4k3/1p1p1p1p/3K1P2/2P1P3/PP5P/8 b - - 5 34 while parsing <Game at 0x7f66d014cf80 ('?' vs. '?', '????.??.??' at '?')>\n",
      "illegal san: 'Ne6' in rnbqkbnr/pppp2pp/5p2/4p3/4P3/6P1/PPPPNP1P/RNBQKB1R b KQkq - 0 3 while parsing <Game at 0x7f67d2e70ef0 ('?' vs. '?', '????.??.??' at '?')>\n",
      "illegal san: 'Qf7' in rnbqkbnr/ppp1p1pp/8/3p1p2/3P2P1/2N5/PPP1PP1P/R1BQKBNR b KQkq - 0 3 while parsing <Game at 0x7f67d2e70a70 ('?' vs. '?', '????.??.??' at '?')>\n",
      "illegal san: 'Kd5' in 8/5p2/4pp2/2q5/2k3RP/1p3Q2/r7/1K6 b - - 1 51 while parsing <Game at 0x7f66d04d7410 ('?' vs. '?', '????.??.??' at '?')>\n",
      "illegal san: 'Kd5' in 8/p3N2p/P7/1K2k3/1n6/5B1P/6P1/4b3 b - - 0 44 while parsing <Game at 0x7f67d2e70a70 ('?' vs. '?', '????.??.??' at '?')>\n",
      "illegal san: 'Ke4' in 8/4r2k/R5R1/p3rp1p/p4K2/2P1P1P1/8/8 w - - 12 48 while parsing <Game at 0x7f67d2e70b00 ('?' vs. '?', '????.??.??' at '?')>\n",
      "illegal san: 'Nd6' in rnbqkbnr/pppppppp/8/8/8/6P1/PPPPPP1P/RNBQKBNR b KQkq - 0 1 while parsing <Game at 0x7f66d014e840 ('?' vs. '?', '????.??.??' at '?')>\n",
      "illegal san: 'Qxf4' in rnbqkbnr/1ppppp1p/p7/8/3PPp2/8/PPP3PP/RNBQKBNR w KQkq - 0 4 while parsing <Game at 0x7f66d014e2a0 ('?' vs. '?', '????.??.??' at '?')>\n",
      "illegal san: 'Kxe4' in 8/pb3p2/1p2k1p1/2p1P2p/2P1pK1P/1P4P1/PB3P2/8 w - - 12 31 while parsing <Game at 0x7f67d2f17e30 ('?' vs. '?', '????.??.??' at '?')>\n",
      "illegal san: 'Nd8' in r1bqkbnr/pppppppp/2n5/8/2P5/6P1/PP1PPP1P/RNBQKBNR b KQkq - 0 2 while parsing <Game at 0x7f67d2e70ef0 ('?' vs. '?', '????.??.??' at '?')>\n",
      "illegal san: 'Kf5' in 8/8/6K1/8/5k2/8/8/8 w - - 0 54 while parsing <Game at 0x7f67d2f17d10 ('?' vs. '?', '????.??.??' at '?')>\n",
      "illegal san: 'Nb3' in rnbqkbnr/pppppppp/8/8/8/8/PPPPPPPP/RNBQKBNR w KQkq - 0 1 while parsing <Game at 0x7f66d04d6840 ('?' vs. '?', '????.??.??' at '?')>\n",
      "illegal san: 'Nhg3' in rnbqkbnr/ppppp1pp/8/5p2/3P4/8/PPP1PPPP/RNBQKBNR w KQkq - 0 2 while parsing <Game at 0x7f67d2f17d10 ('?' vs. '?', '????.??.??' at '?')>\n",
      "illegal san: 'Qxa7' in rnbqkbnr/pppp1ppp/8/8/5pP1/8/PPPPP2P/RNBQKBNR w KQkq - 0 3 while parsing <Game at 0x7f66d04d6840 ('?' vs. '?', '????.??.??' at '?')>\n",
      "illegal san: 'Ke4' in 8/p5R1/6p1/r2kP1P1/5P1p/5K1P/P7/8 w - - 3 52 while parsing <Game at 0x7f67d2e70b00 ('?' vs. '?', '????.??.??' at '?')>\n",
      "illegal san: 'Ke5' in 8/6r1/8/7R/5k2/1K2n3/8/8 b - - 1 59 while parsing <Game at 0x7f66d04d68d0 ('?' vs. '?', '????.??.??' at '?')>\n",
      "illegal san: 'Ke4' in 5R2/8/8/3k4/6B1/r2pKP2/8/8 w - - 6 74 while parsing <Game at 0x7f66d014e2a0 ('?' vs. '?', '????.??.??' at '?')>\n",
      "illegal san: 'Qb4' in r1bqkbnr/pppp2pp/2n2p2/4P3/3PP3/8/PPP3PP/RNBQKBNR b KQkq - 0 4 while parsing <Game at 0x7f67d2e70b00 ('?' vs. '?', '????.??.??' at '?')>\n",
      "illegal san: 'Kxd4' in 2R5/8/8/6p1/3p2P1/2pKbk2/8/8 w - - 4 68 while parsing <Game at 0x7f67d2f17d10 ('?' vs. '?', '????.??.??' at '?')>\n",
      "illegal san: 'Ke4' in 8/8/1b6/2k1pp2/2P4p/N2K1P2/6P1/8 w - - 16 56 while parsing <Game at 0x7f66d014d5b0 ('?' vs. '?', '????.??.??' at '?')>\n",
      "illegal san: 'Ke4' in 8/1p3n1p/p1p2Pp1/2Bk2P1/1P3K1P/8/P7/8 w - - 9 39 while parsing <Game at 0x7f67d2f17d10 ('?' vs. '?', '????.??.??' at '?')>\n",
      "illegal san: 'Bh5' in rnbqkbnr/pppp3p/4p3/5p2/2PP3p/1P3N2/P3PPP1/RNBQKB1R b KQkq - 1 5 while parsing <Game at 0x7f67d2f17260 ('?' vs. '?', '????.??.??' at '?')>\n",
      "illegal san: 'Ng6' in rnbqkbnr/pppppppp/8/8/2P5/8/PP1PPPPP/RNBQKBNR b KQkq - 0 1 while parsing <Game at 0x7f66d04d68d0 ('?' vs. '?', '????.??.??' at '?')>\n",
      "illegal san: 'Qb7' in rnbqkbnr/2p1pppp/3p4/p7/1pB1PP2/1P3N2/P1PP2PP/RNBQK2R b KQkq - 1 5 while parsing <Game at 0x7f67d2e70ef0 ('?' vs. '?', '????.??.??' at '?')>\n",
      "illegal san: 'Ke5' in 8/2r5/5k1p/p4BbP/P1Np2P1/1P1P2K1/8/8 b - - 10 46 while parsing <Game at 0x7f67d2e70a70 ('?' vs. '?', '????.??.??' at '?')>\n",
      "illegal san: 'Ke4' in 8/R7/6pk/5p1p/7P/p4KP1/r4P2/8 w - - 8 53 while parsing <Game at 0x7f66d014e0f0 ('?' vs. '?', '????.??.??' at '?')>\n",
      "illegal san: 'Rxc6' in rnbqkbnr/pp1p1ppp/2P5/8/2P1p3/8/PP2PPPP/RNBQKBNR b KQkq - 0 4 while parsing <Game at 0x7f67d2f17d10 ('?' vs. '?', '????.??.??' at '?')>\n",
      "illegal san: 'Ke5' in 8/8/p3R3/8/3pk1P1/rP4K1/8/8 b - - 2 39 while parsing <Game at 0x7f67d2e70b00 ('?' vs. '?', '????.??.??' at '?')>\n",
      "illegal san: 'Ke4' in 8/8/4k1pp/5p2/3K1P1P/5N2/8/8 w - - 8 56 while parsing <Game at 0x7f67d2f17650 ('?' vs. '?', '????.??.??' at '?')>\n",
      "illegal san: 'Nd3' in rnbqkbnr/ppppp2p/8/5p2/5P2/8/PPPP2PP/RNBQKBNR w KQkq - 0 4 while parsing <Game at 0x7f66d043bc80 ('?' vs. '?', '????.??.??' at '?')>\n",
      "illegal san: 'Kxe4' in 4r3/8/p2R4/4k3/1p1Nb3/4K1P1/P7/8 w - - 2 41 while parsing <Game at 0x7f66d043bc80 ('?' vs. '?', '????.??.??' at '?')>\n",
      "illegal san: 'Qh3' in rnbqkbnr/ppp1pppp/8/3p4/8/6P1/PPPPPP1P/RNBQKBNR w KQkq - 0 2 while parsing <Game at 0x7f67d2f17e30 ('?' vs. '?', '????.??.??' at '?')>\n",
      "illegal san: 'Ng3' in rn1qkb1r/pbpp2pp/1p2pn2/5p2/5P2/1P2PN2/P1PPB1PP/RNBQK2R w KQkq - 0 6 while parsing <Game at 0x7f67d2f176e0 ('?' vs. '?', '????.??.??' at '?')>\n",
      "illegal san: 'Ke5' in 8/2B3p1/4K3/5P1p/6k1/6P1/1b6/8 w - - 21 57 while parsing <Game at 0x7f67d2f17a40 ('?' vs. '?', '????.??.??' at '?')>\n",
      "illegal san: 'O-O' in rnbqkbnr/p1pp1pp1/1p2p3/7p/4PP2/1P6/P1PP2PP/RNBQKBNR w KQkq - 0 4 while parsing <Game at 0x7f67d2f16f90 ('?' vs. '?', '????.??.??' at '?')>\n",
      "illegal san: 'Ke5' in 8/p4p1p/3kp1p1/8/4K3/1B2P2P/P4PP1/2b5 b - - 7 31 while parsing <Game at 0x7f67d2f175c0 ('?' vs. '?', '????.??.??' at '?')>\n",
      "illegal san: 'Kd4' in 3rN3/8/4R3/4ppk1/2K4p/5n2/P7/8 w - - 2 46 while parsing <Game at 0x7f67d2f17140 ('?' vs. '?', '????.??.??' at '?')>\n",
      "illegal san: 'Ng3' in rnbqkbnr/ppppp1pp/8/5p2/8/1P6/P1PPPPPP/RNBQKBNR w KQkq - 0 2 while parsing <Game at 0x7f67d2f17800 ('?' vs. '?', '????.??.??' at '?')>\n",
      "illegal san: 'Be3' in rnbqkbnr/p1ppppp1/1p6/7p/4P3/5P2/PPPP2PP/RNBQKBNR w KQkq - 0 3 while parsing <Game at 0x7f67d2f17da0 ('?' vs. '?', '????.??.??' at '?')>\n",
      "illegal san: 'Kd5' in 8/3k2p1/p1n1p1p1/1p2P3/4KPP1/1P6/P7/4B3 w - - 13 50 while parsing <Game at 0x7f67d2f17410 ('?' vs. '?', '????.??.??' at '?')>\n",
      "illegal san: 'Ke5' in 8/8/4kp2/8/4K3/8/8/8 b - - 1 59 while parsing <Game at 0x7f67d2f17920 ('?' vs. '?', '????.??.??' at '?')>\n",
      "illegal san: 'Qg2' in r1bqkb1r/ppp3p1/2np1n1p/4pP2/4P1P1/2N5/PPP4P/R1BQKBNR w KQkq - 0 8 while parsing <Game at 0x7f67d2f175c0 ('?' vs. '?', '????.??.??' at '?')>\n",
      "illegal san: 'Nef6' in rnbqkbnr/2pppp1p/6p1/ppP5/3P4/1P6/P3PPPP/RNBQKBNR b KQkq - 0 4 while parsing <Game at 0x7f67d2f17410 ('?' vs. '?', '????.??.??' at '?')>\n",
      "illegal san: 'Kd5' in 3R4/1P1n1p2/4k3/6P1/5P2/1KN5/2r5/8 b - - 12 77 while parsing <Game at 0x7f66d043bc80 ('?' vs. '?', '????.??.??' at '?')>\n",
      "illegal san: 'Kd5' in 3R4/1pB5/7p/2R3p1/4k3/p6P/Pq4PK/8 b - - 4 38 while parsing <Game at 0x7f67d2f17800 ('?' vs. '?', '????.??.??' at '?')>\n",
      "illegal san: 'Kd5' in 4rbQ1/1b6/pp2kPp1/4pqB1/2rP4/5P2/P2RNKP1/7R b - - 5 30 while parsing <Game at 0x7f67d2f17140 ('?' vs. '?', '????.??.??' at '?')>\n",
      "illegal san: 'Bxh8' in rnbqkbnr/ppp1pp1p/3p2p1/8/1PP5/8/P2PPPPP/RNBQKBNR w KQkq - 0 3 while parsing <Game at 0x7f67d2f17410 ('?' vs. '?', '????.??.??' at '?')>\n",
      "illegal san: 'Bd4' in rnbqkbnr/1pppppp1/8/p6p/5P2/6P1/PPPPP2P/RNBQKBNR w KQkq - 0 3 while parsing <Game at 0x7f66d043bc80 ('?' vs. '?', '????.??.??' at '?')>\n",
      "illegal san: 'Bc2' in rnbqkbnr/p2ppppp/1p6/2p5/1PP5/8/P2PPPPP/RNBQKBNR w KQkq - 0 3 while parsing <Game at 0x7f67d2f17ad0 ('?' vs. '?', '????.??.??' at '?')>\n",
      "illegal san: 'Qxf5' in rnbqkbnr/ppppp1pp/8/5P2/8/8/PPPPPP1P/RNBQKBNR b KQkq - 0 2 while parsing <Game at 0x7f67d2f17920 ('?' vs. '?', '????.??.??' at '?')>\n",
      "illegal san: 'Nd3' in rnb1kb1r/p1p1pppp/1p3n2/3q4/3P4/5N2/PP2PPPP/RNBQKB1R w KQkq - 0 5 while parsing <Game at 0x7f66d043bc80 ('?' vs. '?', '????.??.??' at '?')>\n",
      "illegal san: 'Kxe4' in 8/8/p3k3/5p2/1P1KbB2/7p/8/8 w - - 6 60 while parsing <Game at 0x7f66d043bc80 ('?' vs. '?', '????.??.??' at '?')>\n",
      "illegal san: 'Ke4' in 1k6/1p3R2/pQp5/2Pp2P1/2qP4/P2KP2r/5P2/8 w - - 7 42 while parsing <Game at 0x7f67d2f175c0 ('?' vs. '?', '????.??.??' at '?')>\n",
      "illegal san: 'Ke4' in 2N5/8/8/4k3/8/3K4/8/8 w - - 1 74 while parsing <Game at 0x7f67d2f17a40 ('?' vs. '?', '????.??.??' at '?')>\n",
      "illegal san: 'Nb6' in rnbqkbnr/ppppp1pp/8/5p2/2P5/5P2/PP1PP1PP/RNBQKBNR b KQkq - 0 2 while parsing <Game at 0x7f67d2f179b0 ('?' vs. '?', '????.??.??' at '?')>\n",
      "illegal san: 'Ng6' in rnbqkbnr/pppppp1p/8/6p1/2PP4/8/PP2PPPP/RNBQKBNR b KQkq - 0 2 while parsing <Game at 0x7f66d04d44d0 ('?' vs. '?', '????.??.??' at '?')>\n",
      "illegal san: 'Kg3' in 8/1q3p2/3p4/2p3R1/2P4r/2P5/2K4k/6Q1 b - - 24 57 while parsing <Game at 0x7f67d2f17410 ('?' vs. '?', '????.??.??' at '?')>\n",
      "illegal san: 'Ba5' in rnbqkbnr/pp2pppp/2p5/3p4/3PP3/2N5/PPP2PPP/R1BQKBNR b KQkq - 0 3 while parsing <Game at 0x7f67d2f17920 ('?' vs. '?', '????.??.??' at '?')>\n",
      "illegal san: 'Ke4' in 6r1/8/8/5K2/8/R2nk3/8/8 b - - 23 73 while parsing <Game at 0x7f67d2f17020 ('?' vs. '?', '????.??.??' at '?')>\n",
      "illegal san: 'Ned3' in rnbqkbnr/1pp1p2p/5p2/p2p2p1/P2PP1P1/5P2/1PP4P/RNBQKBNR w KQkq - 0 6 while parsing <Game at 0x7f66d04d6cc0 ('?' vs. '?', '????.??.??' at '?')>\n",
      "illegal san: 'Ke4' in 8/5R2/4r3/4k3/3R4/r3PK2/8/8 w - - 7 70 while parsing <Game at 0x7f67d2f17140 ('?' vs. '?', '????.??.??' at '?')>\n",
      "illegal san: 'Qxf5' in rnbqkbnr/ppppp1pp/8/5P2/8/8/PPPPPP1P/RNBQKBNR b KQkq - 0 2 while parsing <Game at 0x7f66d04d44d0 ('?' vs. '?', '????.??.??' at '?')>\n",
      "illegal san: 'Ke4' in 8/8/8/3k1p1P/5P2/4K3/8/8 w - - 2 74 while parsing <Game at 0x7f67d2f17a40 ('?' vs. '?', '????.??.??' at '?')>\n",
      "illegal san: 'Qxf5' in rnbqkbnr/ppppp1pp/8/5P2/8/8/PPPPPP1P/RNBQKBNR b KQkq - 0 2 while parsing <Game at 0x7f67d2f172f0 ('?' vs. '?', '????.??.??' at '?')>\n",
      "illegal san: 'Kf1' in 1r3r1k/p3Rp2/4p3/n1P1P1QP/8/P3PN2/1q2BKP1/2q5 w - - 7 31 while parsing <Game at 0x7f67d2f172f0 ('?' vs. '?', '????.??.??' at '?')>\n",
      "illegal san: 'Kg8' in 5k2/6R1/r5Pp/4K3/5P1P/8/8/8 b - - 0 47 while parsing <Game at 0x7f66d04d44d0 ('?' vs. '?', '????.??.??' at '?')>\n",
      "illegal san: 'Kd5' in 5b2/8/4k2p/7P/1P2K3/8/3B4/8 b - - 0 60 while parsing <Game at 0x7f67d2f17020 ('?' vs. '?', '????.??.??' at '?')>\n",
      "illegal san: 'Kf7' in 4k3/2R5/3P4/4PK2/p6p/6r1/8/8 b - - 0 53 while parsing <Game at 0x7f67d2f17a40 ('?' vs. '?', '????.??.??' at '?')>\n",
      "illegal san: 'O-O' in rnbqkbnr/ppp1pppp/8/3p4/3P4/2N5/PPP1PPPP/R1BQKBNR b KQkq - 1 2 while parsing <Game at 0x7f67d2e70dd0 ('?' vs. '?', '????.??.??' at '?')>\n",
      "illegal san: 'Nfg3' in rnbqkbnr/3pp1pp/2p2p2/p1P5/1p6/1P2P3/PB1P1PPP/RN1QKBNR w KQkq - 0 6 while parsing <Game at 0x7f67d2f17770 ('?' vs. '?', '????.??.??' at '?')>\n",
      "illegal san: 'Ke4' in 8/6r1/p2kbp2/1p1p4/1P1R1K1p/P4B1P/1P4P1/8 w - - 0 42 while parsing <Game at 0x7f67d2f17800 ('?' vs. '?', '????.??.??' at '?')>\n",
      "illegal san: 'Ke4' in 8/5B2/3k1p1p/p1pp4/P4PP1/1P3K2/2P5/2b5 w - - 4 41 while parsing <Game at 0x7f67d2e70950 ('?' vs. '?', '????.??.??' at '?')>\n",
      "illegal san: 'Nc7' in rnbqkbnr/pp1pp2p/2p2pp1/8/PP6/6P1/1BPPPP1P/RN1QKBNR b KQkq - 0 4 while parsing <Game at 0x7f67d2f17ad0 ('?' vs. '?', '????.??.??' at '?')>\n",
      "illegal san: 'Ne6' in rnbqkbnr/pppppppp/8/8/3P4/8/PPP1PPPP/RNBQKBNR b KQkq - 0 1 while parsing <Game at 0x7f67d2f17a40 ('?' vs. '?', '????.??.??' at '?')>\n",
      "illegal san: 'Kd5' in 8/P5R1/4k3/4B2p/2P2P1P/4Kb2/8/3r4 b - - 4 70 while parsing <Game at 0x7f66d04d44d0 ('?' vs. '?', '????.??.??' at '?')>\n",
      "illegal san: 'Ne3' in rnbqkbnr/pp2p1pp/2p2p2/3p4/4P3/1P4P1/P1PP1P1P/RNBQKBNR w KQkq - 0 4 while parsing <Game at 0x7f67d2f17800 ('?' vs. '?', '????.??.??' at '?')>\n",
      "illegal san: 'Ke5' in 4b3/pB6/1p3k2/3p1p2/1P1P1Pp1/P7/5KP1/8 b - - 21 45 while parsing <Game at 0x7f66d04d44d0 ('?' vs. '?', '????.??.??' at '?')>\n",
      "illegal san: 'Kd4' in 8/7p/p2k4/1p2p1p1/nP2PpP1/PN1KbP1P/8/B7 w - - 23 47 while parsing <Game at 0x7f67d2f17020 ('?' vs. '?', '????.??.??' at '?')>\n",
      "illegal san: 'Nb6' in rnbqkbnr/pppppppp/8/8/5P2/8/PPPPP1PP/RNBQKBNR b KQkq - 0 1 while parsing <Game at 0x7f67d2f17800 ('?' vs. '?', '????.??.??' at '?')>\n",
      "illegal san: 'Qf5' in rnbqkb1r/pp1p1ppp/5n2/2p1p3/2P5/1P3N2/P2PPPPP/RNBQKB1R w KQkq - 0 4 while parsing <Game at 0x7f67d2e71f40 ('?' vs. '?', '????.??.??' at '?')>\n",
      "illegal san: 'Be5' in rnbqkb1r/p2ppppp/1p3n2/2p5/1PP5/5N2/P2PPPPP/RNBQKB1R w KQkq - 0 4 while parsing <Game at 0x7f67d2f17770 ('?' vs. '?', '????.??.??' at '?')>\n",
      "illegal san: 'Nd6' in rnbqkb1r/pp1pp1pp/2p2n2/5p2/2PP4/2N3P1/PP2PP1P/R1BQKBNR b KQkq - 2 4 while parsing <Game at 0x7f67d2f17800 ('?' vs. '?', '????.??.??' at '?')>\n",
      "illegal san: 'Ne3' in rnbqkbnr/pp1p1ppp/4p3/2p5/4P3/5P2/PPPP2PP/RNBQKBNR w KQkq - 0 3 while parsing <Game at 0x7f67d2e708c0 ('?' vs. '?', '????.??.??' at '?')>\n",
      "illegal san: 'Ke4' in r7/r6p/PR2P1p1/2p2p2/5k2/2PK4/6PP/R7 b - - 2 40 while parsing <Game at 0x7f67d2f17800 ('?' vs. '?', '????.??.??' at '?')>\n",
      "illegal san: 'Rxf4' in r1bqkbnr/pppp1ppp/2n5/8/5pP1/2P5/PP1PP2P/RNBQKBNR w KQkq - 0 4 while parsing <Game at 0x7f67d2f175c0 ('?' vs. '?', '????.??.??' at '?')>\n",
      "illegal san: 'Ke5' in R7/4r1p1/3k1p1p/1p1p3P/5PP1/2PKP3/8/8 b - - 20 50 while parsing <Game at 0x7f67d2f17020 ('?' vs. '?', '????.??.??' at '?')>\n",
      "illegal san: 'Bc7' in rnbqkbnr/pp1ppppp/2p5/8/4PP2/8/PPPP2PP/RNBQKBNR b KQkq - 0 2 while parsing <Game at 0x7f67d2e710a0 ('?' vs. '?', '????.??.??' at '?')>\n",
      "illegal san: 'Kd5' in 8/8/2kbRN2/5Pp1/6P1/8/KP6/5r2 b - - 14 55 while parsing <Game at 0x7f67d2e710a0 ('?' vs. '?', '????.??.??' at '?')>\n",
      "illegal san: 'Ke5' in 8/8/3kP2p/6pP/3K2B1/8/n1p3r1/2R5 b - - 5 73 while parsing <Game at 0x7f67d2e710a0 ('?' vs. '?', '????.??.??' at '?')>\n",
      "illegal san: 'Ng6' in rnbqkbnr/p1ppp1pp/1p3p2/8/1PP5/5P2/P2PP1PP/RNBQKBNR b KQkq - 0 3 while parsing <Game at 0x7f67d2e70cb0 ('?' vs. '?', '????.??.??' at '?')>\n",
      "illegal san: 'Ke5' in 8/1p5p/3k2p1/p2p1NP1/5P2/1P1KP3/P7/8 b - - 0 42 while parsing <Game at 0x7f66d014e840 ('?' vs. '?', '????.??.??' at '?')>\n",
      "illegal san: 'Kd5' in 1r6/1P4p1/2k5/1R3p1p/pK5P/P5P1/5P2/8 b - - 3 60 while parsing <Game at 0x7f67d2f17020 ('?' vs. '?', '????.??.??' at '?')>\n",
      "illegal san: 'Nb3' in rnbqkbnr/pppppppp/8/8/8/8/PPPPPPPP/RNBQKBNR w KQkq - 0 1 while parsing <Game at 0x7f67d2f175c0 ('?' vs. '?', '????.??.??' at '?')>\n",
      "illegal san: 'Bc4' in rnbqkbnr/p1p1p2p/6p1/1p2Pp1P/8/8/PPP2PP1/RNBQKBNR b KQkq - 0 6 while parsing <Game at 0x7f67d2f176e0 ('?' vs. '?', '????.??.??' at '?')>\n",
      "illegal san: 'Nb3' in rnbqkb1r/ppppp2p/5np1/5p2/5P2/5NP1/PPPPP2P/RNBQKB1R w KQkq - 2 4 while parsing <Game at 0x7f67d2f175c0 ('?' vs. '?', '????.??.??' at '?')>\n",
      "illegal san: 'Kd5' in 8/8/8/7P/p3KbR1/k4P2/1p4p1/1B1r4 w - - 4 50 while parsing <Game at 0x7f67d2f175c0 ('?' vs. '?', '????.??.??' at '?')>\n",
      "illegal san: 'Ng6' in rnbqkbnr/pppppppp/8/8/8/6P1/PPPPPP1P/RNBQKBNR b KQkq - 0 1 while parsing <Game at 0x7f67d2e70cb0 ('?' vs. '?', '????.??.??' at '?')>\n",
      "illegal san: 'Kd5' in 2b5/4rr1p/2pknp1R/1pN3p1/1P2PPP1/1BP1K1P1/8/7R b - - 0 33 while parsing <Game at 0x7f67d2f17ad0 ('?' vs. '?', '????.??.??' at '?')>\n",
      "illegal san: 'Kd4' in 8/8/8/4p1Pp/1k5P/4K3/P1r5/8 w - - 0 56 while parsing <Game at 0x7f66d04d6cc0 ('?' vs. '?', '????.??.??' at '?')>\n",
      "illegal san: 'Kxe5' in 3R4/1p4p1/2pk3p/3pN2P/1r2nPP1/8/6K1/8 b - - 18 56 while parsing <Game at 0x7f66d04d44d0 ('?' vs. '?', '????.??.??' at '?')>\n",
      "illegal san: 'O-O' in rnbqkbnr/pppppppp/8/8/8/8/PPPPPPPP/RNBQKBNR w KQkq - 0 1 while parsing <Game at 0x7f67d2f17a40 ('?' vs. '?', '????.??.??' at '?')>\n",
      "illegal san: 'O-O' in rnbqk1nr/p1ppbppp/1p2p3/3P4/5PP1/8/PPP1P2P/RNBQKBNR b KQkq - 0 4 while parsing <Game at 0x7f67d2f17020 ('?' vs. '?', '????.??.??' at '?')>\n",
      "illegal san: 'Ke5' in 8/p6p/2pk4/1p4p1/1PpP1pP1/2P2P1P/P3K3/8 b - - 7 37 while parsing <Game at 0x7f67d2e70cb0 ('?' vs. '?', '????.??.??' at '?')>\n",
      "illegal san: 'Ke4' in 8/5p2/3k4/3b4/2B3Pp/5K2/8/8 w - - 0 45 while parsing <Game at 0x7f67d2e70cb0 ('?' vs. '?', '????.??.??' at '?')>\n",
      "illegal san: 'Ba7' in rnbqkbnr/1pppp1pp/5p2/pP6/2P5/8/P2PPPPP/RNBQKBNR b KQkq - 0 3 while parsing <Game at 0x7f66d04d44d0 ('?' vs. '?', '????.??.??' at '?')>\n",
      "illegal san: 'Rb3' in rn1qkbnr/ppp2p1p/6p1/4pb2/1PP5/6P1/P3PP1P/RNBQKBNR w KQkq - 1 6 while parsing <Game at 0x7f66d04d44d0 ('?' vs. '?', '????.??.??' at '?')>\n",
      "illegal san: 'Ke4' in 8/6k1/1R6/1p2K2p/1P5P/2n5/8/8 w - - 13 54 while parsing <Game at 0x7f67d2e70cb0 ('?' vs. '?', '????.??.??' at '?')>\n",
      "illegal san: 'Nhg6' in rnbqkbnr/pppp1ppp/8/4p3/2P5/1P6/P2PPPPP/RNBQKBNR b KQkq - 0 2 while parsing <Game at 0x7f66d04d6cc0 ('?' vs. '?', '????.??.??' at '?')>\n",
      "illegal san: 'O-O' in rnbqkbnr/p1p1pppp/1p6/3p4/3P4/2N5/PPP1PPPP/R1BQKBNR w KQkq - 0 3 while parsing <Game at 0x7f67d2e70cb0 ('?' vs. '?', '????.??.??' at '?')>\n",
      "illegal san: 'Nb3' in rnbqkbnr/ppp1pppp/3p4/8/3P4/8/PPP1PPPP/RNBQKBNR w KQkq - 0 2 while parsing <Game at 0x7f66d04d44d0 ('?' vs. '?', '????.??.??' at '?')>\n",
      "illegal san: 'Bf3' in rnbqkbnr/1pp1pp1p/3p2p1/p7/P3PP2/8/1PPP2PP/RNBQKBNR w KQkq - 0 4 while parsing <Game at 0x7f66d014e720 ('?' vs. '?', '????.??.??' at '?')>\n",
      "illegal san: 'Ng3' in rnbqkbnr/pp2pppp/2p5/3p4/P5P1/8/1PPPPP1P/RNBQKBNR w KQkq - 0 3 while parsing <Game at 0x7f66d04d6cc0 ('?' vs. '?', '????.??.??' at '?')>\n",
      "illegal san: 'Ncd3' in rnbqkbnr/pppppppp/8/8/8/8/PPPPPPPP/RNBQKBNR w KQkq - 0 1 while parsing <Game at 0x7f67d2f17920 ('?' vs. '?', '????.??.??' at '?')>\n",
      "illegal san: 'Nhg3' in rn1qkbnr/pb1ppppp/1p6/8/2PP4/8/PP3PPP/RNBQKBNR w KQkq - 1 5 while parsing <Game at 0x7f67d2e710a0 ('?' vs. '?', '????.??.??' at '?')>\n",
      "illegal san: 'Ke5' in 8/8/8/5k2/3K1p1p/7P/8/8 b - - 5 66 while parsing <Game at 0x7f67d2f17020 ('?' vs. '?', '????.??.??' at '?')>\n",
      "illegal san: 'Nf2' in rnbqkbnr/pp4pp/3p4/2pPp3/2P1Pp2/5P2/PP4PP/RNBQKBNR w KQkq c6 0 6 while parsing <Game at 0x7f66d04d6cc0 ('?' vs. '?', '????.??.??' at '?')>\n",
      "illegal san: 'Qf7' in rnbqkbnr/pppp2pp/5p2/4p3/4PP2/3P4/PPP3PP/RNBQKBNR b KQkq - 0 3 while parsing <Game at 0x7f67d2f17020 ('?' vs. '?', '????.??.??' at '?')>\n",
      "illegal san: 'Kd4' in 3rk3/5pp1/2p1p3/ppP3Pp/4PP1P/P3K3/1P6/5R2 w - - 9 31 while parsing <Game at 0x7f66d014e8d0 ('?' vs. '?', '????.??.??' at '?')>\n",
      "illegal san: 'Ke4' in 8/5p2/8/4r3/p2K1k2/P1N5/1p6/5R2 b - - 1 55 while parsing <Game at 0x7f66d014e8d0 ('?' vs. '?', '????.??.??' at '?')>\n",
      "illegal san: 'Ke4' in 8/2p1nkpp/4N3/3p1P2/b1pK2P1/7P/r1P5/2R2B2 w - - 2 43 while parsing <Game at 0x7f66d014df40 ('?' vs. '?', '????.??.??' at '?')>\n",
      "illegal san: 'Bxe5' in rnbqkbnr/pppp3p/6p1/4Pp2/8/2P3P1/PP1PP2P/RNBQKBNR b KQkq - 0 4 while parsing <Game at 0x7f66d014c0e0 ('?' vs. '?', '????.??.??' at '?')>\n",
      "illegal san: 'Kd4' in 1r3b1k/1R3Qpp/8/2q1p3/P3p3/1P1K1P2/6PP/8 w - - 0 41 while parsing <Game at 0x7f67d2e710a0 ('?' vs. '?', '????.??.??' at '?')>\n"
     ]
    }
   ],
   "source": [
    "import chess\n",
    "import chess.pgn\n",
    "\n",
    "def extract_turns(row):\n",
    "    positions = []\n",
    "    moves = []\n",
    "\n",
    "    text = row['movetext'][0]\n",
    "    with open('tmp.pgn', 'w') as f:\n",
    "        f.write(text)\n",
    "\n",
    "   \n",
    "    pgn = open(\"tmp.pgn\")\n",
    "    game = chess.pgn.read_game(pgn)\n",
    "    if game.errors:\n",
    "        return {\"positions\": [], \"moves\": []}\n",
    "    else:\n",
    "        pass\n",
    "    \n",
    "    board = game.board()\n",
    "\n",
    "    for move in game.mainline_moves():\n",
    "        if board.turn:\n",
    "            pos = 'WHITE'\n",
    "            if chess.Move.from_uci(\"e1g1\") in board.legal_moves:\n",
    "                pos = pos + ' ' + 'KINGSIDE_CASTLE'\n",
    "            else:\n",
    "                pos = pos + ' ' + 'NO_KINGSIDE_CASTLE'\n",
    "            if chess.Move.from_uci(\"e1c1\") in board.legal_moves:\n",
    "                pos = pos + ' ' + 'QUEENSIDE_CASTLE'\n",
    "            else:\n",
    "                pos = pos + ' ' + 'NO_QUEENSIDE_CASTLE'\n",
    "\n",
    "        else:\n",
    "            pos = 'BLACK'\n",
    "\n",
    "            if chess.Move.from_uci(\"e8g8\") in board.legal_moves:\n",
    "                pos = pos + ' ' + 'KINGSIDE_CASTLE'\n",
    "            else:\n",
    "                pos = pos + ' ' + 'NO_KINGSIDE_CASTLE'\n",
    "            if chess.Move.from_uci(\"e8c8\") in board.legal_moves:\n",
    "                pos = pos + ' ' + 'QUEENSIDE_CASTLE'\n",
    "            else:\n",
    "                pos = pos + ' ' + 'NO_QUEENSIDE_CASTLE'\n",
    "        \n",
    "        for square in chess.SQUARES:\n",
    "            piece = board.piece_at(square)\n",
    "            if piece is not None:\n",
    "                pos = pos + ' ' + piece.symbol()\n",
    "            else:\n",
    "                pos = pos + ' ' + 'EMPTY'\n",
    "\n",
    "        board.push(move)\n",
    "        positions.append(pos)\n",
    "        moves.append(move.uci())\n",
    "\n",
    "\n",
    "    return {'positions': positions, 'moves': moves}\n",
    "\n",
    "ds = ds.map(extract_turns, batched=True, batch_size=1, remove_columns=['movetext', '__index_level_0__'])\n",
    "    "
   ]
  },
  {
   "cell_type": "code",
   "execution_count": 18,
   "id": "61c9cce4",
   "metadata": {},
   "outputs": [
    {
     "data": {
      "text/plain": [
       "DatasetDict({\n",
       "    train: Dataset({\n",
       "        features: ['positions', 'moves'],\n",
       "        num_rows: 3063989\n",
       "    })\n",
       "    valid: Dataset({\n",
       "        features: ['positions', 'moves'],\n",
       "        num_rows: 1019420\n",
       "    })\n",
       "})"
      ]
     },
     "execution_count": 18,
     "metadata": {},
     "output_type": "execute_result"
    }
   ],
   "source": [
    "ds"
   ]
  },
  {
   "cell_type": "markdown",
   "id": "fe700d26",
   "metadata": {},
   "source": [
    "### Pushing to HuggingFace"
   ]
  },
  {
   "cell_type": "code",
   "execution_count": 21,
   "id": "d0112650",
   "metadata": {},
   "outputs": [
    {
     "data": {
      "application/vnd.jupyter.widget-view+json": {
       "model_id": "f6b35bef5aa743349e53fd8ec73b7742",
       "version_major": 2,
       "version_minor": 0
      },
      "text/plain": [
       "VBox(children=(HTML(value='<center> <img\\nsrc=https://huggingface.co/front/assets/huggingface_logo-noborder.sv…"
      ]
     },
     "metadata": {},
     "output_type": "display_data"
    }
   ],
   "source": [
    "from huggingface_hub import login\n",
    "\n",
    "login()"
   ]
  },
  {
   "cell_type": "code",
   "execution_count": 22,
   "id": "0f56ed15",
   "metadata": {},
   "outputs": [
    {
     "data": {
      "application/vnd.jupyter.widget-view+json": {
       "model_id": "10173f08e7b0454ba68df4411262f1af",
       "version_major": 2,
       "version_minor": 0
      },
      "text/plain": [
       "Uploading the dataset shards:   0%|          | 0/3 [00:00<?, ? shards/s]"
      ]
     },
     "metadata": {},
     "output_type": "display_data"
    },
    {
     "data": {
      "application/vnd.jupyter.widget-view+json": {
       "model_id": "c113a081288a458ab8fcb89f34e3655c",
       "version_major": 2,
       "version_minor": 0
      },
      "text/plain": [
       "Creating parquet from Arrow format:   0%|          | 0/1022 [00:00<?, ?ba/s]"
      ]
     },
     "metadata": {},
     "output_type": "display_data"
    },
    {
     "data": {
      "application/vnd.jupyter.widget-view+json": {
       "model_id": "3540e50ff2124f4eb46eb7499c4398e8",
       "version_major": 2,
       "version_minor": 0
      },
      "text/plain": [
       "Processing Files (0 / 0)                : |          |  0.00B /  0.00B            "
      ]
     },
     "metadata": {},
     "output_type": "display_data"
    },
    {
     "data": {
      "application/vnd.jupyter.widget-view+json": {
       "model_id": "d98256552d0b4138809e3f0f6913ceb9",
       "version_major": 2,
       "version_minor": 0
      },
      "text/plain": [
       "New Data Upload                         : |          |  0.00B /  0.00B            "
      ]
     },
     "metadata": {},
     "output_type": "display_data"
    },
    {
     "data": {
      "application/vnd.jupyter.widget-view+json": {
       "model_id": "6f1945353a1641729c4868d7b9848052",
       "version_major": 2,
       "version_minor": 0
      },
      "text/plain": [
       "                                        :   1%|1         |  573kB / 40.3MB            "
      ]
     },
     "metadata": {},
     "output_type": "display_data"
    },
    {
     "data": {
      "application/vnd.jupyter.widget-view+json": {
       "model_id": "2e69920c6b7c4ce29a344792cc97f380",
       "version_major": 2,
       "version_minor": 0
      },
      "text/plain": [
       "Creating parquet from Arrow format:   0%|          | 0/1022 [00:00<?, ?ba/s]"
      ]
     },
     "metadata": {},
     "output_type": "display_data"
    },
    {
     "data": {
      "application/vnd.jupyter.widget-view+json": {
       "model_id": "e2029d6a968d4fa5a838b6d26dc119e4",
       "version_major": 2,
       "version_minor": 0
      },
      "text/plain": [
       "Processing Files (0 / 0)                : |          |  0.00B /  0.00B            "
      ]
     },
     "metadata": {},
     "output_type": "display_data"
    },
    {
     "data": {
      "application/vnd.jupyter.widget-view+json": {
       "model_id": "b4bb09fe328a4cb0b16e25711ad268d5",
       "version_major": 2,
       "version_minor": 0
      },
      "text/plain": [
       "New Data Upload                         : |          |  0.00B /  0.00B            "
      ]
     },
     "metadata": {},
     "output_type": "display_data"
    },
    {
     "data": {
      "application/vnd.jupyter.widget-view+json": {
       "model_id": "b4b3e401257c4bc1a2e62f858d3f4b7a",
       "version_major": 2,
       "version_minor": 0
      },
      "text/plain": [
       "                                        :   1%|1         |  574kB / 40.3MB            "
      ]
     },
     "metadata": {},
     "output_type": "display_data"
    },
    {
     "data": {
      "application/vnd.jupyter.widget-view+json": {
       "model_id": "a7a02150374843bbb28c7062d76d18cb",
       "version_major": 2,
       "version_minor": 0
      },
      "text/plain": [
       "Creating parquet from Arrow format:   0%|          | 0/1022 [00:00<?, ?ba/s]"
      ]
     },
     "metadata": {},
     "output_type": "display_data"
    },
    {
     "data": {
      "application/vnd.jupyter.widget-view+json": {
       "model_id": "f5fe636aaf0e476e8e5a74db10185ef3",
       "version_major": 2,
       "version_minor": 0
      },
      "text/plain": [
       "Processing Files (0 / 0)                : |          |  0.00B /  0.00B            "
      ]
     },
     "metadata": {},
     "output_type": "display_data"
    },
    {
     "data": {
      "application/vnd.jupyter.widget-view+json": {
       "model_id": "21c8ec04fdb3421b8f970ca2b00dfee6",
       "version_major": 2,
       "version_minor": 0
      },
      "text/plain": [
       "New Data Upload                         : |          |  0.00B /  0.00B            "
      ]
     },
     "metadata": {},
     "output_type": "display_data"
    },
    {
     "data": {
      "application/vnd.jupyter.widget-view+json": {
       "model_id": "51b244ce5e664013a212704b5f92e178",
       "version_major": 2,
       "version_minor": 0
      },
      "text/plain": [
       "                                        :   1%|1         |  572kB / 40.3MB            "
      ]
     },
     "metadata": {},
     "output_type": "display_data"
    },
    {
     "data": {
      "application/vnd.jupyter.widget-view+json": {
       "model_id": "827135c9504e4eb5a44ec4b4d054f0cf",
       "version_major": 2,
       "version_minor": 0
      },
      "text/plain": [
       "Uploading the dataset shards:   0%|          | 0/1 [00:00<?, ? shards/s]"
      ]
     },
     "metadata": {},
     "output_type": "display_data"
    },
    {
     "data": {
      "application/vnd.jupyter.widget-view+json": {
       "model_id": "818597812cb4424d8c6bfa1fa33d6fd1",
       "version_major": 2,
       "version_minor": 0
      },
      "text/plain": [
       "Creating parquet from Arrow format:   0%|          | 0/1020 [00:00<?, ?ba/s]"
      ]
     },
     "metadata": {},
     "output_type": "display_data"
    },
    {
     "data": {
      "application/vnd.jupyter.widget-view+json": {
       "model_id": "4bd536cbd714491cb13c8d9f26b04824",
       "version_major": 2,
       "version_minor": 0
      },
      "text/plain": [
       "Processing Files (0 / 0)                : |          |  0.00B /  0.00B            "
      ]
     },
     "metadata": {},
     "output_type": "display_data"
    },
    {
     "data": {
      "application/vnd.jupyter.widget-view+json": {
       "model_id": "1587996f91df4972804f2228b42f0c87",
       "version_major": 2,
       "version_minor": 0
      },
      "text/plain": [
       "New Data Upload                         : |          |  0.00B /  0.00B            "
      ]
     },
     "metadata": {},
     "output_type": "display_data"
    },
    {
     "data": {
      "application/vnd.jupyter.widget-view+json": {
       "model_id": "db5e7fd22319413c99eb31cd6a3146f7",
       "version_major": 2,
       "version_minor": 0
      },
      "text/plain": [
       "                                        :   1%|1         |  574kB / 40.2MB            "
      ]
     },
     "metadata": {},
     "output_type": "display_data"
    },
    {
     "data": {
      "text/plain": [
       "CommitInfo(commit_url='https://huggingface.co/datasets/noor-zalouk/tournament-chess-games-modified/commit/fca39f6f4bb5fe7f366602f6d1e736f4b7c67e0c', commit_message='Upload dataset', commit_description='', oid='fca39f6f4bb5fe7f366602f6d1e736f4b7c67e0c', pr_url=None, repo_url=RepoUrl('https://huggingface.co/datasets/noor-zalouk/tournament-chess-games-modified', endpoint='https://huggingface.co', repo_type='dataset', repo_id='noor-zalouk/tournament-chess-games-modified'), pr_revision=None, pr_num=None)"
      ]
     },
     "execution_count": 22,
     "metadata": {},
     "output_type": "execute_result"
    }
   ],
   "source": [
    "repo_id = \"noor-zalouk/tournament-chess-games-modified\"\n",
    "ds.push_to_hub(repo_id)"
   ]
  },
  {
   "cell_type": "code",
   "execution_count": null,
   "id": "c0260281",
   "metadata": {},
   "outputs": [],
   "source": []
  }
 ],
 "metadata": {
  "kernelspec": {
   "display_name": "base",
   "language": "python",
   "name": "python3"
  },
  "language_info": {
   "codemirror_mode": {
    "name": "ipython",
    "version": 3
   },
   "file_extension": ".py",
   "mimetype": "text/x-python",
   "name": "python",
   "nbconvert_exporter": "python",
   "pygments_lexer": "ipython3",
   "version": "3.13.5"
  }
 },
 "nbformat": 4,
 "nbformat_minor": 5
}
