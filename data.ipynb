{
 "cells": [
  {
   "cell_type": "markdown",
   "id": "1d7a3b0b",
   "metadata": {},
   "source": [
    "# Loading the Dataset"
   ]
  },
  {
   "cell_type": "code",
   "execution_count": 1,
   "id": "019c5c6d",
   "metadata": {},
   "outputs": [
    {
     "data": {
      "application/vnd.jupyter.widget-view+json": {
       "model_id": "31e4c82604914a77bdff49710fc807c3",
       "version_major": 2,
       "version_minor": 0
      },
      "text/plain": [
       "Resolving data files:   0%|          | 0/65 [00:00<?, ?it/s]"
      ]
     },
     "metadata": {},
     "output_type": "display_data"
    },
    {
     "data": {
      "application/vnd.jupyter.widget-view+json": {
       "model_id": "acaebb47a7544687a8ca90004c0a96a8",
       "version_major": 2,
       "version_minor": 0
      },
      "text/plain": [
       "Resolving data files:   0%|          | 0/65 [00:00<?, ?it/s]"
      ]
     },
     "metadata": {},
     "output_type": "display_data"
    },
    {
     "data": {
      "text/plain": [
       "DatasetDict({\n",
       "    train: Dataset({\n",
       "        features: ['Event', 'Site', 'White', 'Black', 'Result', 'WhiteTitle', 'BlackTitle', 'WhiteFideId', 'BlackFideId', 'WhiteElo', 'BlackElo', 'UTCDate', 'UTCTime', 'ECO', 'Opening', 'Termination', 'TimeControl', 'Board', 'Variant', 'StudyName', 'ChapterName', 'BroadcastName', 'BroadcastURL', 'GameURL', 'movetext'],\n",
       "        num_rows: 733234\n",
       "    })\n",
       "})"
      ]
     },
     "execution_count": 1,
     "metadata": {},
     "output_type": "execute_result"
    }
   ],
   "source": [
    "from datasets import load_dataset\n",
    "\n",
    "# Login using e.g. `huggingface-cli login` to access this dataset\n",
    "ds = load_dataset(\"Lichess/tournament-chess-games\")\n",
    "ds"
   ]
  },
  {
   "cell_type": "code",
   "execution_count": 2,
   "id": "4a6f5b1d",
   "metadata": {},
   "outputs": [],
   "source": [
    "columns = list(ds['train'].features.keys())\n",
    "columns.remove('WhiteElo')\n",
    "columns.remove('BlackElo')\n",
    "columns.remove('movetext')\n",
    "columns.remove('Variant')"
   ]
  },
  {
   "cell_type": "code",
   "execution_count": 3,
   "id": "6da12c46",
   "metadata": {},
   "outputs": [
    {
     "data": {
      "text/plain": [
       "DatasetDict({\n",
       "    train: Dataset({\n",
       "        features: ['WhiteElo', 'BlackElo', 'Variant', 'movetext'],\n",
       "        num_rows: 733234\n",
       "    })\n",
       "})"
      ]
     },
     "execution_count": 3,
     "metadata": {},
     "output_type": "execute_result"
    }
   ],
   "source": [
    "ds['train'] = ds['train'].remove_columns(columns)\n",
    "ds"
   ]
  },
  {
   "cell_type": "markdown",
   "id": "5ef6d794",
   "metadata": {},
   "source": [
    "# Processing the Dataset"
   ]
  },
  {
   "cell_type": "markdown",
   "id": "e49cbdfd",
   "metadata": {},
   "source": [
    "### Selecting a Subset"
   ]
  },
  {
   "cell_type": "code",
   "execution_count": 4,
   "id": "c6eecf08",
   "metadata": {},
   "outputs": [
    {
     "data": {
      "text/html": [
       "<div>\n",
       "<style scoped>\n",
       "    .dataframe tbody tr th:only-of-type {\n",
       "        vertical-align: middle;\n",
       "    }\n",
       "\n",
       "    .dataframe tbody tr th {\n",
       "        vertical-align: top;\n",
       "    }\n",
       "\n",
       "    .dataframe thead th {\n",
       "        text-align: right;\n",
       "    }\n",
       "</style>\n",
       "<table border=\"1\" class=\"dataframe\">\n",
       "  <thead>\n",
       "    <tr style=\"text-align: right;\">\n",
       "      <th></th>\n",
       "      <th>WhiteElo</th>\n",
       "      <th>BlackElo</th>\n",
       "      <th>Variant</th>\n",
       "      <th>movetext</th>\n",
       "    </tr>\n",
       "  </thead>\n",
       "  <tbody>\n",
       "    <tr>\n",
       "      <th>0</th>\n",
       "      <td>2578.0</td>\n",
       "      <td>2584.0</td>\n",
       "      <td>Standard</td>\n",
       "      <td>1. d4 { [%eval 0.25] [%clk 1:30:43] } 1... Nf6...</td>\n",
       "    </tr>\n",
       "    <tr>\n",
       "      <th>1</th>\n",
       "      <td>2584.0</td>\n",
       "      <td>2578.0</td>\n",
       "      <td>Standard</td>\n",
       "      <td>1. e4 { [%eval 0.24] [%clk 1:30:54] } 1... e5 ...</td>\n",
       "    </tr>\n",
       "    <tr>\n",
       "      <th>2</th>\n",
       "      <td>2578.0</td>\n",
       "      <td>2584.0</td>\n",
       "      <td>Standard</td>\n",
       "      <td>1. d4 { [%eval 0.25] [%clk 1:30:40] } 1... Nf6...</td>\n",
       "    </tr>\n",
       "    <tr>\n",
       "      <th>3</th>\n",
       "      <td>2584.0</td>\n",
       "      <td>2578.0</td>\n",
       "      <td>Standard</td>\n",
       "      <td>1. d4 { [%eval 0.25] [%clk 1:30:56] } 1... d5 ...</td>\n",
       "    </tr>\n",
       "    <tr>\n",
       "      <th>4</th>\n",
       "      <td>2578.0</td>\n",
       "      <td>2584.0</td>\n",
       "      <td>Standard</td>\n",
       "      <td>1. c4 { [%eval 0.16] [%clk 1:30:49] } 1... Nf6...</td>\n",
       "    </tr>\n",
       "    <tr>\n",
       "      <th>...</th>\n",
       "      <td>...</td>\n",
       "      <td>...</td>\n",
       "      <td>...</td>\n",
       "      <td>...</td>\n",
       "    </tr>\n",
       "    <tr>\n",
       "      <th>733229</th>\n",
       "      <td>1979.0</td>\n",
       "      <td>1874.0</td>\n",
       "      <td>Standard</td>\n",
       "      <td>1. d4 { [%eval 0.17] [%clk 1:30:59] } 1... Nf6...</td>\n",
       "    </tr>\n",
       "    <tr>\n",
       "      <th>733230</th>\n",
       "      <td>1951.0</td>\n",
       "      <td>1810.0</td>\n",
       "      <td>Standard</td>\n",
       "      <td>1. e4 { [%eval 0.18] [%clk 1:30:57] } 1... c5 ...</td>\n",
       "    </tr>\n",
       "    <tr>\n",
       "      <th>733231</th>\n",
       "      <td>1825.0</td>\n",
       "      <td>1948.0</td>\n",
       "      <td>Standard</td>\n",
       "      <td>1. e4 { [%eval 0.18] [%clk 1:30:25] } 1... c6 ...</td>\n",
       "    </tr>\n",
       "    <tr>\n",
       "      <th>733232</th>\n",
       "      <td>1758.0</td>\n",
       "      <td>1940.0</td>\n",
       "      <td>Standard</td>\n",
       "      <td>1. d4 { [%eval 0.17] [%clk 1:30:57] } 1... d5 ...</td>\n",
       "    </tr>\n",
       "    <tr>\n",
       "      <th>733233</th>\n",
       "      <td>2047.0</td>\n",
       "      <td>1817.0</td>\n",
       "      <td>Standard</td>\n",
       "      <td>1. c4 { [%eval 0.12] [%clk 1:30:56] } 1... e6 ...</td>\n",
       "    </tr>\n",
       "  </tbody>\n",
       "</table>\n",
       "<p>545557 rows × 4 columns</p>\n",
       "</div>"
      ],
      "text/plain": [
       "        WhiteElo  BlackElo   Variant  \\\n",
       "0         2578.0    2584.0  Standard   \n",
       "1         2584.0    2578.0  Standard   \n",
       "2         2578.0    2584.0  Standard   \n",
       "3         2584.0    2578.0  Standard   \n",
       "4         2578.0    2584.0  Standard   \n",
       "...          ...       ...       ...   \n",
       "733229    1979.0    1874.0  Standard   \n",
       "733230    1951.0    1810.0  Standard   \n",
       "733231    1825.0    1948.0  Standard   \n",
       "733232    1758.0    1940.0  Standard   \n",
       "733233    2047.0    1817.0  Standard   \n",
       "\n",
       "                                                 movetext  \n",
       "0       1. d4 { [%eval 0.25] [%clk 1:30:43] } 1... Nf6...  \n",
       "1       1. e4 { [%eval 0.24] [%clk 1:30:54] } 1... e5 ...  \n",
       "2       1. d4 { [%eval 0.25] [%clk 1:30:40] } 1... Nf6...  \n",
       "3       1. d4 { [%eval 0.25] [%clk 1:30:56] } 1... d5 ...  \n",
       "4       1. c4 { [%eval 0.16] [%clk 1:30:49] } 1... Nf6...  \n",
       "...                                                   ...  \n",
       "733229  1. d4 { [%eval 0.17] [%clk 1:30:59] } 1... Nf6...  \n",
       "733230  1. e4 { [%eval 0.18] [%clk 1:30:57] } 1... c5 ...  \n",
       "733231  1. e4 { [%eval 0.18] [%clk 1:30:25] } 1... c6 ...  \n",
       "733232  1. d4 { [%eval 0.17] [%clk 1:30:57] } 1... d5 ...  \n",
       "733233  1. c4 { [%eval 0.12] [%clk 1:30:56] } 1... e6 ...  \n",
       "\n",
       "[545557 rows x 4 columns]"
      ]
     },
     "execution_count": 4,
     "metadata": {},
     "output_type": "execute_result"
    }
   ],
   "source": [
    "import pandas as pd\n",
    "\n",
    "df = pd.DataFrame(ds['train'][:])\n",
    "df.dropna(how='any', inplace=True)\n",
    "df"
   ]
  },
  {
   "cell_type": "code",
   "execution_count": 5,
   "id": "df153d8a",
   "metadata": {},
   "outputs": [
    {
     "data": {
      "text/html": [
       "<div>\n",
       "<style scoped>\n",
       "    .dataframe tbody tr th:only-of-type {\n",
       "        vertical-align: middle;\n",
       "    }\n",
       "\n",
       "    .dataframe tbody tr th {\n",
       "        vertical-align: top;\n",
       "    }\n",
       "\n",
       "    .dataframe thead th {\n",
       "        text-align: right;\n",
       "    }\n",
       "</style>\n",
       "<table border=\"1\" class=\"dataframe\">\n",
       "  <thead>\n",
       "    <tr style=\"text-align: right;\">\n",
       "      <th></th>\n",
       "      <th>WhiteElo</th>\n",
       "      <th>BlackElo</th>\n",
       "    </tr>\n",
       "  </thead>\n",
       "  <tbody>\n",
       "    <tr>\n",
       "      <th>count</th>\n",
       "      <td>5.455570e+05</td>\n",
       "      <td>5.455570e+05</td>\n",
       "    </tr>\n",
       "    <tr>\n",
       "      <th>mean</th>\n",
       "      <td>2.076021e+03</td>\n",
       "      <td>2.080754e+03</td>\n",
       "    </tr>\n",
       "    <tr>\n",
       "      <th>std</th>\n",
       "      <td>7.221848e+03</td>\n",
       "      <td>1.018806e+04</td>\n",
       "    </tr>\n",
       "    <tr>\n",
       "      <th>min</th>\n",
       "      <td>0.000000e+00</td>\n",
       "      <td>0.000000e+00</td>\n",
       "    </tr>\n",
       "    <tr>\n",
       "      <th>25%</th>\n",
       "      <td>1.831000e+03</td>\n",
       "      <td>1.828000e+03</td>\n",
       "    </tr>\n",
       "    <tr>\n",
       "      <th>50%</th>\n",
       "      <td>2.120000e+03</td>\n",
       "      <td>2.116000e+03</td>\n",
       "    </tr>\n",
       "    <tr>\n",
       "      <th>75%</th>\n",
       "      <td>2.384000e+03</td>\n",
       "      <td>2.382000e+03</td>\n",
       "    </tr>\n",
       "    <tr>\n",
       "      <th>max</th>\n",
       "      <td>5.324491e+06</td>\n",
       "      <td>5.327130e+06</td>\n",
       "    </tr>\n",
       "  </tbody>\n",
       "</table>\n",
       "</div>"
      ],
      "text/plain": [
       "           WhiteElo      BlackElo\n",
       "count  5.455570e+05  5.455570e+05\n",
       "mean   2.076021e+03  2.080754e+03\n",
       "std    7.221848e+03  1.018806e+04\n",
       "min    0.000000e+00  0.000000e+00\n",
       "25%    1.831000e+03  1.828000e+03\n",
       "50%    2.120000e+03  2.116000e+03\n",
       "75%    2.384000e+03  2.382000e+03\n",
       "max    5.324491e+06  5.327130e+06"
      ]
     },
     "execution_count": 5,
     "metadata": {},
     "output_type": "execute_result"
    }
   ],
   "source": [
    "df.describe()"
   ]
  },
  {
   "cell_type": "code",
   "execution_count": 6,
   "id": "259d12c3",
   "metadata": {},
   "outputs": [
    {
     "name": "stdout",
     "output_type": "stream",
     "text": [
      "Percentage of gamse with (WhiteElolen >= 2000): 14.15%\n"
     ]
    }
   ],
   "source": [
    "idx = df['WhiteElo'] >= 2500\n",
    "print(f'Percentage of gamse with (WhiteElolen >= 2000): {(len(df[idx]) / len(df)):.2%}')"
   ]
  },
  {
   "cell_type": "code",
   "execution_count": 7,
   "id": "e7f2255b",
   "metadata": {},
   "outputs": [
    {
     "name": "stdout",
     "output_type": "stream",
     "text": [
      "Percentage of remaining dataset: 8.19%\n"
     ]
    }
   ],
   "source": [
    "df = df[df['Variant'] == 'Standard']\n",
    "og_len = len(df)\n",
    "df = df[df['WhiteElo'] >= 2500] \n",
    "df = df[df['BlackElo'] >= 2500]\n",
    "print(f'Percentage of remaining dataset: {len(df) / og_len:.2%}')"
   ]
  },
  {
   "cell_type": "code",
   "execution_count": 8,
   "id": "b72d9206",
   "metadata": {},
   "outputs": [],
   "source": [
    "df = df.drop(columns=['Variant', 'WhiteElo', 'BlackElo'])"
   ]
  },
  {
   "cell_type": "code",
   "execution_count": 9,
   "id": "6d719b12",
   "metadata": {},
   "outputs": [
    {
     "data": {
      "text/plain": [
       "movetext    1. d4 { [%eval 0.25] [%clk 1:30:43] } 1... Nf6...\n",
       "Name: 0, dtype: object"
      ]
     },
     "execution_count": 9,
     "metadata": {},
     "output_type": "execute_result"
    }
   ],
   "source": [
    "df.loc[0]"
   ]
  },
  {
   "cell_type": "markdown",
   "id": "a2d3a781",
   "metadata": {},
   "source": [
    "### Transform movetext to Standard PGN"
   ]
  },
  {
   "cell_type": "code",
   "execution_count": 10,
   "id": "2d379571",
   "metadata": {},
   "outputs": [],
   "source": [
    "import re\n",
    "\n",
    "def clean_movetext(row):\n",
    "    text = row['movetext']\n",
    "    cleaned = re.sub(r\"\\{.*?\\}\", \"\", text) \n",
    "    cleaned = re.sub(r\"[\\?!]+\", \"\", cleaned)\n",
    "    cleaned = re.sub(r\"\\d+\\.\\.\\.\", \"\", cleaned)\n",
    "    cleaned = re.sub(r\"\\s+\", \" \", cleaned).strip()\n",
    "    \n",
    "    return cleaned\n"
   ]
  },
  {
   "cell_type": "code",
   "execution_count": 11,
   "id": "57162008",
   "metadata": {},
   "outputs": [
    {
     "data": {
      "text/html": [
       "<div>\n",
       "<style scoped>\n",
       "    .dataframe tbody tr th:only-of-type {\n",
       "        vertical-align: middle;\n",
       "    }\n",
       "\n",
       "    .dataframe tbody tr th {\n",
       "        vertical-align: top;\n",
       "    }\n",
       "\n",
       "    .dataframe thead th {\n",
       "        text-align: right;\n",
       "    }\n",
       "</style>\n",
       "<table border=\"1\" class=\"dataframe\">\n",
       "  <thead>\n",
       "    <tr style=\"text-align: right;\">\n",
       "      <th></th>\n",
       "      <th>movetext</th>\n",
       "    </tr>\n",
       "  </thead>\n",
       "  <tbody>\n",
       "    <tr>\n",
       "      <th>0</th>\n",
       "      <td>1. d4 Nf6 2. c4 e6 3. Nf3 d5 4. Nc3 Be7 5. g3 ...</td>\n",
       "    </tr>\n",
       "    <tr>\n",
       "      <th>1</th>\n",
       "      <td>1. e4 e5 2. Nf3 Nc6 3. Bb5 Nf6 4. O-O Nxe4 5. ...</td>\n",
       "    </tr>\n",
       "    <tr>\n",
       "      <th>2</th>\n",
       "      <td>1. d4 Nf6 2. c4 e6 3. Nf3 d5 4. Nc3 c5 5. cxd5...</td>\n",
       "    </tr>\n",
       "    <tr>\n",
       "      <th>3</th>\n",
       "      <td>1. d4 d5 2. c4 c6 3. Nf3 Nf6 4. Nc3 dxc4 5. a4...</td>\n",
       "    </tr>\n",
       "    <tr>\n",
       "      <th>4</th>\n",
       "      <td>1. c4 Nf6 2. Nc3 e6 3. e4 d5 4. cxd5 exd5 5. e...</td>\n",
       "    </tr>\n",
       "    <tr>\n",
       "      <th>...</th>\n",
       "      <td>...</td>\n",
       "    </tr>\n",
       "    <tr>\n",
       "      <th>733182</th>\n",
       "      <td>1. d4 d6 2. Nf3 Nf6 3. g3 g6 4. Bg2 Bg7 5. c4 ...</td>\n",
       "    </tr>\n",
       "    <tr>\n",
       "      <th>733183</th>\n",
       "      <td>1. e4 c5 2. Nf3 e6 3. d3 Nc6 4. g3 Nf6 5. Bg2 ...</td>\n",
       "    </tr>\n",
       "    <tr>\n",
       "      <th>733196</th>\n",
       "      <td>1. Nf3 d5 2. c4 e6 3. d4 Nf6 4. Nc3 a6 5. cxd5...</td>\n",
       "    </tr>\n",
       "    <tr>\n",
       "      <th>733197</th>\n",
       "      <td>1. e4 c6 2. d4 d5 3. exd5 cxd5 4. Bd3 Nc6 5. c...</td>\n",
       "    </tr>\n",
       "    <tr>\n",
       "      <th>733198</th>\n",
       "      <td>1. e4 e5 2. Nf3 Nc6 3. Bc4 Nf6 4. d3 Bc5 5. c3...</td>\n",
       "    </tr>\n",
       "  </tbody>\n",
       "</table>\n",
       "<p>44453 rows × 1 columns</p>\n",
       "</div>"
      ],
      "text/plain": [
       "                                                 movetext\n",
       "0       1. d4 Nf6 2. c4 e6 3. Nf3 d5 4. Nc3 Be7 5. g3 ...\n",
       "1       1. e4 e5 2. Nf3 Nc6 3. Bb5 Nf6 4. O-O Nxe4 5. ...\n",
       "2       1. d4 Nf6 2. c4 e6 3. Nf3 d5 4. Nc3 c5 5. cxd5...\n",
       "3       1. d4 d5 2. c4 c6 3. Nf3 Nf6 4. Nc3 dxc4 5. a4...\n",
       "4       1. c4 Nf6 2. Nc3 e6 3. e4 d5 4. cxd5 exd5 5. e...\n",
       "...                                                   ...\n",
       "733182  1. d4 d6 2. Nf3 Nf6 3. g3 g6 4. Bg2 Bg7 5. c4 ...\n",
       "733183  1. e4 c5 2. Nf3 e6 3. d3 Nc6 4. g3 Nf6 5. Bg2 ...\n",
       "733196  1. Nf3 d5 2. c4 e6 3. d4 Nf6 4. Nc3 a6 5. cxd5...\n",
       "733197  1. e4 c6 2. d4 d5 3. exd5 cxd5 4. Bd3 Nc6 5. c...\n",
       "733198  1. e4 e5 2. Nf3 Nc6 3. Bc4 Nf6 4. d3 Bc5 5. c3...\n",
       "\n",
       "[44453 rows x 1 columns]"
      ]
     },
     "execution_count": 11,
     "metadata": {},
     "output_type": "execute_result"
    }
   ],
   "source": [
    "df['movetext'] = df.apply(clean_movetext, axis=1)\n",
    "df"
   ]
  },
  {
   "cell_type": "markdown",
   "id": "2799100a",
   "metadata": {},
   "source": [
    "### Game Lenghth Distribution"
   ]
  },
  {
   "cell_type": "code",
   "execution_count": 12,
   "id": "c60f7bc0",
   "metadata": {},
   "outputs": [
    {
     "data": {
      "image/png": "[encoded data removed]",
      "text/plain": [
       "<Figure size 1000x600 with 1 Axes>"
      ]
     },
     "metadata": {},
     "output_type": "display_data"
    }
   ],
   "source": [
    "import matplotlib.pyplot as plt\n",
    "\n",
    "df['length'] = df['movetext'].apply(lambda x: len(x.split('.')))\n",
    "\n",
    "plt.figure(figsize=(10, 6))\n",
    "plt.hist(df['length'], bins=50, color='blue', edgecolor='black')\n",
    "plt.title('Distribution of Move Text Lengths')\n",
    "plt.xlabel('Number of Moves')\n",
    "plt.ylabel('Frequency')\n",
    "plt.grid(axis='y')\n",
    "plt.show()"
   ]
  },
  {
   "cell_type": "code",
   "execution_count": 13,
   "id": "4e4a9779",
   "metadata": {},
   "outputs": [],
   "source": [
    "df.drop(columns=['length'], inplace=True)"
   ]
  },
  {
   "cell_type": "markdown",
   "id": "5e4e6696",
   "metadata": {},
   "source": [
    "### Splitting the Dataset"
   ]
  },
  {
   "cell_type": "code",
   "execution_count": 14,
   "id": "946acf63",
   "metadata": {},
   "outputs": [
    {
     "data": {
      "text/html": [
       "<div>\n",
       "<style scoped>\n",
       "    .dataframe tbody tr th:only-of-type {\n",
       "        vertical-align: middle;\n",
       "    }\n",
       "\n",
       "    .dataframe tbody tr th {\n",
       "        vertical-align: top;\n",
       "    }\n",
       "\n",
       "    .dataframe thead th {\n",
       "        text-align: right;\n",
       "    }\n",
       "</style>\n",
       "<table border=\"1\" class=\"dataframe\">\n",
       "  <thead>\n",
       "    <tr style=\"text-align: right;\">\n",
       "      <th></th>\n",
       "      <th>movetext</th>\n",
       "    </tr>\n",
       "  </thead>\n",
       "  <tbody>\n",
       "    <tr>\n",
       "      <th>311844</th>\n",
       "      <td>1. e4 c5 2. Nf3 Nc6 3. Bb5 e6 4. O-O Nge7 5. R...</td>\n",
       "    </tr>\n",
       "    <tr>\n",
       "      <th>116088</th>\n",
       "      <td>1. d4 Nf6 2. Bg5 d5 3. e3 c5 4. c3 cxd4 5. exd...</td>\n",
       "    </tr>\n",
       "    <tr>\n",
       "      <th>370202</th>\n",
       "      <td>1. e4 c5 2. Nf3 d6 3. d4 cxd4 4. Nxd4 Nf6 5. N...</td>\n",
       "    </tr>\n",
       "    <tr>\n",
       "      <th>492202</th>\n",
       "      <td>1. c4 c6 2. Nf3 d5 3. d4 Nf6 4. Nc3 e6 5. g3 d...</td>\n",
       "    </tr>\n",
       "    <tr>\n",
       "      <th>579558</th>\n",
       "      <td>1. d4 d5 2. c4 e6 3. Nc3 Nf6 4. Bg5 c5 5. cxd5...</td>\n",
       "    </tr>\n",
       "    <tr>\n",
       "      <th>...</th>\n",
       "      <td>...</td>\n",
       "    </tr>\n",
       "    <tr>\n",
       "      <th>62870</th>\n",
       "      <td>1. d4 d5 2. c4 e6 3. Nc3 c5 4. cxd5 cxd4 5. Qa...</td>\n",
       "    </tr>\n",
       "    <tr>\n",
       "      <th>105754</th>\n",
       "      <td>1. e4 c6 2. d4 d5 3. e5 Bf5 4. Nf3 e6 5. Be2 c...</td>\n",
       "    </tr>\n",
       "    <tr>\n",
       "      <th>585993</th>\n",
       "      <td>1. e4 e5 2. Nf3 Nc6 3. Bc4 Bc5 4. c3 Nf6 5. d3...</td>\n",
       "    </tr>\n",
       "    <tr>\n",
       "      <th>2626</th>\n",
       "      <td>1. e4 c5 2. Nf3 d6 3. d4 cxd4 4. Nxd4 Nf6 5. N...</td>\n",
       "    </tr>\n",
       "    <tr>\n",
       "      <th>143487</th>\n",
       "      <td>1. c4 e5 2. d3 Nf6 3. Nf3 Nc6 4. a3 g6 5. Nc3 ...</td>\n",
       "    </tr>\n",
       "  </tbody>\n",
       "</table>\n",
       "<p>33339 rows × 1 columns</p>\n",
       "</div>"
      ],
      "text/plain": [
       "                                                 movetext\n",
       "311844  1. e4 c5 2. Nf3 Nc6 3. Bb5 e6 4. O-O Nge7 5. R...\n",
       "116088  1. d4 Nf6 2. Bg5 d5 3. e3 c5 4. c3 cxd4 5. exd...\n",
       "370202  1. e4 c5 2. Nf3 d6 3. d4 cxd4 4. Nxd4 Nf6 5. N...\n",
       "492202  1. c4 c6 2. Nf3 d5 3. d4 Nf6 4. Nc3 e6 5. g3 d...\n",
       "579558  1. d4 d5 2. c4 e6 3. Nc3 Nf6 4. Bg5 c5 5. cxd5...\n",
       "...                                                   ...\n",
       "62870   1. d4 d5 2. c4 e6 3. Nc3 c5 4. cxd5 cxd4 5. Qa...\n",
       "105754  1. e4 c6 2. d4 d5 3. e5 Bf5 4. Nf3 e6 5. Be2 c...\n",
       "585993  1. e4 e5 2. Nf3 Nc6 3. Bc4 Bc5 4. c3 Nf6 5. d3...\n",
       "2626    1. e4 c5 2. Nf3 d6 3. d4 cxd4 4. Nxd4 Nf6 5. N...\n",
       "143487  1. c4 e5 2. d3 Nf6 3. Nf3 Nc6 4. a3 g6 5. Nc3 ...\n",
       "\n",
       "[33339 rows x 1 columns]"
      ]
     },
     "execution_count": 14,
     "metadata": {},
     "output_type": "execute_result"
    }
   ],
   "source": [
    "from sklearn.model_selection import train_test_split\n",
    "\n",
    "train_df, valid_df = train_test_split(df, test_size=0.25, random_state=42)\n",
    "train_df"
   ]
  },
  {
   "cell_type": "markdown",
   "id": "80729f41",
   "metadata": {},
   "source": [
    "### Transforming the Dataset back"
   ]
  },
  {
   "cell_type": "code",
   "execution_count": 15,
   "id": "40601c14",
   "metadata": {},
   "outputs": [],
   "source": [
    "from datasets import Dataset, DatasetDict\n",
    "\n",
    "train_ds = Dataset.from_pandas(train_df)\n",
    "valid_ds = Dataset.from_pandas(valid_df)\n",
    "ds = DatasetDict({\n",
    "    'train': train_ds,\n",
    "    'valid': valid_ds\n",
    "})"
   ]
  },
  {
   "cell_type": "markdown",
   "id": "3782271b",
   "metadata": {},
   "source": [
    "### Extracting Individual Turns from each Game"
   ]
  },
  {
   "cell_type": "code",
   "execution_count": null,
   "id": "fca6fe0b",
   "metadata": {},
   "outputs": [],
   "source": [
    "import chess\n",
    "import chess.pgn\n",
    "\n",
    "def extract_turns(row):\n",
    "    positions = []\n",
    "    moves = []\n",
    "\n",
    "    text = row['movetext'][0]\n",
    "    with open('tmp.pgn', 'w') as f:\n",
    "        f.write(text)\n",
    "\n",
    "   \n",
    "    pgn = open(\"tmp.pgn\")\n",
    "    game = chess.pgn.read_game(pgn)\n",
    "    if game.errors:\n",
    "        return {\"positions\": [], \"moves\": []}\n",
    "    else:\n",
    "        pass\n",
    "    \n",
    "    board = game.board()\n",
    "\n",
    "    for move in game.mainline_moves():\n",
    "        if board.turn:\n",
    "            pos = 'WHITE'\n",
    "            if chess.Move.from_uci(\"e1g1\") in board.legal_moves:\n",
    "                pos = pos + ' ' + 'KINGSIDE_CASTLE'\n",
    "            else:\n",
    "                pos = pos + ' ' + 'NO_KINGSIDE_CASTLE'\n",
    "            if chess.Move.from_uci(\"e1c1\") in board.legal_moves:\n",
    "                pos = pos + ' ' + 'QUEENSIDE_CASTLE'\n",
    "            else:\n",
    "                pos = pos + ' ' + 'NO_QUEENSIDE_CASTLE'\n",
    "\n",
    "        else:\n",
    "            pos = 'BLACK'\n",
    "\n",
    "            if chess.Move.from_uci(\"e8g8\") in board.legal_moves:\n",
    "                pos = pos + ' ' + 'KINGSIDE_CASTLE'\n",
    "            else:\n",
    "                pos = pos + ' ' + 'NO_KINGSIDE_CASTLE'\n",
    "            if chess.Move.from_uci(\"e8c8\") in board.legal_moves:\n",
    "                pos = pos + ' ' + 'QUEENSIDE_CASTLE'\n",
    "            else:\n",
    "                pos = pos + ' ' + 'NO_QUEENSIDE_CASTLE'\n",
    "        \n",
    "        for square in chess.SQUARES:\n",
    "            piece = board.piece_at(square)\n",
    "            if piece is not None:\n",
    "                pos = pos + ' ' + chess.square_name(square) + '_' + piece.symbol()\n",
    "            else:\n",
    "                pos = pos + ' ' + chess.square_name(square) + '_' + 'EMPTY'\n",
    "\n",
    "        board.push(move)\n",
    "        positions.append(pos)\n",
    "        moves.append(move.uci())\n",
    "\n",
    "\n",
    "    return {'positions': positions, 'moves': moves}\n",
    "\n",
    "ds = ds.map(extract_turns, batched=True, batch_size=1, remove_columns=['movetext', '__index_level_0__'])\n",
    "    "
   ]
  },
  {
   "cell_type": "code",
   "execution_count": 25,
   "id": "61c9cce4",
   "metadata": {},
   "outputs": [
    {
     "data": {
      "text/plain": [
       "DatasetDict({\n",
       "    train: Dataset({\n",
       "        features: ['positions', 'moves'],\n",
       "        num_rows: 3063989\n",
       "    })\n",
       "    valid: Dataset({\n",
       "        features: ['positions', 'moves'],\n",
       "        num_rows: 1019420\n",
       "    })\n",
       "})"
      ]
     },
     "execution_count": 25,
     "metadata": {},
     "output_type": "execute_result"
    }
   ],
   "source": [
    "ds"
   ]
  },
  {
   "cell_type": "markdown",
   "id": "fe700d26",
   "metadata": {},
   "source": [
    "### Pushing to HuggingFace"
   ]
  },
  {
   "cell_type": "code",
   "execution_count": 27,
   "id": "d0112650",
   "metadata": {},
   "outputs": [
    {
     "data": {
      "application/vnd.jupyter.widget-view+json": {
       "model_id": "d1a4feeb6fda43d4a429b36a7dfa611f",
       "version_major": 2,
       "version_minor": 0
      },
      "text/plain": [
       "VBox(children=(HTML(value='<center> <img\\nsrc=https://huggingface.co/front/assets/huggingface_logo-noborder.sv…"
      ]
     },
     "metadata": {},
     "output_type": "display_data"
    }
   ],
   "source": [
    "from huggingface_hub import login\n",
    "\n",
    "login()"
   ]
  },
  {
   "cell_type": "code",
   "execution_count": 28,
   "id": "0f56ed15",
   "metadata": {},
   "outputs": [
    {
     "data": {
      "application/vnd.jupyter.widget-view+json": {
       "model_id": "fddf869203b1435f811a74d66979cdf4",
       "version_major": 2,
       "version_minor": 0
      },
      "text/plain": [
       "Uploading the dataset shards:   0%|          | 0/4 [00:00<?, ? shards/s]"
      ]
     },
     "metadata": {},
     "output_type": "display_data"
    },
    {
     "data": {
      "application/vnd.jupyter.widget-view+json": {
       "model_id": "24ec9b17404545818f646253af93b9c0",
       "version_major": 2,
       "version_minor": 0
      },
      "text/plain": [
       "Creating parquet from Arrow format:   0%|          | 0/766 [00:00<?, ?ba/s]"
      ]
     },
     "metadata": {},
     "output_type": "display_data"
    },
    {
     "data": {
      "application/vnd.jupyter.widget-view+json": {
       "model_id": "025310b3db1c44c2b78274618305a775",
       "version_major": 2,
       "version_minor": 0
      },
      "text/plain": [
       "Processing Files (0 / 0)                : |          |  0.00B /  0.00B            "
      ]
     },
     "metadata": {},
     "output_type": "display_data"
    },
    {
     "data": {
      "application/vnd.jupyter.widget-view+json": {
       "model_id": "820658fec3584dbe84bc181e9a1a34f4",
       "version_major": 2,
       "version_minor": 0
      },
      "text/plain": [
       "New Data Upload                         : |          |  0.00B /  0.00B            "
      ]
     },
     "metadata": {},
     "output_type": "display_data"
    },
    {
     "data": {
      "application/vnd.jupyter.widget-view+json": {
       "model_id": "66a895eeabb34a10b52df0dbd97c8115",
       "version_major": 2,
       "version_minor": 0
      },
      "text/plain": [
       "                                        :   2%|1         |  622kB / 39.6MB            "
      ]
     },
     "metadata": {},
     "output_type": "display_data"
    },
    {
     "data": {
      "application/vnd.jupyter.widget-view+json": {
       "model_id": "222ab0787f0d441db2c17864a44e4969",
       "version_major": 2,
       "version_minor": 0
      },
      "text/plain": [
       "Creating parquet from Arrow format:   0%|          | 0/766 [00:00<?, ?ba/s]"
      ]
     },
     "metadata": {},
     "output_type": "display_data"
    },
    {
     "data": {
      "application/vnd.jupyter.widget-view+json": {
       "model_id": "12fc144499bc4b99a61ccfd82ac9d646",
       "version_major": 2,
       "version_minor": 0
      },
      "text/plain": [
       "Processing Files (0 / 0)                : |          |  0.00B /  0.00B            "
      ]
     },
     "metadata": {},
     "output_type": "display_data"
    },
    {
     "data": {
      "application/vnd.jupyter.widget-view+json": {
       "model_id": "bb3de17b68244d8c972abec649dbd8ea",
       "version_major": 2,
       "version_minor": 0
      },
      "text/plain": [
       "New Data Upload                         : |          |  0.00B /  0.00B            "
      ]
     },
     "metadata": {},
     "output_type": "display_data"
    },
    {
     "data": {
      "application/vnd.jupyter.widget-view+json": {
       "model_id": "b1f7a5d2a7e44d38a5876b26aa98d544",
       "version_major": 2,
       "version_minor": 0
      },
      "text/plain": [
       "                                        :   2%|1         |  623kB / 39.6MB            "
      ]
     },
     "metadata": {},
     "output_type": "display_data"
    },
    {
     "data": {
      "application/vnd.jupyter.widget-view+json": {
       "model_id": "1feff3fef3ad42ef94df1962ff62cfcf",
       "version_major": 2,
       "version_minor": 0
      },
      "text/plain": [
       "Creating parquet from Arrow format:   0%|          | 0/766 [00:00<?, ?ba/s]"
      ]
     },
     "metadata": {},
     "output_type": "display_data"
    },
    {
     "data": {
      "application/vnd.jupyter.widget-view+json": {
       "model_id": "1268ab9e1a284f519a560331ba912db3",
       "version_major": 2,
       "version_minor": 0
      },
      "text/plain": [
       "Processing Files (0 / 0)                : |          |  0.00B /  0.00B            "
      ]
     },
     "metadata": {},
     "output_type": "display_data"
    },
    {
     "data": {
      "application/vnd.jupyter.widget-view+json": {
       "model_id": "68de27bc51a34946a98c3749368ce5be",
       "version_major": 2,
       "version_minor": 0
      },
      "text/plain": [
       "New Data Upload                         : |          |  0.00B /  0.00B            "
      ]
     },
     "metadata": {},
     "output_type": "display_data"
    },
    {
     "data": {
      "application/vnd.jupyter.widget-view+json": {
       "model_id": "6cecc667567f4eeaa675c2cafc62f036",
       "version_major": 2,
       "version_minor": 0
      },
      "text/plain": [
       "                                        :   2%|1         |  623kB / 39.7MB            "
      ]
     },
     "metadata": {},
     "output_type": "display_data"
    },
    {
     "data": {
      "application/vnd.jupyter.widget-view+json": {
       "model_id": "641e7133f95b4c6f810401edb16aa98f",
       "version_major": 2,
       "version_minor": 0
      },
      "text/plain": [
       "Creating parquet from Arrow format:   0%|          | 0/766 [00:00<?, ?ba/s]"
      ]
     },
     "metadata": {},
     "output_type": "display_data"
    },
    {
     "data": {
      "application/vnd.jupyter.widget-view+json": {
       "model_id": "f9f738f265fb4da393d9b134be8a0877",
       "version_major": 2,
       "version_minor": 0
      },
      "text/plain": [
       "Processing Files (0 / 0)                : |          |  0.00B /  0.00B            "
      ]
     },
     "metadata": {},
     "output_type": "display_data"
    },
    {
     "data": {
      "application/vnd.jupyter.widget-view+json": {
       "model_id": "54efca7cfe6d4f03b8d4e7923679985b",
       "version_major": 2,
       "version_minor": 0
      },
      "text/plain": [
       "New Data Upload                         : |          |  0.00B /  0.00B            "
      ]
     },
     "metadata": {},
     "output_type": "display_data"
    },
    {
     "data": {
      "application/vnd.jupyter.widget-view+json": {
       "model_id": "8d560d7d3eae43db9d70a57d84658b6c",
       "version_major": 2,
       "version_minor": 0
      },
      "text/plain": [
       "                                        :   2%|1         |  621kB / 39.7MB            "
      ]
     },
     "metadata": {},
     "output_type": "display_data"
    },
    {
     "data": {
      "application/vnd.jupyter.widget-view+json": {
       "model_id": "d7c4289bcecf4de5a453003c3a5ce5bf",
       "version_major": 2,
       "version_minor": 0
      },
      "text/plain": [
       "Uploading the dataset shards:   0%|          | 0/2 [00:00<?, ? shards/s]"
      ]
     },
     "metadata": {},
     "output_type": "display_data"
    },
    {
     "data": {
      "application/vnd.jupyter.widget-view+json": {
       "model_id": "5d56ccedddf74feea3eae0bb1aeceb9a",
       "version_major": 2,
       "version_minor": 0
      },
      "text/plain": [
       "Creating parquet from Arrow format:   0%|          | 0/510 [00:00<?, ?ba/s]"
      ]
     },
     "metadata": {},
     "output_type": "display_data"
    },
    {
     "data": {
      "application/vnd.jupyter.widget-view+json": {
       "model_id": "2bd559f27aba4345bb2cfb5b41319237",
       "version_major": 2,
       "version_minor": 0
      },
      "text/plain": [
       "Processing Files (0 / 0)                : |          |  0.00B /  0.00B            "
      ]
     },
     "metadata": {},
     "output_type": "display_data"
    },
    {
     "data": {
      "application/vnd.jupyter.widget-view+json": {
       "model_id": "7e33dee792b240148e081102df840cec",
       "version_major": 2,
       "version_minor": 0
      },
      "text/plain": [
       "New Data Upload                         : |          |  0.00B /  0.00B            "
      ]
     },
     "metadata": {},
     "output_type": "display_data"
    },
    {
     "data": {
      "application/vnd.jupyter.widget-view+json": {
       "model_id": "d45f645a2a3f4a65b86f9e6a36f09359",
       "version_major": 2,
       "version_minor": 0
      },
      "text/plain": [
       "                                        :   2%|2         |  622kB / 26.4MB            "
      ]
     },
     "metadata": {},
     "output_type": "display_data"
    },
    {
     "data": {
      "application/vnd.jupyter.widget-view+json": {
       "model_id": "683da30525694257b5037ff087d5cd56",
       "version_major": 2,
       "version_minor": 0
      },
      "text/plain": [
       "Creating parquet from Arrow format:   0%|          | 0/510 [00:00<?, ?ba/s]"
      ]
     },
     "metadata": {},
     "output_type": "display_data"
    },
    {
     "data": {
      "application/vnd.jupyter.widget-view+json": {
       "model_id": "426d76b3cf284b49b4eae55abf714fc1",
       "version_major": 2,
       "version_minor": 0
      },
      "text/plain": [
       "Processing Files (0 / 0)                : |          |  0.00B /  0.00B            "
      ]
     },
     "metadata": {},
     "output_type": "display_data"
    },
    {
     "data": {
      "application/vnd.jupyter.widget-view+json": {
       "model_id": "21bf846249ec4348a2a48f01e8b4a0de",
       "version_major": 2,
       "version_minor": 0
      },
      "text/plain": [
       "New Data Upload                         : |          |  0.00B /  0.00B            "
      ]
     },
     "metadata": {},
     "output_type": "display_data"
    },
    {
     "data": {
      "application/vnd.jupyter.widget-view+json": {
       "model_id": "a4cd899b8644466d8fc625ea569fb5e7",
       "version_major": 2,
       "version_minor": 0
      },
      "text/plain": [
       "                                        :   2%|2         |  622kB / 26.4MB            "
      ]
     },
     "metadata": {},
     "output_type": "display_data"
    },
    {
     "data": {
      "text/plain": [
       "CommitInfo(commit_url='https://huggingface.co/datasets/noor-zalouk/tournament-chess-games-modified/commit/20c8af941dc4fe5907c96fa410f69aca19640ca5', commit_message='Upload dataset', commit_description='', oid='20c8af941dc4fe5907c96fa410f69aca19640ca5', pr_url=None, repo_url=RepoUrl('https://huggingface.co/datasets/noor-zalouk/tournament-chess-games-modified', endpoint='https://huggingface.co', repo_type='dataset', repo_id='noor-zalouk/tournament-chess-games-modified'), pr_revision=None, pr_num=None)"
      ]
     },
     "execution_count": 28,
     "metadata": {},
     "output_type": "execute_result"
    }
   ],
   "source": [
    "repo_id = \"noor-zalouk/tournament-chess-games-modified\"\n",
    "ds.push_to_hub(repo_id)"
   ]
  },
  {
   "cell_type": "code",
   "execution_count": null,
   "id": "936d0c4b",
   "metadata": {},
   "outputs": [],
   "source": []
  }
 ],
 "metadata": {
  "kernelspec": {
   "display_name": "base",
   "language": "python",
   "name": "python3"
  },
  "language_info": {
   "codemirror_mode": {
    "name": "ipython",
    "version": 3
   },
   "file_extension": ".py",
   "mimetype": "text/x-python",
   "name": "python",
   "nbconvert_exporter": "python",
   "pygments_lexer": "ipython3",
   "version": "3.13.5"
  }
 },
 "nbformat": 4,
 "nbformat_minor": 5
}
